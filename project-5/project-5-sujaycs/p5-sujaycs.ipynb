{
 "cells": [
  {
   "cell_type": "markdown",
   "metadata": {},
   "source": [
    "# P5 Starter - Time Series Analysis \n",
    "\n",
    "### Statistical Modeling to Deep Learning"
   ]
  },
  {
   "cell_type": "markdown",
   "metadata": {},
   "source": [
    "##  Imports & Sanity Check (Do NOT Change)"
   ]
  },
  {
   "cell_type": "code",
   "execution_count": 1,
   "metadata": {
    "_cell_guid": "b1076dfc-b9ad-4769-8c92-a6c4dae69d19",
    "_uuid": "8f2839f25d086af736a60e9eeb907d3b93b6e0e5",
    "execution": {
     "iopub.execute_input": "2025-04-18T17:48:40.842952Z",
     "iopub.status.busy": "2025-04-18T17:48:40.842536Z",
     "iopub.status.idle": "2025-04-18T17:48:43.098850Z",
     "shell.execute_reply": "2025-04-18T17:48:43.097624Z",
     "shell.execute_reply.started": "2025-04-18T17:48:40.842922Z"
    },
    "trusted": true
   },
   "outputs": [
    {
     "data": {
      "text/html": [
       "        <script type=\"text/javascript\">\n",
       "        window.PlotlyConfig = {MathJaxConfig: 'local'};\n",
       "        if (window.MathJax && window.MathJax.Hub && window.MathJax.Hub.Config) {window.MathJax.Hub.Config({SVG: {font: \"STIX-Web\"}});}\n",
       "        if (typeof require !== 'undefined') {\n",
       "        require.undef(\"plotly\");\n",
       "        requirejs.config({\n",
       "            paths: {\n",
       "                'plotly': ['https://cdn.plot.ly/plotly-2.35.2.min']\n",
       "            }\n",
       "        });\n",
       "        require(['plotly'], function(Plotly) {\n",
       "            window._Plotly = Plotly;\n",
       "        });\n",
       "        }\n",
       "        </script>\n",
       "        "
      ]
     },
     "metadata": {},
     "output_type": "display_data"
    },
    {
     "name": "stdout",
     "output_type": "stream",
     "text": [
      "/kaggle/input/helper/helper.py\n",
      "/kaggle/input/cs-639-p-5-spring-25-time-series-forecasting/store-sales-time-series-forecasting/oil.csv\n",
      "/kaggle/input/cs-639-p-5-spring-25-time-series-forecasting/store-sales-time-series-forecasting/sample_submission.csv\n",
      "/kaggle/input/cs-639-p-5-spring-25-time-series-forecasting/store-sales-time-series-forecasting/holidays_events.csv\n",
      "/kaggle/input/cs-639-p-5-spring-25-time-series-forecasting/store-sales-time-series-forecasting/stores.csv\n",
      "/kaggle/input/cs-639-p-5-spring-25-time-series-forecasting/store-sales-time-series-forecasting/train.csv\n",
      "/kaggle/input/cs-639-p-5-spring-25-time-series-forecasting/store-sales-time-series-forecasting/test.csv\n",
      "/kaggle/input/cs-639-p-5-spring-25-time-series-forecasting/store-sales-time-series-forecasting/transactions.csv\n"
     ]
    }
   ],
   "source": [
    "import numpy as np \n",
    "import pandas as pd \n",
    "import os\n",
    "from tqdm.notebook import tqdm\n",
    "import statsmodels.api as sm # PACF, ACF\n",
    "from typing import Tuple, List\n",
    "\n",
    "# Viz:\n",
    "import matplotlib.pyplot as plt\n",
    "import seaborn as sns\n",
    "import plotly.express as px\n",
    "import plotly.graph_objects as go\n",
    "from plotly.offline import init_notebook_mode, iplot\n",
    "init_notebook_mode(connected=True)\n",
    "\n",
    "for dirname, _, filenames in os.walk('/kaggle/input'):\n",
    "    for filename in filenames:\n",
    "        print(os.path.join(dirname, filename))"
   ]
  },
  {
   "cell_type": "code",
   "execution_count": 2,
   "metadata": {
    "execution": {
     "iopub.execute_input": "2025-04-18T17:48:43.100707Z",
     "iopub.status.busy": "2025-04-18T17:48:43.100285Z",
     "iopub.status.idle": "2025-04-18T17:48:43.114106Z",
     "shell.execute_reply": "2025-04-18T17:48:43.112555Z",
     "shell.execute_reply.started": "2025-04-18T17:48:43.100682Z"
    },
    "trusted": true
   },
   "outputs": [],
   "source": [
    "import importlib.util\n",
    "import sys\n",
    "\n",
    "file_path = '/kaggle/input/helper/helper.py'  # full path to the file\n",
    "\n",
    "spec = importlib.util.spec_from_file_location(\"helper\", file_path)\n",
    "helper = importlib.util.module_from_spec(spec)\n",
    "sys.modules[\"helper\"] = helper\n",
    "spec.loader.exec_module(helper)"
   ]
  },
  {
   "cell_type": "markdown",
   "metadata": {},
   "source": [
    "## Helper Utilities. Read the Function names at least so that you are not re-writing code\n",
    "\n",
    "* **make_submission**: Helps you convert your predictions to competition submission ready files.\n",
    "* **rmsle**: Implementation of the metric used to evaluate your score on the leaderboard.\n",
    "* **lgbm_rmsle**: Definition that can be used to do train-val type training while printing metric scores.\n",
    "* **data import**: Imports the necessary files into the notebook\n",
    "* **preprocess_holidays**: Performs some necessary cleaning on the holiday dataset\n",
    "* **preprocess_test_train**: Performs some necessary cleaning on the test and train dataset"
   ]
  },
  {
   "cell_type": "markdown",
   "metadata": {},
   "source": [
    "## Load the data (Do NOT Change)"
   ]
  },
  {
   "cell_type": "code",
   "execution_count": 3,
   "metadata": {
    "execution": {
     "iopub.execute_input": "2025-04-18T17:48:43.116505Z",
     "iopub.status.busy": "2025-04-18T17:48:43.115370Z",
     "iopub.status.idle": "2025-04-18T17:48:47.083565Z",
     "shell.execute_reply": "2025-04-18T17:48:47.082699Z",
     "shell.execute_reply.started": "2025-04-18T17:48:43.116457Z"
    },
    "trusted": true
   },
   "outputs": [],
   "source": [
    "#########################\n",
    "# DO NOT CHANGE\n",
    "#########################\n",
    "train, test, stores, transactions, oil, holidays = helper.data_import()\n",
    "holidays, regional, national, local, events, work_day, _, _, _ = helper.preprocess_holidays(holidays)"
   ]
  },
  {
   "cell_type": "markdown",
   "metadata": {},
   "source": [
    "## Section 1: EDA & Feature Engineering"
   ]
  },
  {
   "cell_type": "markdown",
   "metadata": {},
   "source": [
    "### Q1 Left join transaction to train and then print the Spearman Correlation between Total Sales and Transactions."
   ]
  },
  {
   "cell_type": "code",
   "execution_count": 4,
   "metadata": {
    "execution": {
     "iopub.execute_input": "2025-04-18T17:48:47.085891Z",
     "iopub.status.busy": "2025-04-18T17:48:47.085346Z",
     "iopub.status.idle": "2025-04-18T17:48:48.775977Z",
     "shell.execute_reply": "2025-04-18T17:48:48.774918Z",
     "shell.execute_reply.started": "2025-04-18T17:48:47.085863Z"
    },
    "trusted": true
   },
   "outputs": [
    {
     "name": "stdout",
     "output_type": "stream",
     "text": [
      "Spearman Correlation between Total Sales and Transactions: 0.8177779231888965\n"
     ]
    }
   ],
   "source": [
    "#q1\n",
    "train['source'] = 'train'\n",
    "test['source'] = 'test'\n",
    "test['sales'] = np.nan\n",
    "test['sales'] = test['sales'].astype('float32')\n",
    "\n",
    "merged_df = pd.concat([train, test], axis=0).reset_index(drop=True)\n",
    "\n",
    "merged_df = pd.merge(\n",
    "    merged_df,\n",
    "    transactions,\n",
    "    on=['date', 'store_nbr'],\n",
    "    how='left'\n",
    ")\n",
    "\n",
    "train_with_transactions = merged_df[merged_df['source'] == 'train']\n",
    "\n",
    "grouped_by_date = train_with_transactions.groupby(['date', 'store_nbr']).agg({\n",
    "    'sales': 'sum',\n",
    "    'transactions': 'mean'\n",
    "}).reset_index()\n",
    "\n",
    "spearman_corr = grouped_by_date['sales'].corr(grouped_by_date['transactions'], method='spearman')\n",
    "\n",
    "print(f\"Spearman Correlation between Total Sales and Transactions: {spearman_corr}\")"
   ]
  },
  {
   "cell_type": "markdown",
   "metadata": {},
   "source": [
    "### Q2 Plot an 'ordinary least squares' trendline between transactions and sales to verify the spearman correlation value in Q1. [0.1 Points]"
   ]
  },
  {
   "cell_type": "code",
   "execution_count": 5,
   "metadata": {
    "execution": {
     "iopub.execute_input": "2025-04-18T17:48:48.777402Z",
     "iopub.status.busy": "2025-04-18T17:48:48.777079Z",
     "iopub.status.idle": "2025-04-18T17:48:49.398403Z",
     "shell.execute_reply": "2025-04-18T17:48:49.397115Z",
     "shell.execute_reply.started": "2025-04-18T17:48:48.777370Z"
    },
    "trusted": true
   },
   "outputs": [],
   "source": [
    "#q2\n",
    "fig_q2 = px.scatter(\n",
    "    grouped_by_date,\n",
    "    x='transactions',\n",
    "    y='sales',\n",
    "    trendline='ols',\n",
    "    trendline_color_override=\"red\",\n",
    "    title='OLS Trendline Between Transactions and Total Sales',\n",
    "    labels={'transactions': 'Average Transactions', 'sales': 'Total Sales'}\n",
    ")\n",
    "\n",
    "fig_q2.write_html(\"q2.html\")"
   ]
  },
  {
   "cell_type": "markdown",
   "metadata": {},
   "source": [
    "### Q3 Plot these line charts in the notebook:\n",
    "\n",
    "A) Transactions vs Date (all stores color coded in the same plot) \n",
    "\n",
    "B) Average monthly transactions\n",
    "\n",
    " C) Average Transactions on the days of the wee)\n"
   ]
  },
  {
   "cell_type": "code",
   "execution_count": 6,
   "metadata": {
    "execution": {
     "iopub.execute_input": "2025-04-18T17:48:49.400791Z",
     "iopub.status.busy": "2025-04-18T17:48:49.400350Z",
     "iopub.status.idle": "2025-04-18T17:48:50.337601Z",
     "shell.execute_reply": "2025-04-18T17:48:50.336412Z",
     "shell.execute_reply.started": "2025-04-18T17:48:49.400751Z"
    },
    "trusted": true
   },
   "outputs": [],
   "source": [
    "#q3 - Plot A\n",
    "fig_q3a = px.line(\n",
    "    transactions,\n",
    "    x='date',\n",
    "    y='transactions',\n",
    "    color='store_nbr',\n",
    "    title='Transactions Over Time by Store',\n",
    "    labels={'date': 'Date', 'transactions': 'Transactions'}\n",
    ")\n",
    "\n",
    "fig_q3a.update_xaxes(tickformat='%Y') \n",
    "\n",
    "fig_q3a.write_html('q3a.html')"
   ]
  },
  {
   "cell_type": "code",
   "execution_count": 7,
   "metadata": {
    "execution": {
     "iopub.execute_input": "2025-04-18T17:48:50.338958Z",
     "iopub.status.busy": "2025-04-18T17:48:50.338696Z",
     "iopub.status.idle": "2025-04-18T17:48:50.455260Z",
     "shell.execute_reply": "2025-04-18T17:48:50.454188Z",
     "shell.execute_reply.started": "2025-04-18T17:48:50.338936Z"
    },
    "trusted": true
   },
   "outputs": [],
   "source": [
    "#q3 - Plot B\n",
    "transactions['month'] = transactions['date'].dt.month_name()\n",
    "monthly_avg = transactions.groupby('month')['transactions'].mean().reset_index()\n",
    "\n",
    "month_order = ['January', 'February', 'March', 'April', 'May', 'June',\n",
    "               'July', 'August', 'September', 'October', 'November', 'December']\n",
    "monthly_avg['month'] = pd.Categorical(monthly_avg['month'], categories=month_order, ordered=True)\n",
    "monthly_avg = monthly_avg.sort_values('month')\n",
    "\n",
    "\n",
    "fig_q3b = px.line(\n",
    "    monthly_avg,\n",
    "    x='month',\n",
    "    y='transactions',\n",
    "    title='Average Monthly Transactions',\n",
    "    labels={'month': 'Month', 'transactions': 'Average Transactions'}\n",
    ")\n",
    "\n",
    "fig_q3b.update_xaxes(tickformat='%b')\n",
    "\n",
    "fig_q3b.write_html(\"q3b.html\")"
   ]
  },
  {
   "cell_type": "code",
   "execution_count": 8,
   "metadata": {
    "execution": {
     "iopub.execute_input": "2025-04-18T17:48:50.456656Z",
     "iopub.status.busy": "2025-04-18T17:48:50.456353Z",
     "iopub.status.idle": "2025-04-18T17:48:50.569506Z",
     "shell.execute_reply": "2025-04-18T17:48:50.568383Z",
     "shell.execute_reply.started": "2025-04-18T17:48:50.456631Z"
    },
    "trusted": true
   },
   "outputs": [],
   "source": [
    "#q3 - Plot C\n",
    "transactions['day_of_week'] = transactions['date'].dt.day_name()\n",
    "weekday_avg = transactions.groupby('day_of_week')['transactions'].mean().reset_index()\n",
    "\n",
    "\n",
    "weekday_order = ['Monday', 'Tuesday', 'Wednesday', 'Thursday', 'Friday', 'Saturday', 'Sunday']\n",
    "weekday_avg['day_of_week'] = pd.Categorical(weekday_avg['day_of_week'], categories=weekday_order, ordered=True)\n",
    "weekday_avg = weekday_avg.sort_values('day_of_week')\n",
    "\n",
    "fig_q3c = px.line(\n",
    "    weekday_avg,\n",
    "    x='day_of_week',\n",
    "    y='transactions',\n",
    "    title='Average Transactions by Day of the Week',\n",
    "    labels={'day_of_week': 'Day of Week', 'transactions': 'Average Transactions'}\n",
    ")\n",
    "\n",
    "fig_q3c.write_html(\"q3c.html\")"
   ]
  },
  {
   "cell_type": "markdown",
   "metadata": {},
   "source": [
    "### Q4 Use pandas' in-build (linear) interpolation to impute the missing oil values then overlay the imputed feature over the original.\n",
    "\n",
    "Your new feature column should be called: `dcoilwtico_interpolated`"
   ]
  },
  {
   "cell_type": "code",
   "execution_count": 9,
   "metadata": {
    "execution": {
     "iopub.execute_input": "2025-04-18T17:48:50.571244Z",
     "iopub.status.busy": "2025-04-18T17:48:50.570844Z",
     "iopub.status.idle": "2025-04-18T17:48:50.653417Z",
     "shell.execute_reply": "2025-04-18T17:48:50.652216Z",
     "shell.execute_reply.started": "2025-04-18T17:48:50.571214Z"
    },
    "trusted": true
   },
   "outputs": [],
   "source": [
    "#q4\n",
    "# Interpolate. \n",
    "oil['dcoilwtico_interpolated'] = oil['dcoilwtico'].interpolate(method='linear')\n",
    "\n",
    "# Plot\n",
    "fig = go.Figure()\n",
    "\n",
    "fig.add_trace(go.Scatter(\n",
    "    x=oil['date'],\n",
    "    y=oil['dcoilwtico'],\n",
    "    mode='lines',\n",
    "    name='Original',\n",
    "    line=dict(color='darkblue', width=2),\n",
    "    opacity=0.6\n",
    "))\n",
    "\n",
    "fig.add_trace(go.Scatter(\n",
    "    x=oil['date'],\n",
    "    y=oil['dcoilwtico_interpolated'],\n",
    "    mode='lines',\n",
    "    name='Interpolated',\n",
    "    line=dict(color='red', width=2, dash='dash')\n",
    "))\n",
    "\n",
    "fig.update_layout(\n",
    "    title='Oil Prices: Original vs Interpolated',\n",
    "    xaxis_title='Date',\n",
    "    yaxis_title='Oil Price',\n",
    "    legend_title='Legend',\n",
    "    template='plotly_white'\n",
    ")\n",
    "\n",
    "fig.write_html(\"q4.html\")"
   ]
  },
  {
   "cell_type": "markdown",
   "metadata": {},
   "source": [
    "### Q5 Again, left join oil on the dataframe above and report the spearman correlation between oil and sales and oil and transactions"
   ]
  },
  {
   "cell_type": "code",
   "execution_count": 10,
   "metadata": {
    "execution": {
     "iopub.execute_input": "2025-04-18T17:48:50.657803Z",
     "iopub.status.busy": "2025-04-18T17:48:50.657497Z",
     "iopub.status.idle": "2025-04-18T17:48:51.547970Z",
     "shell.execute_reply": "2025-04-18T17:48:51.547128Z",
     "shell.execute_reply.started": "2025-04-18T17:48:50.657782Z"
    },
    "trusted": true
   },
   "outputs": [
    {
     "name": "stdout",
     "output_type": "stream",
     "text": [
      "Correlation Between Oil and Sales: -0.3172626697554721\n",
      "Correlation Between Oil and Transactions: 0.03799680292119282\n"
     ]
    }
   ],
   "source": [
    "#q5\n",
    "# Find correlation with sales & transactions\n",
    "merged_df = pd.merge(\n",
    "    merged_df,\n",
    "    oil[['date', 'dcoilwtico_interpolated']],\n",
    "    on='date',\n",
    "    how='left'\n",
    ")\n",
    "\n",
    "train_with_oil_and_transactions = merged_df[merged_df['source'] == 'train']\n",
    "\n",
    "\n",
    "grouped_by_date_with_oil = train_with_oil_and_transactions.groupby(['date', 'store_nbr']).agg({\n",
    "    'sales': 'sum',\n",
    "    'transactions': 'mean',\n",
    "    'dcoilwtico_interpolated': 'mean'\n",
    "}).reset_index()\n",
    "\n",
    "spearman_corr_sales = grouped_by_date_with_oil['sales'].corr(grouped_by_date_with_oil['dcoilwtico_interpolated'], method='spearman')\n",
    "spearman_corr_transactions = grouped_by_date_with_oil['transactions'].corr(grouped_by_date_with_oil['dcoilwtico_interpolated'], method='spearman')\n",
    "\n",
    "\n",
    "print(f\"Correlation Between Oil and Sales: {spearman_corr_sales}\")\n",
    "print(f\"Correlation Between Oil and Transactions: {spearman_corr_transactions}\")"
   ]
  },
  {
   "cell_type": "markdown",
   "metadata": {},
   "source": [
    "### Q6 Report the top-3 highest negative correlations between oil and sales of a particular product family. Now think whether oil should be discarded as a feature?"
   ]
  },
  {
   "cell_type": "code",
   "execution_count": 11,
   "metadata": {
    "execution": {
     "iopub.execute_input": "2025-04-18T17:48:51.549286Z",
     "iopub.status.busy": "2025-04-18T17:48:51.548991Z",
     "iopub.status.idle": "2025-04-18T17:48:53.512142Z",
     "shell.execute_reply": "2025-04-18T17:48:53.511098Z",
     "shell.execute_reply.started": "2025-04-18T17:48:51.549265Z"
    },
    "trusted": true
   },
   "outputs": [
    {
     "name": "stdout",
     "output_type": "stream",
     "text": [
      "Top 3 families with highest negative correlation with oil prices: family\n",
      "HOME AND KITCHEN II   -0.652518\n",
      "HOME AND KITCHEN I    -0.593218\n",
      "HOME CARE             -0.541245\n",
      "dtype: float64\n"
     ]
    },
    {
     "name": "stderr",
     "output_type": "stream",
     "text": [
      "/tmp/ipykernel_12848/1546195165.py:10: DeprecationWarning:\n",
      "\n",
      "DataFrameGroupBy.apply operated on the grouping columns. This behavior is deprecated, and in a future version of pandas the grouping columns will be excluded from the operation. Either pass `include_groups=False` to exclude the groupings or explicitly select the grouping columns after groupby to silence this warning.\n",
      "\n"
     ]
    }
   ],
   "source": [
    "#q6\n",
    "# Calculate all correlations\n",
    "train_with_oil = pd.merge(\n",
    "    train,\n",
    "    oil[['date', 'dcoilwtico_interpolated']],\n",
    "    on='date',\n",
    "    how='left'\n",
    ")\n",
    "\n",
    "correlations = train_with_oil.groupby('family').apply(\n",
    "    lambda group: group[['dcoilwtico_interpolated', 'sales']].corr(method='spearman').loc['dcoilwtico_interpolated', 'sales']\n",
    ").sort_values()\n",
    "\n",
    "# Report the top 3\n",
    "top_3_negative_correlations = correlations.head(3)\n",
    "print(f\"Top 3 families with highest negative correlation with oil prices: {top_3_negative_correlations}\")"
   ]
  },
  {
   "cell_type": "markdown",
   "metadata": {},
   "source": [
    "No, oil should not be discarded as a feature. As we can see from the top 3 negative correlations, certain product families show strong negative correlations to oil prices. This indicates that oil prices can significantly impact the sales of non-essential and discretionary products and suggests that oil prices can be a valuable predictor in modeling sales behavior for certain segments. Moreover, considering that the dataset pertains to Ecuador, an oil-dependent country, including oil as a feature aligns well with domain knowledge.\n",
    "\n",
    "However, the impact of oil prices is not uniform across all product families. Sales of essential goods show weak or near-zero correlation with oil prices. This aligns with our intuition that consumers continue purchasing necessities regardless of economic shifts.\n",
    "\n",
    "Therefore, oil should be retained as a feature, but applied cautiously.\n",
    "\n"
   ]
  },
  {
   "cell_type": "markdown",
   "metadata": {},
   "source": [
    "### Q7. Implement the One hot encode function \n",
    "\n",
    "You just have to finish the one-hot encoder function definition for this one."
   ]
  },
  {
   "cell_type": "code",
   "execution_count": 12,
   "metadata": {
    "execution": {
     "iopub.execute_input": "2025-04-18T17:48:53.513337Z",
     "iopub.status.busy": "2025-04-18T17:48:53.513039Z",
     "iopub.status.idle": "2025-04-18T17:48:53.519283Z",
     "shell.execute_reply": "2025-04-18T17:48:53.517967Z",
     "shell.execute_reply.started": "2025-04-18T17:48:53.513315Z"
    },
    "trusted": true
   },
   "outputs": [],
   "source": [
    "#q7\n",
    "def one_hot_encoder(df, nan_as_category=True) -> Tuple[pd.DataFrame, List[str]]:\n",
    "    # One hot encoding (pandas can do it on 1 line!) \n",
    "    df_encoded = pd.get_dummies(\n",
    "    df,\n",
    "    columns=df.select_dtypes(include=['object', 'category']).columns,\n",
    "    dummy_na=nan_as_category)\n",
    "    # Replace \" \" with \"_\" in column names.\n",
    "    df_encoded.columns = df_encoded.columns.str.replace(' ', '_')\n",
    "    # Store the new columns in a list\n",
    "    new_columns = list(df_encoded.columns)\n",
    "    # Return the new dataframe and all the columns (as a list)\n",
    "    return df_encoded, new_columns"
   ]
  },
  {
   "cell_type": "code",
   "execution_count": 13,
   "metadata": {
    "execution": {
     "iopub.execute_input": "2025-04-18T17:48:53.520572Z",
     "iopub.status.busy": "2025-04-18T17:48:53.520272Z",
     "iopub.status.idle": "2025-04-18T17:50:06.647670Z",
     "shell.execute_reply": "2025-04-18T17:50:06.646784Z",
     "shell.execute_reply.started": "2025-04-18T17:48:53.520541Z"
    },
    "trusted": true
   },
   "outputs": [],
   "source": [
    "#########################\n",
    "# DO NOT CHANGE. \n",
    "# NOTE: Run this after you have implemented the one_hot_encoder function above.\n",
    "#########################\n",
    "\n",
    "train, test = helper.preprocess_test_train(merged_df, one_hot_encoder, stores)\n",
    "\n",
    "train_cols = set(train.columns) - {'sales'}\n",
    "test_cols = set(test.columns)\n",
    "\n",
    "common_cols = train_cols & test_cols\n",
    "\n",
    "train = train[list(common_cols) + ['sales']]\n",
    "test = test[list(common_cols)]"
   ]
  },
  {
   "cell_type": "markdown",
   "metadata": {},
   "source": [
    "## Section 2"
   ]
  },
  {
   "cell_type": "markdown",
   "metadata": {},
   "source": [
    "### Q8. EMA\n",
    "\n",
    "Forecast window should be >=15 days since the test set is 15 days. **For this question use 16 as the forecast window**"
   ]
  },
  {
   "cell_type": "code",
   "execution_count": 14,
   "metadata": {
    "execution": {
     "iopub.execute_input": "2025-04-18T17:50:06.649149Z",
     "iopub.status.busy": "2025-04-18T17:50:06.648733Z",
     "iopub.status.idle": "2025-04-18T17:50:08.308828Z",
     "shell.execute_reply": "2025-04-18T17:50:08.307833Z",
     "shell.execute_reply.started": "2025-04-18T17:50:06.649118Z"
    },
    "trusted": true
   },
   "outputs": [],
   "source": [
    "# Train EMAs for each family per store (pandas has an inbuilt ema function!)\n",
    "train_data = merged_df[merged_df['source'] == 'train'].copy()\n",
    "\n",
    "ema_lookup = (\n",
    "    train_data.sort_values('date')\n",
    "    .groupby(['store_nbr', 'family'])['sales']\n",
    "    .apply(lambda x: x.ewm(span=16, adjust=False).mean().iloc[-1])\n",
    "    .reset_index()\n",
    "    .rename(columns={'sales': 'ema_prediction'})\n",
    ")\n",
    "\n",
    "test_data = merged_df[merged_df['source'] == 'test'].copy()\n",
    "\n",
    "test_with_ema = pd.merge(\n",
    "    test_data,\n",
    "    ema_lookup,\n",
    "    on=['store_nbr', 'family'],\n",
    "    how='left'\n",
    ")\n",
    "\n",
    "ema_forecast = test_with_ema['ema_prediction'].fillna(0)"
   ]
  },
  {
   "cell_type": "code",
   "execution_count": 15,
   "metadata": {
    "execution": {
     "iopub.execute_input": "2025-04-18T17:50:08.310280Z",
     "iopub.status.busy": "2025-04-18T17:50:08.309912Z",
     "iopub.status.idle": "2025-04-18T17:50:08.490857Z",
     "shell.execute_reply": "2025-04-18T17:50:08.489816Z",
     "shell.execute_reply.started": "2025-04-18T17:50:08.310251Z"
    },
    "trusted": true
   },
   "outputs": [],
   "source": [
    "# Make the predictions\n",
    "\n",
    "# Use the make_submission utility function provided to save a submission CSV. \n",
    "\n",
    "# Submit to competition and note your RMSLE score somewhere for this model type.\n",
    "\n",
    "# NOTE - 1: You still need to go on the right panel and click submit \n",
    "# (make_submission will NOT submit to competition -> It just makes a submission ready file)\n",
    "# NOTE - 2: Ensure that you are not overwriting your submission.csv file in subsequent cells.\n",
    "\n",
    "# Use the make_submission utility function provided to save a submission CSV.\n",
    "\n",
    "helper.make_submission(ema_forecast, file_name=\"EMA_results.csv\")\n",
    "ema_submission = pd.read_csv('EMA_results.csv')\n",
    "ema_submission.to_csv('submission.csv', index=False)"
   ]
  },
  {
   "cell_type": "markdown",
   "metadata": {},
   "source": [
    "### Q9. PACF and ACF\n",
    "\n",
    "Use lib sm \n",
    "\n",
    "(statsmodel.api is already imported as sm)"
   ]
  },
  {
   "cell_type": "markdown",
   "metadata": {},
   "source": [
    "ACF stands for Auto Correlation Function.\n",
    "It measures the correlation of a time series with its own past values.\n",
    "ACF at lag k tells us how correlated the series is with itself k time series units ago.\n",
    "\n",
    "PACF stands for Partial Auto Correlation Function.\n",
    "It measures the direct correlation between a time series and its lag k while removing the influence of any intermediate lags (1 to k-1). "
   ]
  },
  {
   "cell_type": "code",
   "execution_count": 16,
   "metadata": {
    "execution": {
     "iopub.execute_input": "2025-04-18T17:50:08.492168Z",
     "iopub.status.busy": "2025-04-18T17:50:08.491840Z",
     "iopub.status.idle": "2025-04-18T17:50:09.975127Z",
     "shell.execute_reply": "2025-04-18T17:50:09.974257Z",
     "shell.execute_reply.started": "2025-04-18T17:50:08.492146Z"
    },
    "trusted": true
   },
   "outputs": [
    {
     "data": {
      "image/png": "[encoded data removed]",
      "text/plain": [
       "<Figure size 1600x500 with 2 Axes>"
      ]
     },
     "metadata": {},
     "output_type": "display_data"
    }
   ],
   "source": [
    "from statsmodels.graphics.tsaplots import plot_pacf\n",
    "from statsmodels.graphics.tsaplots import plot_acf\n",
    "\n",
    "train_daily_sales = train[train['sales'].notna()].groupby('date')['sales'].sum()\n",
    "\n",
    "fig, axes = plt.subplots(1, 2, figsize=(16, 5))\n",
    "\n",
    "plot_acf(train_daily_sales, ax=axes[0], lags=20)\n",
    "axes[0].set_title('ACF of Total Daily Sales (Lag 20)')\n",
    "\n",
    "plot_pacf(train_daily_sales, ax=axes[1], lags=20)\n",
    "axes[1].set_title('PACF of Total Daily Sales (Lag 20)')\n",
    "\n",
    "plt.tight_layout()\n",
    "plt.savefig(\"q9.png\")\n",
    "plt.show()"
   ]
  },
  {
   "cell_type": "markdown",
   "metadata": {},
   "source": [
    "ACF Plot Interpretation:\n",
    "The plot shows strong positive autocorrelation across all lags upto lag 20. The autocorrelation also decays very slowly and does not cut off quickly. Spikes in the plot around lags 7, 14, 21 indicate a weekly seasonality.\n",
    "\n",
    "PACF Plot Interpretation:\n",
    "The plot shows a high value at lag 1 followed by moderate spikes up to around lag 7 after which the values tail off. This indicates that the current day's sales are directly influenced by the past 7 days further implying a weekly seasonality."
   ]
  },
  {
   "cell_type": "markdown",
   "metadata": {},
   "source": [
    "### Q10. ADF Test -> ARIMA"
   ]
  },
  {
   "cell_type": "markdown",
   "metadata": {},
   "source": [
    "#### Differencing technique\n",
    "This process is meant to transform the time series data to stationary, as ARIMA model only works with stationary time series data."
   ]
  },
  {
   "cell_type": "code",
   "execution_count": 17,
   "metadata": {
    "execution": {
     "iopub.execute_input": "2025-04-18T17:50:09.976567Z",
     "iopub.status.busy": "2025-04-18T17:50:09.976287Z",
     "iopub.status.idle": "2025-04-18T17:50:09.982403Z",
     "shell.execute_reply": "2025-04-18T17:50:09.981426Z",
     "shell.execute_reply.started": "2025-04-18T17:50:09.976546Z"
    },
    "trusted": true
   },
   "outputs": [],
   "source": [
    "# 1. Compute and store the diff series\n",
    "# 2. Drop NA or any other erroneous values.\n",
    "diff_series = train_daily_sales.diff().dropna()"
   ]
  },
  {
   "cell_type": "code",
   "execution_count": 18,
   "metadata": {
    "execution": {
     "iopub.execute_input": "2025-04-18T17:50:09.983941Z",
     "iopub.status.busy": "2025-04-18T17:50:09.983569Z",
     "iopub.status.idle": "2025-04-18T17:50:10.343470Z",
     "shell.execute_reply": "2025-04-18T17:50:10.342160Z",
     "shell.execute_reply.started": "2025-04-18T17:50:09.983908Z"
    },
    "trusted": true
   },
   "outputs": [
    {
     "data": {
      "image/png": "[encoded data removed]",
      "text/plain": [
       "<Figure size 1000x600 with 1 Axes>"
      ]
     },
     "metadata": {},
     "output_type": "display_data"
    }
   ],
   "source": [
    "\n",
    "# Plot the ACF\n",
    "fig, ax = plt.subplots(figsize=(10, 6))\n",
    "\n",
    "##########\n",
    "# Your plot code goes here:\n",
    "##########\n",
    "plot_acf(diff_series, ax=ax, lags=20)\n",
    "plt.xlabel('Lag')\n",
    "plt.ylabel('Autocorrelation')\n",
    "plt.title('ACF of Differenced Sales Series')\n",
    "plt.tight_layout()\n",
    "plt.savefig(\"q10.png\")\n",
    "plt.show()\n",
    "\n",
    "##########"
   ]
  },
  {
   "cell_type": "markdown",
   "metadata": {},
   "source": [
    "### Augmented Dickey-Fuller (ADF) test\n",
    "\n",
    "The Augmented Dickey-Fuller (ADF) test is a statistical test used to determine whether a time series is stationary or non-stationary. Stationarity is an important assumption in many time series analysis models.\n",
    "\n",
    "The ADF test evaluates the null hypothesis that the time series has a unit root, indicating non-stationarity. The alternative hypothesis is that the time series is stationary.\n",
    "\n",
    "When performing the ADF test, we obtain the ADF statistic and the p-value. The ADF statistic is a negative number and the more negative it is, the stronger the evidence against the null hypothesis. The p-value represents the probability of observing the ADF statistic or a more extreme value if the null hypothesis were true. A low p-value (below a chosen significance level, typically 0.05) indicates strong evidence against the null hypothesis and suggests that the time series is stationary."
   ]
  },
  {
   "cell_type": "code",
   "execution_count": 19,
   "metadata": {
    "execution": {
     "iopub.execute_input": "2025-04-18T17:50:10.344884Z",
     "iopub.status.busy": "2025-04-18T17:50:10.344586Z",
     "iopub.status.idle": "2025-04-18T17:50:10.350087Z",
     "shell.execute_reply": "2025-04-18T17:50:10.348931Z",
     "shell.execute_reply.started": "2025-04-18T17:50:10.344860Z"
    },
    "trusted": true
   },
   "outputs": [],
   "source": [
    "from statsmodels.tsa.stattools import adfuller\n",
    "from statsmodels.tsa.arima.model import ARIMA"
   ]
  },
  {
   "cell_type": "code",
   "execution_count": 20,
   "metadata": {
    "execution": {
     "iopub.execute_input": "2025-04-18T17:50:10.351583Z",
     "iopub.status.busy": "2025-04-18T17:50:10.351219Z",
     "iopub.status.idle": "2025-04-18T17:50:10.422662Z",
     "shell.execute_reply": "2025-04-18T17:50:10.421714Z",
     "shell.execute_reply.started": "2025-04-18T17:50:10.351554Z"
    },
    "trusted": true
   },
   "outputs": [
    {
     "name": "stdout",
     "output_type": "stream",
     "text": [
      "ADF Statistic: -11.553711234361751\n",
      "p-value: 3.3987504192949185e-21\n"
     ]
    }
   ],
   "source": [
    "# 1. Perform the ADF test\n",
    "adf_result = adfuller(diff_series)\n",
    "# 2. Extract the test statistics and p-value\n",
    "adf_statistic, p_value = adf_result[0:2]\n",
    "# 3. Print these values\n",
    "print(f\"ADF Statistic: {adf_statistic}\")\n",
    "print(f\"p-value: {p_value}\")"
   ]
  },
  {
   "cell_type": "markdown",
   "metadata": {},
   "source": [
    "The ADF statistic is (around) -11.4. This statistic is a negative value and is more negative than the critical values at common significance levels. This suggests strong evidence against the null hypothesis of a unit root, indicating that the time series is stationary.\n",
    "\n",
    "The p-values (around)  i6.76e-2121, which is a very small value close to zero. Typically, if the p-value is below a chosen significance level (e.g., 0.05), it indicates strong evidence to reject the null hypothesis. In your case, the extremely small p-value suggests strong evidence against the presence of a unit root and supports the stationarity of the time series."
   ]
  },
  {
   "cell_type": "markdown",
   "metadata": {},
   "source": [
    "**TODO** Choose the right p, q and d values for your ARIMA model"
   ]
  },
  {
   "cell_type": "code",
   "execution_count": 21,
   "metadata": {
    "execution": {
     "iopub.execute_input": "2025-04-18T17:50:10.423917Z",
     "iopub.status.busy": "2025-04-18T17:50:10.423667Z",
     "iopub.status.idle": "2025-04-18T17:50:10.429283Z",
     "shell.execute_reply": "2025-04-18T17:50:10.427939Z",
     "shell.execute_reply.started": "2025-04-18T17:50:10.423899Z"
    },
    "trusted": true
   },
   "outputs": [],
   "source": [
    "# Replace with appropriate p,d,q values for ARIMA\n",
    "p_arima = 7 # PACF spikes till lag 7\n",
    "\n",
    "d_arima = 1 # d=1 makes the series stationary as per ADF test\n",
    "\n",
    "q_arima = 2 # Based on ACF plot gradual decay"
   ]
  },
  {
   "cell_type": "code",
   "execution_count": 22,
   "metadata": {
    "execution": {
     "iopub.execute_input": "2025-04-18T17:50:10.431327Z",
     "iopub.status.busy": "2025-04-18T17:50:10.430533Z",
     "iopub.status.idle": "2025-04-18T17:50:13.933940Z",
     "shell.execute_reply": "2025-04-18T17:50:13.933130Z",
     "shell.execute_reply.started": "2025-04-18T17:50:10.431298Z"
    },
    "trusted": true
   },
   "outputs": [
    {
     "name": "stderr",
     "output_type": "stream",
     "text": [
      "/usr/local/lib/python3.11/dist-packages/statsmodels/tsa/base/tsa_model.py:473: ValueWarning:\n",
      "\n",
      "A date index has been provided, but it has no associated frequency information and so will be ignored when e.g. forecasting.\n",
      "\n",
      "/usr/local/lib/python3.11/dist-packages/statsmodels/tsa/base/tsa_model.py:473: ValueWarning:\n",
      "\n",
      "A date index has been provided, but it has no associated frequency information and so will be ignored when e.g. forecasting.\n",
      "\n",
      "/usr/local/lib/python3.11/dist-packages/statsmodels/tsa/base/tsa_model.py:473: ValueWarning:\n",
      "\n",
      "A date index has been provided, but it has no associated frequency information and so will be ignored when e.g. forecasting.\n",
      "\n"
     ]
    }
   ],
   "source": [
    "# 1. Get sales series as training data (np array with appropriate dtype)\n",
    "\n",
    "# 2. Using statsmodel.tsa lib. Initialize an ARIMA model with the p,d,q params you defined. \n",
    "arima_model = ARIMA(train_daily_sales, order=(p_arima, d_arima, q_arima))\n",
    "# 3. Fit the model\n",
    "arima_model_fit = arima_model.fit()"
   ]
  },
  {
   "cell_type": "code",
   "execution_count": 23,
   "metadata": {
    "execution": {
     "iopub.execute_input": "2025-04-18T17:50:13.938358Z",
     "iopub.status.busy": "2025-04-18T17:50:13.934651Z",
     "iopub.status.idle": "2025-04-18T17:50:13.966990Z",
     "shell.execute_reply": "2025-04-18T17:50:13.966212Z",
     "shell.execute_reply.started": "2025-04-18T17:50:13.938319Z"
    },
    "trusted": true
   },
   "outputs": [
    {
     "name": "stdout",
     "output_type": "stream",
     "text": [
      "ARIMA model summary: \n",
      "                               SARIMAX Results                                \n",
      "==============================================================================\n",
      "Dep. Variable:                  sales   No. Observations:                 1669\n",
      "Model:                 ARIMA(7, 1, 2)   Log Likelihood              -21771.175\n",
      "Date:                Fri, 18 Apr 2025   AIC                          43562.350\n",
      "Time:                        17:50:13   BIC                          43616.544\n",
      "Sample:                             0   HQIC                         43582.432\n",
      "                               - 1669                                         \n",
      "Covariance Type:                  opg                                         \n",
      "==============================================================================\n",
      "                 coef    std err          z      P>|z|      [0.025      0.975]\n",
      "------------------------------------------------------------------------------\n",
      "ar.L1         -0.1188      0.083     -1.424      0.154      -0.282       0.045\n",
      "ar.L2         -0.5142      0.078     -6.598      0.000      -0.667      -0.361\n",
      "ar.L3         -0.2741      0.067     -4.065      0.000      -0.406      -0.142\n",
      "ar.L4         -0.3323      0.064     -5.199      0.000      -0.458      -0.207\n",
      "ar.L5         -0.3468      0.056     -6.165      0.000      -0.457      -0.237\n",
      "ar.L6         -0.1640      0.062     -2.651      0.008      -0.285      -0.043\n",
      "ar.L7          0.2753      0.050      5.541      0.000       0.178       0.373\n",
      "ma.L1         -0.3318      0.086     -3.878      0.000      -0.500      -0.164\n",
      "ma.L2          0.1207      0.048      2.527      0.012       0.027       0.214\n",
      "sigma2      1.278e+10   4.41e-11    2.9e+20      0.000    1.28e+10    1.28e+10\n",
      "===================================================================================\n",
      "Ljung-Box (L1) (Q):                   0.01   Jarque-Bera (JB):             30834.42\n",
      "Prob(Q):                              0.94   Prob(JB):                         0.00\n",
      "Heteroskedasticity (H):               3.01   Skew:                            -0.20\n",
      "Prob(H) (two-sided):                  0.00   Kurtosis:                        24.06\n",
      "===================================================================================\n",
      "\n",
      "Warnings:\n",
      "[1] Covariance matrix calculated using the outer product of gradients (complex-step).\n",
      "[2] Covariance matrix is singular or near-singular, with condition number 4.87e+35. Standard errors may be unstable.\n"
     ]
    }
   ],
   "source": [
    "# Print the post model fitting summary\n",
    "print(\"ARIMA model summary: \")\n",
    "print(arima_model_fit.summary())"
   ]
  },
  {
   "cell_type": "markdown",
   "metadata": {},
   "source": [
    "The MA and AR coefficients are statistically significant with most of them having p-values less than 0.05"
   ]
  },
  {
   "cell_type": "code",
   "execution_count": 24,
   "metadata": {
    "execution": {
     "iopub.execute_input": "2025-04-18T17:50:13.968767Z",
     "iopub.status.busy": "2025-04-18T17:50:13.968472Z",
     "iopub.status.idle": "2025-04-18T17:50:13.990465Z",
     "shell.execute_reply": "2025-04-18T17:50:13.989623Z",
     "shell.execute_reply.started": "2025-04-18T17:50:13.968739Z"
    },
    "trusted": true
   },
   "outputs": [
    {
     "name": "stderr",
     "output_type": "stream",
     "text": [
      "/usr/local/lib/python3.11/dist-packages/statsmodels/tsa/base/tsa_model.py:837: ValueWarning:\n",
      "\n",
      "No supported index is available. Prediction results will be given with an integer index beginning at `start`.\n",
      "\n",
      "/usr/local/lib/python3.11/dist-packages/statsmodels/tsa/base/tsa_model.py:837: FutureWarning:\n",
      "\n",
      "No supported index is available. In the next version, calling this method in a model without a supported index will result in an exception.\n",
      "\n"
     ]
    }
   ],
   "source": [
    "# Make predictions & submit to competition using your best model\n",
    "forecast = arima_model_fit.get_forecast(steps=15)\n",
    "forecast_values = forecast.predicted_mean\n",
    "forecast_df = pd.DataFrame({\n",
    "    'date': pd.date_range(start=train_daily_sales.index[-1] + pd.Timedelta(days=1), periods=15),\n",
    "    'sales': forecast_values\n",
    "})\n",
    "forecast_df.to_csv(\"ARIMA_results.csv\")"
   ]
  },
  {
   "cell_type": "markdown",
   "metadata": {},
   "source": [
    "## Section 3"
   ]
  },
  {
   "cell_type": "markdown",
   "metadata": {},
   "source": [
    "### Q11 Define a validation set. What will be the most appropriate time period for this validation set?"
   ]
  },
  {
   "cell_type": "markdown",
   "metadata": {},
   "source": [
    "In the dataset given to us:  \n",
    "Train dataset starts from: 2013-01-01 to 2017-07-31  \n",
    "Test dataset starts from:  2017-08-01 to 2017-08-15 (2 weeks)  \n",
    "\n",
    "Now, we want the validation dataset to be immediately preceding the test dataset and to be of the same duration as the test dataset to mirror the test dataset structure.   \n",
    "\n",
    "Therefore, the ideal time period for the validation set will be:  \n",
    "2017-07-18 to 2017-07-31 (previous 2 weeks).  \n"
   ]
  },
  {
   "cell_type": "code",
   "execution_count": 25,
   "metadata": {
    "execution": {
     "iopub.execute_input": "2025-04-18T17:50:13.994034Z",
     "iopub.status.busy": "2025-04-18T17:50:13.993708Z",
     "iopub.status.idle": "2025-04-18T17:50:15.319121Z",
     "shell.execute_reply": "2025-04-18T17:50:15.318260Z",
     "shell.execute_reply.started": "2025-04-18T17:50:13.994010Z"
    },
    "trusted": true
   },
   "outputs": [],
   "source": [
    "# Get the val set:\n",
    "first_date = test['date'].min()\n",
    "last_date = test['date'].max()\n",
    "\n",
    "validation_duration = last_date - first_date\n",
    "val_start_date = first_date - validation_duration\n",
    "val_end_date = first_date - pd.Timedelta(seconds=1)\n",
    "\n",
    "val = train[(train['date'] >= val_start_date) & (train['date'] <= val_end_date)]\n",
    "\n",
    "train = train[~train.index.isin(val.index)]"
   ]
  },
  {
   "cell_type": "markdown",
   "metadata": {},
   "source": [
    "### Q12. LightGBM"
   ]
  },
  {
   "cell_type": "code",
   "execution_count": 26,
   "metadata": {
    "execution": {
     "iopub.execute_input": "2025-04-18T17:50:15.321165Z",
     "iopub.status.busy": "2025-04-18T17:50:15.320756Z",
     "iopub.status.idle": "2025-04-18T17:50:17.262003Z",
     "shell.execute_reply": "2025-04-18T17:50:17.261039Z",
     "shell.execute_reply.started": "2025-04-18T17:50:15.321130Z"
    },
    "trusted": true
   },
   "outputs": [],
   "source": [
    "import lightgbm as lgb"
   ]
  },
  {
   "cell_type": "code",
   "execution_count": 27,
   "metadata": {
    "execution": {
     "iopub.execute_input": "2025-04-18T17:50:17.263831Z",
     "iopub.status.busy": "2025-04-18T17:50:17.263035Z",
     "iopub.status.idle": "2025-04-18T17:50:18.013830Z",
     "shell.execute_reply": "2025-04-18T17:50:18.012852Z",
     "shell.execute_reply.started": "2025-04-18T17:50:17.263796Z"
    },
    "trusted": true
   },
   "outputs": [],
   "source": [
    "# Process your data to the appropriate dtypes, vars, etc.\n",
    "target_col = 'sales'\n",
    "exclude_cols = ['id', 'date', 'sales']\n",
    "features = [col for col in train.columns if col not in exclude_cols]\n",
    "\n",
    "X_train = train[features]\n",
    "Y_train = train[target_col]\n",
    "\n",
    "X_val = val[features]\n",
    "Y_val = val[target_col]\n",
    "\n",
    "X_test = test[features]"
   ]
  },
  {
   "cell_type": "code",
   "execution_count": 28,
   "metadata": {
    "execution": {
     "iopub.execute_input": "2025-04-18T17:50:18.018644Z",
     "iopub.status.busy": "2025-04-18T17:50:18.018323Z",
     "iopub.status.idle": "2025-04-18T17:50:18.024099Z",
     "shell.execute_reply": "2025-04-18T17:50:18.023020Z",
     "shell.execute_reply.started": "2025-04-18T17:50:18.018619Z"
    },
    "trusted": true
   },
   "outputs": [],
   "source": [
    "# Use the lgb.Dataset method to intialize your dataset iterables.\n",
    "\n",
    "# 1. Make one for the train set:\n",
    "lgbtrain = lgb.Dataset(data=X_train, label=Y_train, feature_name=features)\n",
    "# 2. Make another for the val set you defined in Q13:\n",
    "lgbval = lgb.Dataset(data=X_val, label=Y_val, reference=lgbtrain, feature_name=features)"
   ]
  },
  {
   "cell_type": "code",
   "execution_count": 29,
   "metadata": {
    "execution": {
     "iopub.execute_input": "2025-04-18T17:50:18.025608Z",
     "iopub.status.busy": "2025-04-18T17:50:18.025302Z",
     "iopub.status.idle": "2025-04-18T17:50:18.041728Z",
     "shell.execute_reply": "2025-04-18T17:50:18.040668Z",
     "shell.execute_reply.started": "2025-04-18T17:50:18.025585Z"
    },
    "trusted": true
   },
   "outputs": [],
   "source": [
    "# Fill the dict with appropriate params:\n",
    "lgb_params = {'num_leaves': 30,\n",
    "              'learning_rate': 0.05,\n",
    "              'feature_fraction': 0.8,\n",
    "              'max_depth': 6,\n",
    "              'num_boost_round': 5000,\n",
    "              'early_stopping_rounds': 100,\n",
    "              'nthread': -1}"
   ]
  },
  {
   "cell_type": "code",
   "execution_count": 30,
   "metadata": {
    "execution": {
     "iopub.execute_input": "2025-04-18T17:50:18.043144Z",
     "iopub.status.busy": "2025-04-18T17:50:18.042732Z",
     "iopub.status.idle": "2025-04-18T17:51:06.623856Z",
     "shell.execute_reply": "2025-04-18T17:51:06.623134Z",
     "shell.execute_reply.started": "2025-04-18T17:50:18.043118Z"
    },
    "trusted": true
   },
   "outputs": [
    {
     "name": "stderr",
     "output_type": "stream",
     "text": [
      "/usr/local/lib/python3.11/dist-packages/lightgbm/engine.py:204: UserWarning:\n",
      "\n",
      "Found `num_boost_round` in params. Will use it instead of argument\n",
      "\n"
     ]
    },
    {
     "name": "stdout",
     "output_type": "stream",
     "text": [
      "[LightGBM] [Info] Auto-choosing row-wise multi-threading, the overhead of testing was 1.052635 seconds.\n",
      "You can set `force_row_wise=true` to remove the overhead.\n",
      "And if memory is not enough, you can set `force_col_wise=true`.\n",
      "[LightGBM] [Info] Total Bins 1116\n",
      "[LightGBM] [Info] Number of data points in the train set: 2951256, number of used features: 168\n",
      "[LightGBM] [Info] Start training from score 355.926499\n",
      "Training until validation scores don't improve for 100 rounds\n"
     ]
    },
    {
     "name": "stderr",
     "output_type": "stream",
     "text": [
      "/kaggle/input/helper/helper.py:44: RuntimeWarning:\n",
      "\n",
      "invalid value encountered in log1p\n",
      "\n"
     ]
    },
    {
     "name": "stdout",
     "output_type": "stream",
     "text": [
      "Early stopping, best iteration is:\n",
      "[88]\ttraining's l2: 149564\ttraining's RMSLE: nan\tvalid_1's l2: 109181\tvalid_1's RMSLE: 1.83823\n"
     ]
    }
   ],
   "source": [
    "# Complete the model initialization/train params)\n",
    "model = lgb.train(\n",
    "    lgb_params,\n",
    "    lgbtrain,\n",
    "    valid_sets=[lgbtrain, lgbval],\n",
    "    feval=helper.lgbm_rmsle\n",
    ")"
   ]
  },
  {
   "cell_type": "code",
   "execution_count": 31,
   "metadata": {
    "execution": {
     "iopub.execute_input": "2025-04-18T17:51:06.624956Z",
     "iopub.status.busy": "2025-04-18T17:51:06.624668Z",
     "iopub.status.idle": "2025-04-18T17:51:06.692522Z",
     "shell.execute_reply": "2025-04-18T17:51:06.691091Z",
     "shell.execute_reply.started": "2025-04-18T17:51:06.624923Z"
    },
    "trusted": true
   },
   "outputs": [
    {
     "name": "stdout",
     "output_type": "stream",
     "text": [
      "Validation RMSLE: 1.8337347646475084\n"
     ]
    }
   ],
   "source": [
    "# 1. Predict the sales value on your val set using the best_iteration recorded by the LGBM\n",
    "Y_val_preds = model.predict(X_val, num_iteration=model.best_iteration)\n",
    "Y_val_preds = np.clip(Y_val_preds, 0, None)\n",
    "# 2. Compute and print the RMSLE on this val set.\n",
    "val_score = helper.rmsle(Y_val_preds, Y_val)\n",
    "print(f\"Validation RMSLE: {val_score}\")"
   ]
  },
  {
   "cell_type": "code",
   "execution_count": 32,
   "metadata": {
    "execution": {
     "iopub.execute_input": "2025-04-18T17:51:06.693935Z",
     "iopub.status.busy": "2025-04-18T17:51:06.693651Z",
     "iopub.status.idle": "2025-04-18T17:51:06.972145Z",
     "shell.execute_reply": "2025-04-18T17:51:06.970450Z",
     "shell.execute_reply.started": "2025-04-18T17:51:06.693912Z"
    },
    "trusted": true
   },
   "outputs": [
    {
     "name": "stdout",
     "output_type": "stream",
     "text": [
      "Submission RMSLE for LightGBM: 1.81456\n"
     ]
    }
   ],
   "source": [
    "# 1. Pre-process your test set to appropriate format.\n",
    "# 2. Predict -> Save using make_submission -> Submit to competition\n",
    "Y_test_preds = model.predict(X_test, num_iteration=model.best_iteration)\n",
    "Y_test_preds = np.clip(Y_test_preds, 0, None)\n",
    "# 3. Note your RMSLE for LGBM\n",
    "helper.make_submission(Y_test_preds, file_name=\"LightGBM_results.csv\")\n",
    "gbm_submission = pd.read_csv('LightGBM_results.csv')\n",
    "gbm_submission.to_csv('submission.csv', index=False)\n",
    "print(f\"Submission RMSLE for LightGBM: 1.81456\")"
   ]
  },
  {
   "cell_type": "markdown",
   "metadata": {},
   "source": [
    "### Q13. CatBoost"
   ]
  },
  {
   "cell_type": "code",
   "execution_count": 33,
   "metadata": {
    "execution": {
     "iopub.execute_input": "2025-04-18T17:51:06.973880Z",
     "iopub.status.busy": "2025-04-18T17:51:06.973483Z",
     "iopub.status.idle": "2025-04-18T17:51:07.046376Z",
     "shell.execute_reply": "2025-04-18T17:51:07.045235Z",
     "shell.execute_reply.started": "2025-04-18T17:51:06.973829Z"
    },
    "trusted": true
   },
   "outputs": [],
   "source": [
    "from catboost import Pool, CatBoostRegressor"
   ]
  },
  {
   "cell_type": "code",
   "execution_count": 34,
   "metadata": {
    "execution": {
     "iopub.execute_input": "2025-04-18T17:51:07.048031Z",
     "iopub.status.busy": "2025-04-18T17:51:07.047701Z",
     "iopub.status.idle": "2025-04-18T17:51:07.057358Z",
     "shell.execute_reply": "2025-04-18T17:51:07.056028Z",
     "shell.execute_reply.started": "2025-04-18T17:51:07.048004Z"
    },
    "trusted": true
   },
   "outputs": [],
   "source": [
    "# Fill out missing params for catboost appropriately here:\n",
    "catboost_params = {\n",
    "    'iterations': 1000,           # Number of boosting rounds\n",
    "    'learning_rate': 0.05,        # Learning rate for gradient boosting\n",
    "    'depth': 6,                   # Depth of each tree\n",
    "    'loss_function': 'RMSE',      # Loss function (Root Mean Squared Error for regression)\n",
    "    'eval_metric': 'RMSE',        # Evaluation metric\n",
    "    'random_seed': 42,            # Ensures reproducibility\n",
    "    'early_stopping_rounds': 100,  # Stops training if no improvement after 50 rounds\n",
    "    'verbose': 100                # Prints training progress every 100 rounds\n",
    "}"
   ]
  },
  {
   "cell_type": "code",
   "execution_count": 35,
   "metadata": {
    "execution": {
     "iopub.execute_input": "2025-04-18T17:51:07.059011Z",
     "iopub.status.busy": "2025-04-18T17:51:07.058694Z",
     "iopub.status.idle": "2025-04-18T17:54:50.268121Z",
     "shell.execute_reply": "2025-04-18T17:54:50.266868Z",
     "shell.execute_reply.started": "2025-04-18T17:51:07.058978Z"
    },
    "trusted": true
   },
   "outputs": [
    {
     "name": "stdout",
     "output_type": "stream",
     "text": [
      "0:\tlearn: 1059.4474795\ttest: 1239.5363332\tbest: 1239.5363332 (0)\ttotal: 432ms\tremaining: 7m 11s\n",
      "100:\tlearn: 429.9049664\ttest: 375.1627276\tbest: 375.1627276 (100)\ttotal: 21.9s\tremaining: 3m 15s\n",
      "200:\tlearn: 394.1894587\ttest: 325.5704832\tbest: 325.5704832 (200)\ttotal: 43.1s\tremaining: 2m 51s\n",
      "300:\tlearn: 376.1456190\ttest: 300.3102242\tbest: 300.3102242 (300)\ttotal: 1m 3s\tremaining: 2m 27s\n",
      "400:\tlearn: 364.3469443\ttest: 287.2073382\tbest: 287.2073382 (400)\ttotal: 1m 24s\tremaining: 2m 6s\n",
      "500:\tlearn: 355.7382864\ttest: 277.8945411\tbest: 277.8945411 (500)\ttotal: 1m 46s\tremaining: 1m 45s\n",
      "600:\tlearn: 348.6513032\ttest: 270.4713081\tbest: 270.4713081 (600)\ttotal: 2m 14s\tremaining: 1m 28s\n",
      "700:\tlearn: 343.2201542\ttest: 265.1085067\tbest: 265.0618383 (698)\ttotal: 2m 35s\tremaining: 1m 6s\n",
      "800:\tlearn: 338.6499462\ttest: 260.0196461\tbest: 260.0168804 (799)\ttotal: 2m 56s\tremaining: 43.9s\n",
      "900:\tlearn: 334.2232632\ttest: 256.3384744\tbest: 256.3384744 (900)\ttotal: 3m 17s\tremaining: 21.7s\n",
      "999:\tlearn: 330.1632665\ttest: 253.5396296\tbest: 253.5396296 (999)\ttotal: 3m 37s\tremaining: 0us\n",
      "\n",
      "bestTest = 253.5396296\n",
      "bestIteration = 999\n",
      "\n",
      "Validation RMSLE: 1.3066939854792545\n"
     ]
    }
   ],
   "source": [
    "# 1. Define the model\n",
    "train_pool = Pool(X_train, Y_train)\n",
    "val_pool = Pool(X_val, Y_val)\n",
    "\n",
    "model = CatBoostRegressor(**catboost_params)\n",
    "# 2. Fit\n",
    "model.fit(train_pool, eval_set=val_pool)\n",
    "Y_val_preds = model.predict(X_val)\n",
    "Y_val_preds = np.clip(Y_val_preds, 0, None)\n",
    "val_score = helper.rmsle(Y_val_preds, Y_val)\n",
    "print(f\"Validation RMSLE: {val_score}\")"
   ]
  },
  {
   "cell_type": "code",
   "execution_count": 36,
   "metadata": {
    "execution": {
     "iopub.execute_input": "2025-04-18T17:54:50.269870Z",
     "iopub.status.busy": "2025-04-18T17:54:50.269584Z",
     "iopub.status.idle": "2025-04-18T17:54:50.313192Z",
     "shell.execute_reply": "2025-04-18T17:54:50.311818Z",
     "shell.execute_reply.started": "2025-04-18T17:54:50.269848Z"
    },
    "trusted": true
   },
   "outputs": [],
   "source": [
    "# 3. Preprocess your test data appropriately\n",
    "# 4. Make Predictions\n",
    "Y_test_preds = model.predict(X_test)\n",
    "Y_test_preds = np.clip(Y_test_preds, 0, None)"
   ]
  },
  {
   "cell_type": "code",
   "execution_count": 37,
   "metadata": {
    "execution": {
     "iopub.execute_input": "2025-04-18T17:54:50.314713Z",
     "iopub.status.busy": "2025-04-18T17:54:50.314420Z",
     "iopub.status.idle": "2025-04-18T17:54:50.482679Z",
     "shell.execute_reply": "2025-04-18T17:54:50.481481Z",
     "shell.execute_reply.started": "2025-04-18T17:54:50.314688Z"
    },
    "trusted": true
   },
   "outputs": [
    {
     "name": "stdout",
     "output_type": "stream",
     "text": [
      "Submission RMSLE for CatBoost: 1.34520\n"
     ]
    }
   ],
   "source": [
    "# 5. Use make_submission -> Submit to competition\n",
    "helper.make_submission(Y_test_preds, file_name=\"CatBoost_results.csv\")\n",
    "cb_submission = pd.read_csv('CatBoost_results.csv')\n",
    "cb_submission.to_csv('submission.csv', index=False)\n",
    "# 6. Note your RMSLE for this model\n",
    "print(f\"Submission RMSLE for CatBoost: 1.34520\")"
   ]
  },
  {
   "cell_type": "markdown",
   "metadata": {},
   "source": [
    "### Q14. XGBoost"
   ]
  },
  {
   "cell_type": "code",
   "execution_count": 38,
   "metadata": {
    "execution": {
     "iopub.execute_input": "2025-04-18T17:54:50.484396Z",
     "iopub.status.busy": "2025-04-18T17:54:50.483845Z",
     "iopub.status.idle": "2025-04-18T17:54:50.489421Z",
     "shell.execute_reply": "2025-04-18T17:54:50.488375Z",
     "shell.execute_reply.started": "2025-04-18T17:54:50.484359Z"
    },
    "trusted": true
   },
   "outputs": [],
   "source": [
    "import xgboost as xgb\n",
    "from xgboost import XGBRegressor"
   ]
  },
  {
   "cell_type": "code",
   "execution_count": 39,
   "metadata": {
    "execution": {
     "iopub.execute_input": "2025-04-18T17:54:50.491119Z",
     "iopub.status.busy": "2025-04-18T17:54:50.490728Z",
     "iopub.status.idle": "2025-04-18T18:03:01.640800Z",
     "shell.execute_reply": "2025-04-18T18:03:01.639735Z",
     "shell.execute_reply.started": "2025-04-18T17:54:50.491085Z"
    },
    "trusted": true
   },
   "outputs": [
    {
     "name": "stdout",
     "output_type": "stream",
     "text": [
      "[0]\ttrain-rmse:1055.36917\tval-rmse:1240.56695\n",
      "[100]\ttrain-rmse:357.37903\tval-rmse:298.72826\n",
      "[200]\ttrain-rmse:335.04568\tval-rmse:271.21242\n",
      "[300]\ttrain-rmse:325.35482\tval-rmse:260.93489\n",
      "[400]\ttrain-rmse:318.15382\tval-rmse:253.60260\n",
      "[500]\ttrain-rmse:311.73319\tval-rmse:246.81859\n",
      "[600]\ttrain-rmse:306.74068\tval-rmse:241.80147\n",
      "[700]\ttrain-rmse:302.15380\tval-rmse:237.42603\n",
      "[800]\ttrain-rmse:298.57044\tval-rmse:234.18360\n",
      "[900]\ttrain-rmse:295.24545\tval-rmse:231.27549\n",
      "[999]\ttrain-rmse:292.27119\tval-rmse:229.52989\n",
      "Validation RMSLE: 1.1835602521896362\n"
     ]
    }
   ],
   "source": [
    "# 1. Initialize model with random state = 42 to be consistent with CatBoost\n",
    "dtrain = xgb.DMatrix(X_train, label=Y_train, enable_categorical=True)\n",
    "dval = xgb.DMatrix(X_val, label=Y_val, enable_categorical=True)\n",
    "dtest = xgb.DMatrix(X_test, enable_categorical=True)\n",
    "\n",
    "xgb_params = {\n",
    "    'objective': 'reg:squarederror', \n",
    "    'eval_metric': 'rmse',\n",
    "    'max_depth': 6,\n",
    "    'eta': 0.05,\n",
    "    'subsample': 0.8,\n",
    "    'colsample_bytree': 0.8,\n",
    "    'lambda': 1.0,\n",
    "    'alpha': 0.0,\n",
    "    'verbosity': 1,\n",
    "    'seed': 42\n",
    "}\n",
    "\n",
    "evals = [(dtrain, 'train'), (dval, 'val')]\n",
    "\n",
    "# 2. Fit\n",
    "model = xgb.train(\n",
    "    xgb_params,\n",
    "    dtrain,\n",
    "    num_boost_round=1000,\n",
    "    early_stopping_rounds=100,\n",
    "    evals=evals,\n",
    "    verbose_eval=100\n",
    ")\n",
    "\n",
    "Y_val_preds = model.predict(dval)\n",
    "Y_val_preds = np.clip(Y_val_preds, 0, None)\n",
    "val_score = helper.rmsle(Y_val_preds, Y_val)\n",
    "print(f\"Validation RMSLE: {val_score}\")"
   ]
  },
  {
   "cell_type": "code",
   "execution_count": 40,
   "metadata": {
    "execution": {
     "iopub.execute_input": "2025-04-18T18:03:01.642353Z",
     "iopub.status.busy": "2025-04-18T18:03:01.642032Z",
     "iopub.status.idle": "2025-04-18T18:03:02.009312Z",
     "shell.execute_reply": "2025-04-18T18:03:02.008557Z",
     "shell.execute_reply.started": "2025-04-18T18:03:01.642329Z"
    },
    "trusted": true
   },
   "outputs": [],
   "source": [
    "# 3. Make Predictions.\n",
    "Y_test_preds = model.predict(dtest)\n",
    "Y_test_preds = np.clip(Y_test_preds, 0, None)"
   ]
  },
  {
   "cell_type": "code",
   "execution_count": 41,
   "metadata": {
    "execution": {
     "iopub.execute_input": "2025-04-18T18:03:02.011227Z",
     "iopub.status.busy": "2025-04-18T18:03:02.010594Z",
     "iopub.status.idle": "2025-04-18T18:03:02.149457Z",
     "shell.execute_reply": "2025-04-18T18:03:02.148377Z",
     "shell.execute_reply.started": "2025-04-18T18:03:02.011200Z"
    },
    "trusted": true
   },
   "outputs": [
    {
     "name": "stdout",
     "output_type": "stream",
     "text": [
      "Submission RMSLE for XGBoost: 1.18963\n"
     ]
    }
   ],
   "source": [
    "# 4. make_submission -> Submit to competition \n",
    "helper.make_submission(Y_test_preds, file_name=\"XGBoost_results.csv\")\n",
    "xgb_submission = pd.read_csv('XGBoost_results.csv')\n",
    "xgb_submission.to_csv('submission.csv', index=False)\n",
    "# 5. Note your RMSLE \n",
    "print(f\"Submission RMSLE for XGBoost: 1.18963\")"
   ]
  },
  {
   "cell_type": "markdown",
   "metadata": {},
   "source": [
    "### Q15. Optuna for automatic hyperparameter optimization"
   ]
  },
  {
   "cell_type": "code",
   "execution_count": 42,
   "metadata": {
    "execution": {
     "iopub.execute_input": "2025-04-18T18:03:02.150806Z",
     "iopub.status.busy": "2025-04-18T18:03:02.150512Z",
     "iopub.status.idle": "2025-04-18T18:03:02.156221Z",
     "shell.execute_reply": "2025-04-18T18:03:02.154839Z",
     "shell.execute_reply.started": "2025-04-18T18:03:02.150775Z"
    },
    "trusted": true
   },
   "outputs": [],
   "source": [
    "import optuna\n",
    "import time"
   ]
  },
  {
   "cell_type": "code",
   "execution_count": 43,
   "metadata": {
    "execution": {
     "iopub.execute_input": "2025-04-18T18:03:02.157737Z",
     "iopub.status.busy": "2025-04-18T18:03:02.157446Z",
     "iopub.status.idle": "2025-04-18T18:11:59.267851Z",
     "shell.execute_reply": "2025-04-18T18:11:59.266618Z",
     "shell.execute_reply.started": "2025-04-18T18:03:02.157714Z"
    },
    "trusted": true
   },
   "outputs": [
    {
     "name": "stderr",
     "output_type": "stream",
     "text": [
      "[I 2025-04-18 18:03:02,176] A new study created in memory with name: no-name-4a52d5e3-0dae-4af5-a021-12b22bcf2047\n",
      "/usr/local/lib/python3.11/dist-packages/lightgbm/engine.py:204: UserWarning:\n",
      "\n",
      "Found `num_boost_round` in params. Will use it instead of argument\n",
      "\n"
     ]
    },
    {
     "name": "stdout",
     "output_type": "stream",
     "text": [
      "[LightGBM] [Info] Auto-choosing row-wise multi-threading, the overhead of testing was 1.170128 seconds.\n",
      "You can set `force_row_wise=true` to remove the overhead.\n",
      "And if memory is not enough, you can set `force_col_wise=true`.\n",
      "[LightGBM] [Info] Total Bins 1119\n",
      "[LightGBM] [Info] Number of data points in the train set: 2951256, number of used features: 168\n",
      "[LightGBM] [Info] Start training from score 355.926499\n",
      "Training until validation scores don't improve for 100 rounds\n"
     ]
    },
    {
     "name": "stderr",
     "output_type": "stream",
     "text": [
      "/kaggle/input/helper/helper.py:44: RuntimeWarning:\n",
      "\n",
      "invalid value encountered in log1p\n",
      "\n",
      "[I 2025-04-18 18:03:58,158] Trial 0 finished with value: 1.5672041449280467 and parameters: {'learning_rate': 0.04477219640489942, 'num_leaves': 56, 'max_depth': 10, 'feature_fraction': 0.9243677421847977}. Best is trial 0 with value: 1.5672041449280467.\n"
     ]
    },
    {
     "name": "stdout",
     "output_type": "stream",
     "text": [
      "Early stopping, best iteration is:\n",
      "[99]\ttraining's l2: 120869\ttraining's RMSLE: nan\tvalid_1's l2: 70738.8\tvalid_1's RMSLE: 1.57789\n"
     ]
    },
    {
     "name": "stderr",
     "output_type": "stream",
     "text": [
      "/usr/local/lib/python3.11/dist-packages/lightgbm/engine.py:204: UserWarning:\n",
      "\n",
      "Found `num_boost_round` in params. Will use it instead of argument\n",
      "\n"
     ]
    },
    {
     "name": "stdout",
     "output_type": "stream",
     "text": [
      "[LightGBM] [Info] Auto-choosing row-wise multi-threading, the overhead of testing was 0.887802 seconds.\n",
      "You can set `force_row_wise=true` to remove the overhead.\n",
      "And if memory is not enough, you can set `force_col_wise=true`.\n",
      "[LightGBM] [Info] Total Bins 1119\n",
      "[LightGBM] [Info] Number of data points in the train set: 2951256, number of used features: 168\n",
      "[LightGBM] [Info] Start training from score 355.926499\n",
      "Training until validation scores don't improve for 100 rounds\n"
     ]
    },
    {
     "name": "stderr",
     "output_type": "stream",
     "text": [
      "/kaggle/input/helper/helper.py:44: RuntimeWarning:\n",
      "\n",
      "invalid value encountered in log1p\n",
      "\n",
      "[I 2025-04-18 18:05:11,170] Trial 1 finished with value: 1.7998695439968873 and parameters: {'learning_rate': 0.019170221166777586, 'num_leaves': 25, 'max_depth': 12, 'feature_fraction': 0.8379159880634124}. Best is trial 0 with value: 1.5672041449280467.\n"
     ]
    },
    {
     "name": "stdout",
     "output_type": "stream",
     "text": [
      "Early stopping, best iteration is:\n",
      "[235]\ttraining's l2: 144392\ttraining's RMSLE: nan\tvalid_1's l2: 97106.6\tvalid_1's RMSLE: 1.80459\n"
     ]
    },
    {
     "name": "stderr",
     "output_type": "stream",
     "text": [
      "/usr/local/lib/python3.11/dist-packages/lightgbm/engine.py:204: UserWarning:\n",
      "\n",
      "Found `num_boost_round` in params. Will use it instead of argument\n",
      "\n"
     ]
    },
    {
     "name": "stdout",
     "output_type": "stream",
     "text": [
      "[LightGBM] [Info] Auto-choosing row-wise multi-threading, the overhead of testing was 0.933093 seconds.\n",
      "You can set `force_row_wise=true` to remove the overhead.\n",
      "And if memory is not enough, you can set `force_col_wise=true`.\n",
      "[LightGBM] [Info] Total Bins 1119\n",
      "[LightGBM] [Info] Number of data points in the train set: 2951256, number of used features: 168\n",
      "[LightGBM] [Info] Start training from score 355.926499\n",
      "Training until validation scores don't improve for 100 rounds\n"
     ]
    },
    {
     "name": "stderr",
     "output_type": "stream",
     "text": [
      "/kaggle/input/helper/helper.py:44: RuntimeWarning:\n",
      "\n",
      "invalid value encountered in log1p\n",
      "\n",
      "[I 2025-04-18 18:06:15,722] Trial 2 finished with value: 1.9863870256836784 and parameters: {'learning_rate': 0.023026557971730727, 'num_leaves': 21, 'max_depth': 5, 'feature_fraction': 0.6465154345452331}. Best is trial 0 with value: 1.5672041449280467.\n"
     ]
    },
    {
     "name": "stdout",
     "output_type": "stream",
     "text": [
      "Early stopping, best iteration is:\n",
      "[180]\ttraining's l2: 175967\ttraining's RMSLE: nan\tvalid_1's l2: 142108\tvalid_1's RMSLE: 1.98664\n"
     ]
    },
    {
     "name": "stderr",
     "output_type": "stream",
     "text": [
      "/usr/local/lib/python3.11/dist-packages/lightgbm/engine.py:204: UserWarning:\n",
      "\n",
      "Found `num_boost_round` in params. Will use it instead of argument\n",
      "\n"
     ]
    },
    {
     "name": "stdout",
     "output_type": "stream",
     "text": [
      "[LightGBM] [Info] Auto-choosing row-wise multi-threading, the overhead of testing was 0.941107 seconds.\n",
      "You can set `force_row_wise=true` to remove the overhead.\n",
      "And if memory is not enough, you can set `force_col_wise=true`.\n",
      "[LightGBM] [Info] Total Bins 1119\n",
      "[LightGBM] [Info] Number of data points in the train set: 2951256, number of used features: 168\n",
      "[LightGBM] [Info] Start training from score 355.926499\n",
      "Training until validation scores don't improve for 100 rounds\n"
     ]
    },
    {
     "name": "stderr",
     "output_type": "stream",
     "text": [
      "/kaggle/input/helper/helper.py:44: RuntimeWarning:\n",
      "\n",
      "invalid value encountered in log1p\n",
      "\n",
      "[I 2025-04-18 18:06:57,351] Trial 3 finished with value: 1.8032522911799123 and parameters: {'learning_rate': 0.07616710975859804, 'num_leaves': 23, 'max_depth': 11, 'feature_fraction': 0.8873410782853146}. Best is trial 0 with value: 1.5672041449280467.\n"
     ]
    },
    {
     "name": "stdout",
     "output_type": "stream",
     "text": [
      "Early stopping, best iteration is:\n",
      "[63]\ttraining's l2: 145488\ttraining's RMSLE: nan\tvalid_1's l2: 98027.9\tvalid_1's RMSLE: 1.80499\n"
     ]
    },
    {
     "name": "stderr",
     "output_type": "stream",
     "text": [
      "/usr/local/lib/python3.11/dist-packages/lightgbm/engine.py:204: UserWarning:\n",
      "\n",
      "Found `num_boost_round` in params. Will use it instead of argument\n",
      "\n"
     ]
    },
    {
     "name": "stdout",
     "output_type": "stream",
     "text": [
      "[LightGBM] [Info] Auto-choosing row-wise multi-threading, the overhead of testing was 0.888802 seconds.\n",
      "You can set `force_row_wise=true` to remove the overhead.\n",
      "And if memory is not enough, you can set `force_col_wise=true`.\n",
      "[LightGBM] [Info] Total Bins 1119\n",
      "[LightGBM] [Info] Number of data points in the train set: 2951256, number of used features: 168\n",
      "[LightGBM] [Info] Start training from score 355.926499\n",
      "Training until validation scores don't improve for 100 rounds\n"
     ]
    },
    {
     "name": "stderr",
     "output_type": "stream",
     "text": [
      "/kaggle/input/helper/helper.py:44: RuntimeWarning:\n",
      "\n",
      "invalid value encountered in log1p\n",
      "\n"
     ]
    },
    {
     "name": "stdout",
     "output_type": "stream",
     "text": [
      "[LightGBM] [Warning] No further splits with positive gain, best gain: -inf\n",
      "[LightGBM] [Warning] No further splits with positive gain, best gain: -inf\n"
     ]
    },
    {
     "name": "stderr",
     "output_type": "stream",
     "text": [
      "[I 2025-04-18 18:07:38,808] Trial 4 finished with value: 1.865530193844171 and parameters: {'learning_rate': 0.07509134057252298, 'num_leaves': 26, 'max_depth': 5, 'feature_fraction': 0.9345576428667193}. Best is trial 0 with value: 1.5672041449280467.\n"
     ]
    },
    {
     "name": "stdout",
     "output_type": "stream",
     "text": [
      "Early stopping, best iteration is:\n",
      "[62]\ttraining's l2: 156987\ttraining's RMSLE: nan\tvalid_1's l2: 112652\tvalid_1's RMSLE: 1.8673\n"
     ]
    },
    {
     "name": "stderr",
     "output_type": "stream",
     "text": [
      "/usr/local/lib/python3.11/dist-packages/lightgbm/engine.py:204: UserWarning:\n",
      "\n",
      "Found `num_boost_round` in params. Will use it instead of argument\n",
      "\n"
     ]
    },
    {
     "name": "stdout",
     "output_type": "stream",
     "text": [
      "[LightGBM] [Info] Auto-choosing row-wise multi-threading, the overhead of testing was 0.870680 seconds.\n",
      "You can set `force_row_wise=true` to remove the overhead.\n",
      "And if memory is not enough, you can set `force_col_wise=true`.\n",
      "[LightGBM] [Info] Total Bins 1119\n",
      "[LightGBM] [Info] Number of data points in the train set: 2951256, number of used features: 168\n",
      "[LightGBM] [Info] Start training from score 355.926499\n",
      "Training until validation scores don't improve for 100 rounds\n"
     ]
    },
    {
     "name": "stderr",
     "output_type": "stream",
     "text": [
      "/kaggle/input/helper/helper.py:44: RuntimeWarning:\n",
      "\n",
      "invalid value encountered in log1p\n",
      "\n",
      "[I 2025-04-18 18:08:23,255] Trial 5 finished with value: 1.7624413580831644 and parameters: {'learning_rate': 0.057023115704199476, 'num_leaves': 29, 'max_depth': 10, 'feature_fraction': 0.8664666694919655}. Best is trial 0 with value: 1.5672041449280467.\n"
     ]
    },
    {
     "name": "stdout",
     "output_type": "stream",
     "text": [
      "Early stopping, best iteration is:\n",
      "[80]\ttraining's l2: 137970\ttraining's RMSLE: nan\tvalid_1's l2: 89801.8\tvalid_1's RMSLE: 1.76714\n"
     ]
    },
    {
     "name": "stderr",
     "output_type": "stream",
     "text": [
      "/usr/local/lib/python3.11/dist-packages/lightgbm/engine.py:204: UserWarning:\n",
      "\n",
      "Found `num_boost_round` in params. Will use it instead of argument\n",
      "\n"
     ]
    },
    {
     "name": "stdout",
     "output_type": "stream",
     "text": [
      "[LightGBM] [Info] Auto-choosing row-wise multi-threading, the overhead of testing was 0.984128 seconds.\n",
      "You can set `force_row_wise=true` to remove the overhead.\n",
      "And if memory is not enough, you can set `force_col_wise=true`.\n",
      "[LightGBM] [Info] Total Bins 1119\n",
      "[LightGBM] [Info] Number of data points in the train set: 2951256, number of used features: 168\n",
      "[LightGBM] [Info] Start training from score 355.926499\n",
      "Training until validation scores don't improve for 100 rounds\n"
     ]
    },
    {
     "name": "stderr",
     "output_type": "stream",
     "text": [
      "/kaggle/input/helper/helper.py:44: RuntimeWarning:\n",
      "\n",
      "invalid value encountered in log1p\n",
      "\n"
     ]
    },
    {
     "name": "stdout",
     "output_type": "stream",
     "text": [
      "[LightGBM] [Warning] No further splits with positive gain, best gain: -inf\n",
      "[LightGBM] [Warning] No further splits with positive gain, best gain: -inf\n",
      "[LightGBM] [Warning] No further splits with positive gain, best gain: -inf\n",
      "[LightGBM] [Warning] No further splits with positive gain, best gain: -inf\n",
      "[LightGBM] [Warning] No further splits with positive gain, best gain: -inf\n"
     ]
    },
    {
     "name": "stderr",
     "output_type": "stream",
     "text": [
      "[I 2025-04-18 18:09:07,341] Trial 6 finished with value: 2.0478343614059056 and parameters: {'learning_rate': 0.06964497785269644, 'num_leaves': 63, 'max_depth': 7, 'feature_fraction': 0.6716219988025336}. Best is trial 0 with value: 1.5672041449280467.\n"
     ]
    },
    {
     "name": "stdout",
     "output_type": "stream",
     "text": [
      "Early stopping, best iteration is:\n",
      "[46]\ttraining's l2: 150983\ttraining's RMSLE: nan\tvalid_1's l2: 108564\tvalid_1's RMSLE: 2.04783\n"
     ]
    },
    {
     "name": "stderr",
     "output_type": "stream",
     "text": [
      "/usr/local/lib/python3.11/dist-packages/lightgbm/engine.py:204: UserWarning:\n",
      "\n",
      "Found `num_boost_round` in params. Will use it instead of argument\n",
      "\n"
     ]
    },
    {
     "name": "stdout",
     "output_type": "stream",
     "text": [
      "[LightGBM] [Info] Auto-choosing row-wise multi-threading, the overhead of testing was 0.893563 seconds.\n",
      "You can set `force_row_wise=true` to remove the overhead.\n",
      "And if memory is not enough, you can set `force_col_wise=true`.\n",
      "[LightGBM] [Info] Total Bins 1119\n",
      "[LightGBM] [Info] Number of data points in the train set: 2951256, number of used features: 168\n",
      "[LightGBM] [Info] Start training from score 355.926499\n",
      "Training until validation scores don't improve for 100 rounds\n"
     ]
    },
    {
     "name": "stderr",
     "output_type": "stream",
     "text": [
      "/kaggle/input/helper/helper.py:44: RuntimeWarning:\n",
      "\n",
      "invalid value encountered in log1p\n",
      "\n",
      "[I 2025-04-18 18:10:05,704] Trial 7 finished with value: 1.6664213063735391 and parameters: {'learning_rate': 0.031772218740262474, 'num_leaves': 43, 'max_depth': 11, 'feature_fraction': 0.9233622158468849}. Best is trial 0 with value: 1.5672041449280467.\n"
     ]
    },
    {
     "name": "stdout",
     "output_type": "stream",
     "text": [
      "Early stopping, best iteration is:\n",
      "[139]\ttraining's l2: 127560\ttraining's RMSLE: nan\tvalid_1's l2: 77462.3\tvalid_1's RMSLE: 1.66672\n"
     ]
    },
    {
     "name": "stderr",
     "output_type": "stream",
     "text": [
      "/usr/local/lib/python3.11/dist-packages/lightgbm/engine.py:204: UserWarning:\n",
      "\n",
      "Found `num_boost_round` in params. Will use it instead of argument\n",
      "\n"
     ]
    },
    {
     "name": "stdout",
     "output_type": "stream",
     "text": [
      "[LightGBM] [Info] Auto-choosing row-wise multi-threading, the overhead of testing was 0.906940 seconds.\n",
      "You can set `force_row_wise=true` to remove the overhead.\n",
      "And if memory is not enough, you can set `force_col_wise=true`.\n",
      "[LightGBM] [Info] Total Bins 1119\n",
      "[LightGBM] [Info] Number of data points in the train set: 2951256, number of used features: 168\n",
      "[LightGBM] [Info] Start training from score 355.926499\n",
      "Training until validation scores don't improve for 100 rounds\n"
     ]
    },
    {
     "name": "stderr",
     "output_type": "stream",
     "text": [
      "/kaggle/input/helper/helper.py:44: RuntimeWarning:\n",
      "\n",
      "invalid value encountered in log1p\n",
      "\n",
      "[I 2025-04-18 18:11:18,153] Trial 8 finished with value: 1.924230248265008 and parameters: {'learning_rate': 0.019150370371162524, 'num_leaves': 22, 'max_depth': 5, 'feature_fraction': 0.921334312507488}. Best is trial 0 with value: 1.5672041449280467.\n"
     ]
    },
    {
     "name": "stdout",
     "output_type": "stream",
     "text": [
      "Early stopping, best iteration is:\n",
      "[232]\ttraining's l2: 163320\ttraining's RMSLE: nan\tvalid_1's l2: 120311\tvalid_1's RMSLE: 1.9277\n"
     ]
    },
    {
     "name": "stderr",
     "output_type": "stream",
     "text": [
      "/usr/local/lib/python3.11/dist-packages/lightgbm/engine.py:204: UserWarning:\n",
      "\n",
      "Found `num_boost_round` in params. Will use it instead of argument\n",
      "\n"
     ]
    },
    {
     "name": "stdout",
     "output_type": "stream",
     "text": [
      "[LightGBM] [Info] Auto-choosing row-wise multi-threading, the overhead of testing was 0.905237 seconds.\n",
      "You can set `force_row_wise=true` to remove the overhead.\n",
      "And if memory is not enough, you can set `force_col_wise=true`.\n",
      "[LightGBM] [Info] Total Bins 1119\n",
      "[LightGBM] [Info] Number of data points in the train set: 2951256, number of used features: 168\n",
      "[LightGBM] [Info] Start training from score 355.926499\n",
      "Training until validation scores don't improve for 100 rounds\n"
     ]
    },
    {
     "name": "stderr",
     "output_type": "stream",
     "text": [
      "/kaggle/input/helper/helper.py:44: RuntimeWarning:\n",
      "\n",
      "invalid value encountered in log1p\n",
      "\n",
      "[I 2025-04-18 18:11:59,262] Trial 9 finished with value: 2.025251390466842 and parameters: {'learning_rate': 0.09472808135044386, 'num_leaves': 60, 'max_depth': 12, 'feature_fraction': 0.6203479329155588}. Best is trial 0 with value: 1.5672041449280467.\n"
     ]
    },
    {
     "name": "stdout",
     "output_type": "stream",
     "text": [
      "Early stopping, best iteration is:\n",
      "[32]\ttraining's l2: 167641\ttraining's RMSLE: nan\tvalid_1's l2: 119824\tvalid_1's RMSLE: 2.02525\n",
      "Best parameters: {'learning_rate': 0.04477219640489942, 'num_leaves': 56, 'max_depth': 10, 'feature_fraction': 0.9243677421847977}\n",
      "Best RMSLE Score: 1.5672041449280467\n",
      "Took: 537.0890827178955 seconds\n"
     ]
    }
   ],
   "source": [
    "def objective_lgb(trial):\n",
    "    # 1. Define the parameter search space\n",
    "    params = {\n",
    "        'num_boost_round': 5000,\n",
    "        'early_stopping_rounds': 100,\n",
    "        'nthread': -1,\n",
    "        'learning_rate': trial.suggest_float(\"learning_rate\", 0.01, 0.1),\n",
    "        'num_leaves': trial.suggest_int(\"num_leaves\", 20, 64),\n",
    "        'max_depth': trial.suggest_int(\"max_depth\", 4, 12),\n",
    "        'feature_fraction': trial.suggest_float(\"feature_fraction\", 0.6, 1.0),\n",
    "        'seed': 42\n",
    "    }\n",
    "    \n",
    "    # 2. Create datasets (train, val) for LightGBM\n",
    "    lgbtrain = lgb.Dataset(X_train, label=Y_train, feature_name=features)\n",
    "    lgbval = lgb.Dataset(X_val, label=Y_val, reference=lgbtrain, feature_name=features)\n",
    "\n",
    "    # 3. Train the model\n",
    "    model = lgb.train(\n",
    "        params,\n",
    "        lgbtrain,\n",
    "        valid_sets=[lgbtrain, lgbval],\n",
    "        feval=helper.lgbm_rmsle\n",
    "    )\n",
    "\n",
    "    # 4. Evaluate on the validation set\n",
    "    Y_val_preds = model.predict(X_val, num_iteration=model.best_iteration)\n",
    "    Y_val_preds = np.clip(Y_val_preds, 0, None)\n",
    "    \n",
    "    # 5. Return the metric score\n",
    "    score = helper.rmsle(Y_val_preds, Y_val)\n",
    "    return score\n",
    "\n",
    "# Create Optuna study to minimize the objective function\n",
    "\n",
    "start = time.time()\n",
    "# 1. Create the optuna study and specify appropriate direction\n",
    "start = time.time()\n",
    "study = optuna.create_study(direction='minimize')\n",
    "# 2. Optimize (pay attention to recommended trials; 50 takes too long)\n",
    "study.optimize(objective_lgb, n_trials=10)\n",
    "# 3. Get the best parameters\n",
    "best_params = study.best_params\n",
    "best_score = study.best_value\n",
    "# 4. Print them.\n",
    "print(\"Best parameters:\", best_params)\n",
    "print(\"Best RMSLE Score:\", best_score)\n",
    "\n",
    "print(\"Took:\", time.time() - start, \"seconds\")"
   ]
  },
  {
   "cell_type": "code",
   "execution_count": 44,
   "metadata": {
    "execution": {
     "iopub.execute_input": "2025-04-18T18:11:59.269317Z",
     "iopub.status.busy": "2025-04-18T18:11:59.269026Z",
     "iopub.status.idle": "2025-04-18T18:12:50.280497Z",
     "shell.execute_reply": "2025-04-18T18:12:50.279277Z",
     "shell.execute_reply.started": "2025-04-18T18:11:59.269293Z"
    },
    "trusted": true
   },
   "outputs": [
    {
     "name": "stderr",
     "output_type": "stream",
     "text": [
      "/usr/local/lib/python3.11/dist-packages/lightgbm/engine.py:204: UserWarning:\n",
      "\n",
      "Found `num_boost_round` in params. Will use it instead of argument\n",
      "\n"
     ]
    },
    {
     "name": "stdout",
     "output_type": "stream",
     "text": [
      "[LightGBM] [Info] Auto-choosing row-wise multi-threading, the overhead of testing was 1.156081 seconds.\n",
      "You can set `force_row_wise=true` to remove the overhead.\n",
      "And if memory is not enough, you can set `force_col_wise=true`.\n",
      "[LightGBM] [Info] Total Bins 1116\n",
      "[LightGBM] [Info] Number of data points in the train set: 2951256, number of used features: 168\n",
      "[LightGBM] [Info] Start training from score 355.926499\n",
      "Training until validation scores don't improve for 100 rounds\n"
     ]
    },
    {
     "name": "stderr",
     "output_type": "stream",
     "text": [
      "/kaggle/input/helper/helper.py:44: RuntimeWarning:\n",
      "\n",
      "invalid value encountered in log1p\n",
      "\n"
     ]
    },
    {
     "name": "stdout",
     "output_type": "stream",
     "text": [
      "Early stopping, best iteration is:\n",
      "[98]\ttraining's l2: 121274\ttraining's RMSLE: nan\tvalid_1's l2: 70726.8\tvalid_1's RMSLE: 1.58734\n",
      "Submission RMSLE for LightGBM Optimal: 1.75226\n"
     ]
    }
   ],
   "source": [
    "# Make a competition submission using these parameters\n",
    "best_params.update({\n",
    "    'num_boost_round': 5000,\n",
    "    'early_stopping_rounds': 100,\n",
    "    'nthread': -1,\n",
    "    'seed': 42\n",
    "})\n",
    "\n",
    "model = lgb.train(\n",
    "    best_params,\n",
    "    lgbtrain,\n",
    "    valid_sets=[lgbtrain, lgbval],\n",
    "    feval=helper.lgbm_rmsle\n",
    ")\n",
    "\n",
    "Y_test_preds = model.predict(X_test, num_iteration=model.best_iteration)\n",
    "Y_test_preds = np.clip(Y_test_preds, 0, None)\n",
    "helper.make_submission(Y_test_preds, file_name=\"LightGBMOptimal_results.csv\")\n",
    "gbm_submission = pd.read_csv('LightGBMOptimal_results.csv')\n",
    "gbm_submission.to_csv('submission.csv', index=False)\n",
    "# Note these values.\n",
    "print(f\"Submission RMSLE for LightGBM Optimal: 1.75226\")"
   ]
  },
  {
   "cell_type": "code",
   "execution_count": 45,
   "metadata": {
    "execution": {
     "iopub.execute_input": "2025-04-18T18:12:50.282321Z",
     "iopub.status.busy": "2025-04-18T18:12:50.281823Z",
     "iopub.status.idle": "2025-04-18T19:09:23.316017Z",
     "shell.execute_reply": "2025-04-18T19:09:23.314929Z",
     "shell.execute_reply.started": "2025-04-18T18:12:50.282274Z"
    },
    "trusted": true
   },
   "outputs": [
    {
     "name": "stderr",
     "output_type": "stream",
     "text": [
      "[I 2025-04-18 18:12:50,286] A new study created in memory with name: no-name-e8ec4f17-fa1b-48a9-974c-0a6929986a3a\n"
     ]
    },
    {
     "name": "stdout",
     "output_type": "stream",
     "text": [
      "0:\tlearn: 1057.7019061\ttest: 1238.5234661\tbest: 1238.5234661 (0)\ttotal: 295ms\tremaining: 4m 54s\n",
      "500:\tlearn: 341.4651081\ttest: 262.9721242\tbest: 262.9721242 (500)\ttotal: 1m 53s\tremaining: 1m 53s\n"
     ]
    },
    {
     "name": "stderr",
     "output_type": "stream",
     "text": [
      "[I 2025-04-18 18:16:42,192] Trial 0 finished with value: 1.2608800260918163 and parameters: {'learning_rate': 0.050339072141606545, 'depth': 7}. Best is trial 0 with value: 1.2608800260918163.\n"
     ]
    },
    {
     "name": "stdout",
     "output_type": "stream",
     "text": [
      "999:\tlearn: 316.5026915\ttest: 242.8142101\tbest: 242.8142101 (999)\ttotal: 3m 46s\tremaining: 0us\n",
      "\n",
      "bestTest = 242.8142101\n",
      "bestIteration = 999\n",
      "\n",
      "0:\tlearn: 1070.5926692\ttest: 1254.1192906\tbest: 1254.1192906 (0)\ttotal: 287ms\tremaining: 4m 46s\n",
      "500:\tlearn: 335.3617367\ttest: 256.7192136\tbest: 256.7192136 (500)\ttotal: 2m 14s\tremaining: 2m 13s\n"
     ]
    },
    {
     "name": "stderr",
     "output_type": "stream",
     "text": [
      "[I 2025-04-18 18:21:12,153] Trial 1 finished with value: 1.226071729114517 and parameters: {'learning_rate': 0.03320146916699126, 'depth': 9}. Best is trial 1 with value: 1.226071729114517.\n"
     ]
    },
    {
     "name": "stdout",
     "output_type": "stream",
     "text": [
      "999:\tlearn: 310.5716762\ttest: 237.6486344\tbest: 237.6486344 (999)\ttotal: 4m 25s\tremaining: 0us\n",
      "\n",
      "bestTest = 237.6486344\n",
      "bestIteration = 999\n",
      "\n",
      "0:\tlearn: 1047.1262064\ttest: 1222.8708309\tbest: 1222.8708309 (0)\ttotal: 201ms\tremaining: 3m 20s\n",
      "500:\tlearn: 359.9832360\ttest: 284.0714817\tbest: 284.0714817 (500)\ttotal: 1m 35s\tremaining: 1m 35s\n"
     ]
    },
    {
     "name": "stderr",
     "output_type": "stream",
     "text": [
      "[I 2025-04-18 18:24:27,744] Trial 2 finished with value: 1.3441176908147683 and parameters: {'learning_rate': 0.06948323196587385, 'depth': 5}. Best is trial 1 with value: 1.226071729114517.\n"
     ]
    },
    {
     "name": "stdout",
     "output_type": "stream",
     "text": [
      "999:\tlearn: 333.4472676\ttest: 259.0286162\tbest: 259.0173237 (998)\ttotal: 3m 10s\tremaining: 0us\n",
      "\n",
      "bestTest = 259.0173237\n",
      "bestIteration = 998\n",
      "\n",
      "Shrink model to first 999 iterations.\n",
      "0:\tlearn: 1040.7080932\ttest: 1217.9462304\tbest: 1217.9462304 (0)\ttotal: 258ms\tremaining: 4m 17s\n",
      "500:\tlearn: 318.3319840\ttest: 244.2271078\tbest: 244.2146682 (496)\ttotal: 2m 2s\tremaining: 2m 1s\n"
     ]
    },
    {
     "name": "stderr",
     "output_type": "stream",
     "text": [
      "[I 2025-04-18 18:28:36,010] Trial 3 finished with value: 1.184727458459888 and parameters: {'learning_rate': 0.06921042253709428, 'depth': 8}. Best is trial 3 with value: 1.184727458459888.\n"
     ]
    },
    {
     "name": "stdout",
     "output_type": "stream",
     "text": [
      "999:\tlearn: 297.5339585\ttest: 230.2236952\tbest: 230.2236952 (999)\ttotal: 4m 3s\tremaining: 0us\n",
      "\n",
      "bestTest = 230.2236952\n",
      "bestIteration = 999\n",
      "\n",
      "0:\tlearn: 1088.3313198\ttest: 1276.2441007\tbest: 1276.2441007 (0)\ttotal: 272ms\tremaining: 4m 31s\n",
      "500:\tlearn: 375.3923425\ttest: 298.8596535\tbest: 298.8596535 (500)\ttotal: 2m 15s\tremaining: 2m 15s\n"
     ]
    },
    {
     "name": "stderr",
     "output_type": "stream",
     "text": [
      "[I 2025-04-18 18:33:07,971] Trial 4 finished with value: 1.411339627643345 and parameters: {'learning_rate': 0.01245398911346227, 'depth': 9}. Best is trial 3 with value: 1.184727458459888.\n"
     ]
    },
    {
     "name": "stdout",
     "output_type": "stream",
     "text": [
      "999:\tlearn: 346.7002601\ttest: 267.1491801\tbest: 267.1491801 (999)\ttotal: 4m 27s\tremaining: 0us\n",
      "\n",
      "bestTest = 267.1491801\n",
      "bestIteration = 999\n",
      "\n",
      "0:\tlearn: 1049.3073818\ttest: 1229.0935632\tbest: 1229.0935632 (0)\ttotal: 179ms\tremaining: 2m 59s\n",
      "500:\tlearn: 378.4768073\ttest: 307.4420898\tbest: 307.4420898 (500)\ttotal: 1m 27s\tremaining: 1m 27s\n"
     ]
    },
    {
     "name": "stderr",
     "output_type": "stream",
     "text": [
      "[I 2025-04-18 18:36:05,868] Trial 5 finished with value: 1.3956374607074513 and parameters: {'learning_rate': 0.07299935956469117, 'depth': 4}. Best is trial 3 with value: 1.184727458459888.\n"
     ]
    },
    {
     "name": "stdout",
     "output_type": "stream",
     "text": [
      "999:\tlearn: 352.7088636\ttest: 277.7657626\tbest: 277.7621627 (998)\ttotal: 2m 53s\tremaining: 0us\n",
      "\n",
      "bestTest = 277.7621627\n",
      "bestIteration = 998\n",
      "\n",
      "Shrink model to first 999 iterations.\n",
      "0:\tlearn: 1013.2328367\ttest: 1181.5471987\tbest: 1181.5471987 (0)\ttotal: 692ms\tremaining: 11m 31s\n",
      "500:\tlearn: 283.3486642\ttest: 223.6429379\tbest: 223.6429379 (500)\ttotal: 5m 30s\tremaining: 5m 29s\n",
      "999:\tlearn: 267.5734466\ttest: 219.7043185\tbest: 219.7017291 (998)\ttotal: 11m\tremaining: 0us\n",
      "\n",
      "bestTest = 219.7017291\n",
      "bestIteration = 998\n",
      "\n",
      "Shrink model to first 999 iterations.\n"
     ]
    },
    {
     "name": "stderr",
     "output_type": "stream",
     "text": [
      "[I 2025-04-18 18:47:12,553] Trial 6 finished with value: 1.0020404436286843 and parameters: {'learning_rate': 0.09722676210821847, 'depth': 12}. Best is trial 6 with value: 1.0020404436286843.\n"
     ]
    },
    {
     "name": "stdout",
     "output_type": "stream",
     "text": [
      "0:\tlearn: 1071.9030230\ttest: 1256.3176471\tbest: 1256.3176471 (0)\ttotal: 255ms\tremaining: 4m 14s\n",
      "500:\tlearn: 346.8986850\ttest: 266.9988486\tbest: 266.9988486 (500)\ttotal: 2m 3s\tremaining: 2m 3s\n"
     ]
    },
    {
     "name": "stderr",
     "output_type": "stream",
     "text": [
      "[I 2025-04-18 18:51:20,780] Trial 7 finished with value: 1.2898911003901063 and parameters: {'learning_rate': 0.032037448805069486, 'depth': 8}. Best is trial 6 with value: 1.0020404436286843.\n"
     ]
    },
    {
     "name": "stdout",
     "output_type": "stream",
     "text": [
      "999:\tlearn: 321.2590738\ttest: 246.2055008\tbest: 246.2037360 (998)\ttotal: 4m 3s\tremaining: 0us\n",
      "\n",
      "bestTest = 246.203736\n",
      "bestIteration = 998\n",
      "\n",
      "Shrink model to first 999 iterations.\n",
      "0:\tlearn: 1058.8317895\ttest: 1239.5834216\tbest: 1239.5834216 (0)\ttotal: 522ms\tremaining: 8m 41s\n",
      "500:\tlearn: 314.3776400\ttest: 240.2717828\tbest: 240.2717828 (500)\ttotal: 4m 28s\tremaining: 4m 27s\n"
     ]
    },
    {
     "name": "stderr",
     "output_type": "stream",
     "text": [
      "[I 2025-04-18 19:00:22,306] Trial 8 finished with value: 1.135738020724709 and parameters: {'learning_rate': 0.0463216899964301, 'depth': 10}. Best is trial 6 with value: 1.0020404436286843.\n"
     ]
    },
    {
     "name": "stdout",
     "output_type": "stream",
     "text": [
      "999:\tlearn: 294.0043726\ttest: 227.8540578\tbest: 227.8540578 (999)\ttotal: 8m 55s\tremaining: 0us\n",
      "\n",
      "bestTest = 227.8540578\n",
      "bestIteration = 999\n",
      "\n",
      "0:\tlearn: 1073.0756233\ttest: 1257.3172653\tbest: 1257.3172653 (0)\ttotal: 522ms\tremaining: 8m 41s\n",
      "500:\tlearn: 330.5921563\ttest: 251.5991615\tbest: 251.5991615 (500)\ttotal: 4m 27s\tremaining: 4m 26s\n"
     ]
    },
    {
     "name": "stderr",
     "output_type": "stream",
     "text": [
      "[I 2025-04-18 19:09:23,310] Trial 9 finished with value: 1.2053660817174794 and parameters: {'learning_rate': 0.029849664565693254, 'depth': 10}. Best is trial 6 with value: 1.0020404436286843.\n"
     ]
    },
    {
     "name": "stdout",
     "output_type": "stream",
     "text": [
      "999:\tlearn: 306.2031277\ttest: 233.6449351\tbest: 233.6449351 (999)\ttotal: 8m 56s\tremaining: 0us\n",
      "\n",
      "bestTest = 233.6449351\n",
      "bestIteration = 999\n",
      "\n",
      "Best parameters: {'learning_rate': 0.09722676210821847, 'depth': 12}\n",
      "Best RMSLE Score: 1.0020404436286843\n",
      "Took: 3393.025732278824 seconds\n"
     ]
    }
   ],
   "source": [
    "# Do the same for Catboost\n",
    "def objective_cat(trial):\n",
    "    # 1. Define the parameter search space\n",
    "    params = {\n",
    "        'iterations': 1000,\n",
    "        'early_stopping_rounds': 100,\n",
    "        'verbose': 500,\n",
    "        'loss_function': 'RMSE',\n",
    "        'eval_metric': 'RMSE',\n",
    "        'learning_rate': trial.suggest_float(\"learning_rate\", 0.01, 0.1),\n",
    "        'depth': trial.suggest_int(\"depth\", 4, 12),\n",
    "        'random_seed': 42,\n",
    "    }\n",
    "    \n",
    "    # 2. Create datasets (train, val) for Catboost\n",
    "    train_pool = Pool(X_train, Y_train)\n",
    "    val_pool = Pool(X_val, Y_val)\n",
    "\n",
    "    # 3. Train the model\n",
    "    model = CatBoostRegressor(**params)\n",
    "    model.fit(train_pool, eval_set=val_pool)\n",
    "\n",
    "    # 4. Evaluate on the validation set\n",
    "    Y_val_preds = model.predict(X_val)\n",
    "    Y_val_preds = np.clip(Y_val_preds, 0, None)\n",
    "    \n",
    "    # 5. Return the metric score\n",
    "    score = helper.rmsle(Y_val_preds, Y_val)\n",
    "    return score\n",
    "\n",
    "# Create Optuna study to minimize the objective function\n",
    "\n",
    "start = time.time()\n",
    "# 1. Create the optuna study and specify appropriate direction\n",
    "start = time.time()\n",
    "study = optuna.create_study(direction='minimize')\n",
    "# 2. Optimize (pay attention to recommended trials; 50 takes too long)\n",
    "study.optimize(objective_cat, n_trials=10)\n",
    "# 3. Get the best parameters\n",
    "best_params = study.best_params\n",
    "best_score = study.best_value\n",
    "# 4. Print them.\n",
    "print(\"Best parameters:\", best_params)\n",
    "print(\"Best RMSLE Score:\", best_score)\n",
    "\n",
    "print(\"Took:\", time.time() - start, \"seconds\")"
   ]
  },
  {
   "cell_type": "code",
   "execution_count": 46,
   "metadata": {
    "execution": {
     "iopub.execute_input": "2025-04-18T19:09:23.317896Z",
     "iopub.status.busy": "2025-04-18T19:09:23.317319Z",
     "iopub.status.idle": "2025-04-18T19:20:25.166440Z",
     "shell.execute_reply": "2025-04-18T19:20:25.165362Z",
     "shell.execute_reply.started": "2025-04-18T19:09:23.317872Z"
    },
    "trusted": true
   },
   "outputs": [
    {
     "name": "stdout",
     "output_type": "stream",
     "text": [
      "0:\tlearn: 1013.2328367\ttest: 1181.5471987\tbest: 1181.5471987 (0)\ttotal: 635ms\tremaining: 10m 34s\n",
      "500:\tlearn: 283.3486642\ttest: 223.6429379\tbest: 223.6429379 (500)\ttotal: 5m 27s\tremaining: 5m 25s\n",
      "999:\tlearn: 267.5734466\ttest: 219.7043185\tbest: 219.7017291 (998)\ttotal: 10m 56s\tremaining: 0us\n",
      "\n",
      "bestTest = 219.7017291\n",
      "bestIteration = 998\n",
      "\n",
      "Shrink model to first 999 iterations.\n",
      "Submission RMSLE for CatBoost Optimal: 1.07906\n"
     ]
    }
   ],
   "source": [
    "# Make a competition submission using these parameters\n",
    "best_params.update({\n",
    "    'iterations': 1000,\n",
    "    'early_stopping_rounds': 100,\n",
    "    'verbose': 500,\n",
    "    'loss_function': 'RMSE',\n",
    "    'eval_metric': 'RMSE',\n",
    "    'random_seed': 42,\n",
    "})\n",
    "\n",
    "model = CatBoostRegressor(**best_params)\n",
    "model.fit(train_pool, eval_set=val_pool)\n",
    "\n",
    "Y_test_preds = model.predict(X_test)\n",
    "Y_test_preds = np.clip(Y_test_preds, 0, None)\n",
    "\n",
    "helper.make_submission(Y_test_preds, file_name=\"CatBoostOptimal_results.csv\")\n",
    "cb_submission = pd.read_csv('CatBoostOptimal_results.csv')\n",
    "cb_submission.to_csv('submission.csv', index=False)\n",
    "# Note these values.\n",
    "print(f\"Submission RMSLE for CatBoost Optimal: 1.07906\")"
   ]
  },
  {
   "cell_type": "code",
   "execution_count": 47,
   "metadata": {
    "execution": {
     "iopub.execute_input": "2025-04-18T19:20:25.167989Z",
     "iopub.status.busy": "2025-04-18T19:20:25.167696Z",
     "iopub.status.idle": "2025-04-18T19:24:49.913249Z",
     "shell.execute_reply": "2025-04-18T19:24:49.912345Z",
     "shell.execute_reply.started": "2025-04-18T19:20:25.167965Z"
    },
    "trusted": true
   },
   "outputs": [
    {
     "name": "stderr",
     "output_type": "stream",
     "text": [
      "[I 2025-04-18 19:20:25,175] A new study created in memory with name: no-name-1830ed77-9260-4f71-b059-7f2f46bb3eb5\n",
      "/usr/local/lib/python3.11/dist-packages/xgboost/core.py:160: UserWarning:\n",
      "\n",
      "[19:20:36] WARNING: /workspace/src/learner.cc:742: \n",
      "Parameters: { \"early_stopping_rounds\", \"num_boost_round\", \"verbose_eval\" } are not used.\n",
      "\n",
      "\n"
     ]
    },
    {
     "name": "stdout",
     "output_type": "stream",
     "text": [
      "[0]\ttrain-rmse:1030.69853\tval-rmse:1212.86030\n",
      "[1]\ttrain-rmse:981.57239\tval-rmse:1153.14582\n",
      "[2]\ttrain-rmse:926.43401\tval-rmse:1089.98761\n",
      "[3]\ttrain-rmse:881.84321\tval-rmse:1029.28305\n",
      "[4]\ttrain-rmse:830.23801\tval-rmse:963.26531\n",
      "[5]\ttrain-rmse:805.17357\tval-rmse:912.95548\n",
      "[6]\ttrain-rmse:771.83155\tval-rmse:866.23334\n",
      "[7]\ttrain-rmse:744.53148\tval-rmse:817.66865\n",
      "[8]\ttrain-rmse:704.68343\tval-rmse:767.43086\n",
      "[9]\ttrain-rmse:670.15779\tval-rmse:727.57522\n"
     ]
    },
    {
     "name": "stderr",
     "output_type": "stream",
     "text": [
      "[I 2025-04-18 19:20:54,824] Trial 0 finished with value: 2.9438633918762207 and parameters: {'eta': 0.07633385445533508, 'subsample': 0.9483395555111249, 'colsample_bytree': 0.8107629374745229, 'lambda': 0.1391829755908206, 'alpha': 1.2431309857919781, 'max_depth': 7}. Best is trial 0 with value: 2.9438633918762207.\n",
      "/usr/local/lib/python3.11/dist-packages/xgboost/core.py:160: UserWarning:\n",
      "\n",
      "[19:21:02] WARNING: /workspace/src/learner.cc:742: \n",
      "Parameters: { \"early_stopping_rounds\", \"num_boost_round\", \"verbose_eval\" } are not used.\n",
      "\n",
      "\n"
     ]
    },
    {
     "name": "stdout",
     "output_type": "stream",
     "text": [
      "[0]\ttrain-rmse:1038.34219\tval-rmse:1215.15307\n",
      "[1]\ttrain-rmse:995.36366\tval-rmse:1162.90074\n",
      "[2]\ttrain-rmse:941.99682\tval-rmse:1097.42057\n",
      "[3]\ttrain-rmse:901.69148\tval-rmse:1043.65466\n",
      "[4]\ttrain-rmse:855.34344\tval-rmse:984.92092\n",
      "[5]\ttrain-rmse:831.83916\tval-rmse:939.67272\n",
      "[6]\ttrain-rmse:790.28491\tval-rmse:888.53005\n",
      "[7]\ttrain-rmse:753.04623\tval-rmse:841.49950\n",
      "[8]\ttrain-rmse:717.33679\tval-rmse:798.13143\n",
      "[9]\ttrain-rmse:686.00026\tval-rmse:761.42226\n"
     ]
    },
    {
     "name": "stderr",
     "output_type": "stream",
     "text": [
      "[I 2025-04-18 19:21:21,039] Trial 1 finished with value: 2.9814348220825195 and parameters: {'eta': 0.06478553446137085, 'subsample': 0.9199168816294311, 'colsample_bytree': 0.8541190406857322, 'lambda': 1.8356822029115016, 'alpha': 0.8945014918127451, 'max_depth': 8}. Best is trial 0 with value: 2.9438633918762207.\n",
      "/usr/local/lib/python3.11/dist-packages/xgboost/core.py:160: UserWarning:\n",
      "\n",
      "[19:21:28] WARNING: /workspace/src/learner.cc:742: \n",
      "Parameters: { \"early_stopping_rounds\", \"num_boost_round\", \"verbose_eval\" } are not used.\n",
      "\n",
      "\n"
     ]
    },
    {
     "name": "stdout",
     "output_type": "stream",
     "text": [
      "[0]\ttrain-rmse:1024.73035\tval-rmse:1197.90440\n",
      "[1]\ttrain-rmse:956.49584\tval-rmse:1113.01795\n",
      "[2]\ttrain-rmse:893.87410\tval-rmse:1035.26421\n",
      "[3]\ttrain-rmse:844.91728\tval-rmse:969.11947\n",
      "[4]\ttrain-rmse:791.71705\tval-rmse:901.59814\n",
      "[5]\ttrain-rmse:743.18943\tval-rmse:839.85656\n",
      "[6]\ttrain-rmse:698.98504\tval-rmse:783.00231\n",
      "[7]\ttrain-rmse:658.62530\tval-rmse:730.90708\n",
      "[8]\ttrain-rmse:621.74436\tval-rmse:683.53168\n",
      "[9]\ttrain-rmse:590.30576\tval-rmse:646.18426\n"
     ]
    },
    {
     "name": "stderr",
     "output_type": "stream",
     "text": [
      "[I 2025-04-18 19:21:47,870] Trial 2 finished with value: 2.8488028049468994 and parameters: {'eta': 0.07717816226497858, 'subsample': 0.6271172009519077, 'colsample_bytree': 0.969456904540138, 'lambda': 2.7572876273520457, 'alpha': 0.7871304061873029, 'max_depth': 11}. Best is trial 2 with value: 2.8488028049468994.\n",
      "/usr/local/lib/python3.11/dist-packages/xgboost/core.py:160: UserWarning:\n",
      "\n",
      "[19:21:56] WARNING: /workspace/src/learner.cc:742: \n",
      "Parameters: { \"early_stopping_rounds\", \"num_boost_round\", \"verbose_eval\" } are not used.\n",
      "\n",
      "\n"
     ]
    },
    {
     "name": "stdout",
     "output_type": "stream",
     "text": [
      "[0]\ttrain-rmse:1041.51130\tval-rmse:1224.43675\n",
      "[1]\ttrain-rmse:998.17999\tval-rmse:1173.47059\n",
      "[2]\ttrain-rmse:949.52758\tval-rmse:1117.06210\n",
      "[3]\ttrain-rmse:913.75391\tval-rmse:1073.93769\n",
      "[4]\ttrain-rmse:872.64832\tval-rmse:1022.83294\n",
      "[5]\ttrain-rmse:835.41185\tval-rmse:976.35830\n",
      "[6]\ttrain-rmse:802.34190\tval-rmse:937.18138\n",
      "[7]\ttrain-rmse:771.35081\tval-rmse:897.86008\n",
      "[8]\ttrain-rmse:744.17949\tval-rmse:865.62225\n",
      "[9]\ttrain-rmse:718.77199\tval-rmse:835.49809\n"
     ]
    },
    {
     "name": "stderr",
     "output_type": "stream",
     "text": [
      "[I 2025-04-18 19:22:11,364] Trial 3 finished with value: 3.0269038677215576 and parameters: {'eta': 0.07312463809230507, 'subsample': 0.911720370317137, 'colsample_bytree': 0.9607305438612264, 'lambda': 1.2927726965095696, 'alpha': 1.9468525880927559, 'max_depth': 4}. Best is trial 2 with value: 2.8488028049468994.\n",
      "/usr/local/lib/python3.11/dist-packages/xgboost/core.py:160: UserWarning:\n",
      "\n",
      "[19:22:19] WARNING: /workspace/src/learner.cc:742: \n",
      "Parameters: { \"early_stopping_rounds\", \"num_boost_round\", \"verbose_eval\" } are not used.\n",
      "\n",
      "\n"
     ]
    },
    {
     "name": "stdout",
     "output_type": "stream",
     "text": [
      "[0]\ttrain-rmse:1019.60786\tval-rmse:1191.27307\n",
      "[1]\ttrain-rmse:961.89521\tval-rmse:1119.09367\n",
      "[2]\ttrain-rmse:897.36133\tval-rmse:1039.22982\n",
      "[3]\ttrain-rmse:852.11059\tval-rmse:979.81136\n",
      "[4]\ttrain-rmse:799.77971\tval-rmse:913.27021\n",
      "[5]\ttrain-rmse:771.31796\tval-rmse:856.98925\n",
      "[6]\ttrain-rmse:727.94376\tval-rmse:802.06871\n",
      "[7]\ttrain-rmse:690.46819\tval-rmse:756.60215\n",
      "[8]\ttrain-rmse:656.77806\tval-rmse:715.27816\n",
      "[9]\ttrain-rmse:627.77137\tval-rmse:679.28829\n"
     ]
    },
    {
     "name": "stderr",
     "output_type": "stream",
     "text": [
      "[I 2025-04-18 19:22:35,557] Trial 4 finished with value: 2.895311117172241 and parameters: {'eta': 0.09352092007306718, 'subsample': 0.8411449321000707, 'colsample_bytree': 0.8919001271417593, 'lambda': 0.08424512549860419, 'alpha': 2.86146040449881, 'max_depth': 5}. Best is trial 2 with value: 2.8488028049468994.\n",
      "/usr/local/lib/python3.11/dist-packages/xgboost/core.py:160: UserWarning:\n",
      "\n",
      "[19:22:43] WARNING: /workspace/src/learner.cc:742: \n",
      "Parameters: { \"early_stopping_rounds\", \"num_boost_round\", \"verbose_eval\" } are not used.\n",
      "\n",
      "\n"
     ]
    },
    {
     "name": "stdout",
     "output_type": "stream",
     "text": [
      "[0]\ttrain-rmse:1051.65134\tval-rmse:1236.50181\n",
      "[1]\ttrain-rmse:1016.38615\tval-rmse:1192.99277\n",
      "[2]\ttrain-rmse:980.46273\tval-rmse:1153.41360\n",
      "[3]\ttrain-rmse:946.41729\tval-rmse:1108.02789\n",
      "[4]\ttrain-rmse:906.58730\tval-rmse:1057.98297\n",
      "[5]\ttrain-rmse:886.93998\tval-rmse:1018.96323\n",
      "[6]\ttrain-rmse:859.33970\tval-rmse:979.93269\n",
      "[7]\ttrain-rmse:836.92326\tval-rmse:939.92316\n",
      "[8]\ttrain-rmse:806.32998\tval-rmse:904.64074\n",
      "[9]\ttrain-rmse:785.17636\tval-rmse:883.07945\n"
     ]
    },
    {
     "name": "stderr",
     "output_type": "stream",
     "text": [
      "[I 2025-04-18 19:23:00,438] Trial 5 finished with value: 3.0879063606262207 and parameters: {'eta': 0.053543863569048014, 'subsample': 0.6344473562227201, 'colsample_bytree': 0.7394629486135357, 'lambda': 2.723565260149595, 'alpha': 2.9433894290372606, 'max_depth': 7}. Best is trial 2 with value: 2.8488028049468994.\n",
      "/usr/local/lib/python3.11/dist-packages/xgboost/core.py:160: UserWarning:\n",
      "\n",
      "[19:23:11] WARNING: /workspace/src/learner.cc:742: \n",
      "Parameters: { \"early_stopping_rounds\", \"num_boost_round\", \"verbose_eval\" } are not used.\n",
      "\n",
      "\n"
     ]
    },
    {
     "name": "stdout",
     "output_type": "stream",
     "text": [
      "[0]\ttrain-rmse:1055.13054\tval-rmse:1240.57494\n",
      "[1]\ttrain-rmse:1021.11566\tval-rmse:1196.30215\n",
      "[2]\ttrain-rmse:997.07160\tval-rmse:1172.34076\n",
      "[3]\ttrain-rmse:969.18186\tval-rmse:1142.46751\n",
      "[4]\ttrain-rmse:932.49319\tval-rmse:1102.38351\n",
      "[5]\ttrain-rmse:909.14523\tval-rmse:1059.00049\n",
      "[6]\ttrain-rmse:879.97956\tval-rmse:1017.20650\n",
      "[7]\ttrain-rmse:856.37117\tval-rmse:975.38164\n",
      "[8]\ttrain-rmse:826.25708\tval-rmse:939.48097\n",
      "[9]\ttrain-rmse:806.09165\tval-rmse:918.78888\n"
     ]
    },
    {
     "name": "stderr",
     "output_type": "stream",
     "text": [
      "[I 2025-04-18 19:23:31,842] Trial 6 finished with value: 3.103609561920166 and parameters: {'eta': 0.047409737976572386, 'subsample': 0.7263448344863621, 'colsample_bytree': 0.7118017649285729, 'lambda': 2.2334007374326497, 'alpha': 1.0106033248534878, 'max_depth': 12}. Best is trial 2 with value: 2.8488028049468994.\n",
      "/usr/local/lib/python3.11/dist-packages/xgboost/core.py:160: UserWarning:\n",
      "\n",
      "[19:23:40] WARNING: /workspace/src/learner.cc:742: \n",
      "Parameters: { \"early_stopping_rounds\", \"num_boost_round\", \"verbose_eval\" } are not used.\n",
      "\n",
      "\n"
     ]
    },
    {
     "name": "stdout",
     "output_type": "stream",
     "text": [
      "[0]\ttrain-rmse:1058.68978\tval-rmse:1246.01860\n",
      "[1]\ttrain-rmse:1028.56691\tval-rmse:1210.25952\n",
      "[2]\ttrain-rmse:1007.86745\tval-rmse:1190.29368\n",
      "[3]\ttrain-rmse:982.08097\tval-rmse:1163.29933\n",
      "[4]\ttrain-rmse:948.94459\tval-rmse:1127.17747\n",
      "[5]\ttrain-rmse:934.69625\tval-rmse:1100.85643\n",
      "[6]\ttrain-rmse:913.90604\tval-rmse:1076.65962\n",
      "[7]\ttrain-rmse:894.93820\tval-rmse:1040.88249\n",
      "[8]\ttrain-rmse:873.91058\tval-rmse:1017.21193\n",
      "[9]\ttrain-rmse:855.32651\tval-rmse:998.28441\n"
     ]
    },
    {
     "name": "stderr",
     "output_type": "stream",
     "text": [
      "[I 2025-04-18 19:23:55,279] Trial 7 finished with value: 3.1657540798187256 and parameters: {'eta': 0.05131760033727131, 'subsample': 0.7350352950720791, 'colsample_bytree': 0.6214302143412523, 'lambda': 1.4567140810882415, 'alpha': 0.7337772824833819, 'max_depth': 4}. Best is trial 2 with value: 2.8488028049468994.\n",
      "/usr/local/lib/python3.11/dist-packages/xgboost/core.py:160: UserWarning:\n",
      "\n",
      "[19:24:03] WARNING: /workspace/src/learner.cc:742: \n",
      "Parameters: { \"early_stopping_rounds\", \"num_boost_round\", \"verbose_eval\" } are not used.\n",
      "\n",
      "\n"
     ]
    },
    {
     "name": "stdout",
     "output_type": "stream",
     "text": [
      "[0]\ttrain-rmse:1079.69024\tval-rmse:1267.49095\n",
      "[1]\ttrain-rmse:1059.99140\tval-rmse:1243.32409\n",
      "[2]\ttrain-rmse:1047.00345\tval-rmse:1230.85282\n",
      "[3]\ttrain-rmse:1029.78036\tval-rmse:1212.53822\n",
      "[4]\ttrain-rmse:1009.28850\tval-rmse:1190.76296\n",
      "[5]\ttrain-rmse:995.43515\tval-rmse:1164.85507\n",
      "[6]\ttrain-rmse:977.43333\tval-rmse:1140.08508\n",
      "[7]\ttrain-rmse:962.30480\tval-rmse:1113.29219\n",
      "[8]\ttrain-rmse:945.85257\tval-rmse:1092.95043\n",
      "[9]\ttrain-rmse:931.71555\tval-rmse:1078.69865\n"
     ]
    },
    {
     "name": "stderr",
     "output_type": "stream",
     "text": [
      "[I 2025-04-18 19:24:22,209] Trial 8 finished with value: 3.2340433597564697 and parameters: {'eta': 0.027575237314288445, 'subsample': 0.7190779249310778, 'colsample_bytree': 0.6044917474323026, 'lambda': 1.725957120104686, 'alpha': 1.8856854173252078, 'max_depth': 10}. Best is trial 2 with value: 2.8488028049468994.\n",
      "/usr/local/lib/python3.11/dist-packages/xgboost/core.py:160: UserWarning:\n",
      "\n",
      "[19:24:30] WARNING: /workspace/src/learner.cc:742: \n",
      "Parameters: { \"early_stopping_rounds\", \"num_boost_round\", \"verbose_eval\" } are not used.\n",
      "\n",
      "\n"
     ]
    },
    {
     "name": "stdout",
     "output_type": "stream",
     "text": [
      "[0]\ttrain-rmse:1001.61546\tval-rmse:1169.83152\n",
      "[1]\ttrain-rmse:927.66626\tval-rmse:1072.71494\n",
      "[2]\ttrain-rmse:848.10559\tval-rmse:974.16868\n",
      "[3]\ttrain-rmse:789.66693\tval-rmse:895.60078\n",
      "[4]\ttrain-rmse:725.27506\tval-rmse:815.79993\n",
      "[5]\ttrain-rmse:684.37406\tval-rmse:745.64216\n",
      "[6]\ttrain-rmse:631.70691\tval-rmse:682.05004\n",
      "[7]\ttrain-rmse:585.30491\tval-rmse:624.63513\n",
      "[8]\ttrain-rmse:544.25032\tval-rmse:573.37120\n",
      "[9]\ttrain-rmse:510.32106\tval-rmse:534.27209\n"
     ]
    },
    {
     "name": "stderr",
     "output_type": "stream",
     "text": [
      "[I 2025-04-18 19:24:49,908] Trial 9 finished with value: 2.717268943786621 and parameters: {'eta': 0.0994310700637221, 'subsample': 0.920880870157245, 'colsample_bytree': 0.9559350945228009, 'lambda': 0.4945540742097141, 'alpha': 0.42807201265787465, 'max_depth': 11}. Best is trial 9 with value: 2.717268943786621.\n"
     ]
    },
    {
     "name": "stdout",
     "output_type": "stream",
     "text": [
      "Best parameters: {'eta': 0.0994310700637221, 'subsample': 0.920880870157245, 'colsample_bytree': 0.9559350945228009, 'lambda': 0.4945540742097141, 'alpha': 0.42807201265787465, 'max_depth': 11}\n",
      "Best RMSLE Score: 2.717268943786621\n",
      "Took: 264.7348110675812 seconds\n"
     ]
    }
   ],
   "source": [
    "# Do the same for XGBoost\n",
    "def objective_xg(trial):\n",
    "    # 1. Define the parameter search space\n",
    "    params = {\n",
    "        'objective': 'reg:squarederror',\n",
    "        'eval_metric': 'rmse',\n",
    "        'num_boost_round': 1000,\n",
    "        'early_stopping_rounds': 100,\n",
    "        'verbose_eval': 500,\n",
    "        'eta': trial.suggest_float(\"eta\", 0.01, 0.1),\n",
    "        'subsample': trial.suggest_float(\"subsample\", 0.6, 1.0),\n",
    "        'colsample_bytree': trial.suggest_float(\"colsample_bytree\", 0.6, 1.0),\n",
    "        'lambda': trial.suggest_float(\"lambda\", 0.0, 3.0),\n",
    "        'alpha': trial.suggest_float(\"alpha\", 0.0, 3.0),\n",
    "        'max_depth': trial.suggest_int(\"max_depth\", 4, 12),\n",
    "        'verbosity': 1,\n",
    "        'seed': 42\n",
    "    }\n",
    "    \n",
    "    # 2. Create datasets (train, val) for XGBoost\n",
    "    dtrain = xgb.DMatrix(X_train, label=Y_train, enable_categorical=True)\n",
    "    dval = xgb.DMatrix(X_val, label=Y_val, enable_categorical=True)\n",
    "\n",
    "    evals = [(dtrain, 'train'), (dval, 'val')]\n",
    "\n",
    "    # 3. Train the model\n",
    "    model = xgb.train(\n",
    "    params,\n",
    "    dtrain,\n",
    "    evals=evals\n",
    "    )\n",
    "\n",
    "\n",
    "    # 4. Evaluate on the validation set\n",
    "    Y_val_preds = model.predict(dval)\n",
    "    Y_val_preds = np.clip(Y_val_preds, 0, None)\n",
    "    \n",
    "    # 5. Return the metric score\n",
    "    score = helper.rmsle(Y_val_preds, Y_val)\n",
    "    return score\n",
    "\n",
    "# Create Optuna study to minimize the objective function\n",
    "\n",
    "start = time.time()\n",
    "# 1. Create the optuna study and specify appropriate direction\n",
    "start = time.time()\n",
    "study = optuna.create_study(direction='minimize')\n",
    "# 2. Optimize (pay attention to recommended trials; 50 takes too long)\n",
    "study.optimize(objective_xg, n_trials=10)\n",
    "# 3. Get the best parameters\n",
    "best_params = study.best_params\n",
    "best_score = study.best_value\n",
    "# 4. Print them.\n",
    "print(\"Best parameters:\", best_params)\n",
    "print(\"Best RMSLE Score:\", best_score)\n",
    "\n",
    "print(\"Took:\", time.time() - start, \"seconds\")"
   ]
  },
  {
   "cell_type": "code",
   "execution_count": 48,
   "metadata": {
    "execution": {
     "iopub.execute_input": "2025-04-18T19:24:49.914545Z",
     "iopub.status.busy": "2025-04-18T19:24:49.914308Z",
     "iopub.status.idle": "2025-04-18T19:25:00.057601Z",
     "shell.execute_reply": "2025-04-18T19:25:00.056862Z",
     "shell.execute_reply.started": "2025-04-18T19:24:49.914527Z"
    },
    "trusted": true
   },
   "outputs": [
    {
     "name": "stderr",
     "output_type": "stream",
     "text": [
      "/usr/local/lib/python3.11/dist-packages/xgboost/core.py:160: UserWarning:\n",
      "\n",
      "[19:24:49] WARNING: /workspace/src/learner.cc:742: \n",
      "Parameters: { \"early_stopping_rounds\", \"num_boost_round\", \"verbose_eval\" } are not used.\n",
      "\n",
      "\n"
     ]
    },
    {
     "name": "stdout",
     "output_type": "stream",
     "text": [
      "[0]\ttrain-rmse:1001.61546\tval-rmse:1169.83152\n",
      "[1]\ttrain-rmse:927.66626\tval-rmse:1072.71494\n",
      "[2]\ttrain-rmse:848.10559\tval-rmse:974.16868\n",
      "[3]\ttrain-rmse:789.66693\tval-rmse:895.60078\n",
      "[4]\ttrain-rmse:725.27506\tval-rmse:815.79993\n",
      "[5]\ttrain-rmse:684.37406\tval-rmse:745.64216\n",
      "[6]\ttrain-rmse:631.70691\tval-rmse:682.05004\n",
      "[7]\ttrain-rmse:585.30491\tval-rmse:624.63513\n",
      "[8]\ttrain-rmse:544.25032\tval-rmse:573.37120\n",
      "[9]\ttrain-rmse:510.32106\tval-rmse:534.27209\n",
      "Submission RMSLE for XGBoost Optimal: 2.74824\n"
     ]
    }
   ],
   "source": [
    "best_params.update({\n",
    "    'objective': 'reg:squarederror',\n",
    "    'eval_metric': 'rmse',\n",
    "    'num_boost_round': 1000,\n",
    "    'early_stopping_rounds': 100,\n",
    "    'verbose_eval': 500,\n",
    "    'verbosity': 1,\n",
    "    'seed': 42   \n",
    "})\n",
    "\n",
    "model = xgb.train(\n",
    "    best_params,\n",
    "    dtrain,\n",
    "    evals=evals\n",
    "    )\n",
    "\n",
    "Y_test_preds = model.predict(dtest)\n",
    "Y_test_preds = np.clip(Y_test_preds, 0, None)\n",
    "\n",
    "helper.make_submission(Y_test_preds, file_name=\"XGBoostOptimal_results.csv\")\n",
    "xgb_submission = pd.read_csv('XGBoostOptimal_results.csv')\n",
    "xgb_submission.to_csv('submission.csv', index=False)\n",
    "# Note these values.\n",
    "print(f\"Submission RMSLE for XGBoost Optimal: 2.74824\")"
   ]
  },
  {
   "cell_type": "markdown",
   "metadata": {},
   "source": [
    "### Q16. Which out of the three Catboost vs LightGBM vs XGBoost provides the best score? Why do you think this model is more suited to this dataset/problem?"
   ]
  },
  {
   "cell_type": "markdown",
   "metadata": {},
   "source": [
    "After performing 10 Optuna trials to tune hyperparameters for each boosting method, the CatBoost model outperformed both LightGBM and XGBoost, achieving the lowest RMSLE of 1.07906. \n",
    "\n",
    "Possible reasons for this could include the fact that Catboost is supposed to be very good at handling categorical data and it's boosting method is supposed to help prevent overfitting.\n",
    "\n",
    "Furthermore, due to the time taken to run these trials, I only ran 10 trials per boosting method. Given that Catboost has fewer tunable hyperparameters compared to LightGBM and XGBoost, perhaps Optuna was able to converge on a more optimal set of hyperparameters within fewer trials in the case of Catboost."
   ]
  },
  {
   "cell_type": "markdown",
   "metadata": {},
   "source": [
    "## Optional Extra Credit Section - Achieve the lowest score\n",
    "\n",
    "### Cross Validation Strategies & Ensembling"
   ]
  },
  {
   "cell_type": "code",
   "execution_count": 49,
   "metadata": {
    "execution": {
     "iopub.execute_input": "2025-04-18T19:25:00.059229Z",
     "iopub.status.busy": "2025-04-18T19:25:00.058870Z",
     "iopub.status.idle": "2025-04-18T19:25:00.063581Z",
     "shell.execute_reply": "2025-04-18T19:25:00.062833Z",
     "shell.execute_reply.started": "2025-04-18T19:25:00.059200Z"
    },
    "trusted": true
   },
   "outputs": [],
   "source": [
    "# 1. Try different Validation sets \n",
    "# 2. Try ensembling different methods used in this assignment together"
   ]
  }
 ],
 "metadata": {
  "kaggle": {
   "accelerator": "none",
   "dataSources": [
    {
     "databundleVersionId": 11628642,
     "sourceId": 97696,
     "sourceType": "competition"
    },
    {
     "datasetId": 7109183,
     "sourceId": 11359046,
     "sourceType": "datasetVersion"
    }
   ],
   "dockerImageVersionId": 31012,
   "isGpuEnabled": false,
   "isInternetEnabled": true,
   "language": "python",
   "sourceType": "notebook"
  },
  "kernelspec": {
   "display_name": "Python 3",
   "language": "python",
   "name": "python3"
  },
  "language_info": {
   "codemirror_mode": {
    "name": "ipython",
    "version": 3
   },
   "file_extension": ".py",
   "mimetype": "text/x-python",
   "name": "python",
   "nbconvert_exporter": "python",
   "pygments_lexer": "ipython3",
   "version": "3.7.12"
  }
 },
 "nbformat": 4,
 "nbformat_minor": 4
}
