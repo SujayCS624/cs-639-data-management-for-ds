{
 "cells": [
  {
   "cell_type": "code",
   "execution_count": 1,
   "id": "825a06aa-e866-4320-b27c-ea6565e7f2e8",
   "metadata": {},
   "outputs": [],
   "source": [
    "import os\n",
    "from elasticsearch import Elasticsearch, helpers, NotFoundError\n",
    "import json"
   ]
  },
  {
   "cell_type": "code",
   "execution_count": 2,
   "id": "6ea7d237-6711-490b-9e36-51a5714e5f10",
   "metadata": {},
   "outputs": [],
   "source": [
    "client = Elasticsearch(\"http://localhost:9200\", \\\n",
    "                       basic_auth=(\"elastic\", \"1fVO6RuC\"))  "
   ]
  },
  {
   "cell_type": "code",
   "execution_count": 3,
   "id": "8b398f44-ca0e-4cdb-a51b-b92f9e36d152",
   "metadata": {},
   "outputs": [],
   "source": [
    "#### Q1: Write code that connects to the Elasticsearch client, and then retrieve detailed health information. Save the first five pairs of key-values from the resulting JSON output in q1.json."
   ]
  },
  {
   "cell_type": "code",
   "execution_count": 3,
   "id": "fc232c66-35a5-409c-95e6-42eab7e927de",
   "metadata": {},
   "outputs": [],
   "source": [
    "#q1\n",
    "health_info = client.cluster.health()\n",
    "q1 = dict(list(health_info.items())[:5])\n",
    "with open('answers/q1.json', 'w') as f:\n",
    "    json.dump(q1, f, indent=4)"
   ]
  },
  {
   "cell_type": "code",
   "execution_count": 5,
   "id": "38ec2fb6-6b08-44c2-9669-40d3284a90a4",
   "metadata": {},
   "outputs": [],
   "source": [
    "#### Q2: Create an index madmap and bulk upload all provided JSON files except places.json. After the upload, retrieving the dynamic mapping configuration from Elasticsearch. Save the resulting ouptput in q2.json."
   ]
  },
  {
   "cell_type": "code",
   "execution_count": 4,
   "id": "10ad2b9b-2280-4ff1-998b-5dfa2fefe734",
   "metadata": {},
   "outputs": [],
   "source": [
    "#q2\n",
    "madmap_index = \"madmap\"\n",
    "try:\n",
    "    client.indices.delete(index=madmap_index)\n",
    "except NotFoundError as e:\n",
    "    print(\"Index doesn't exist!\")\n",
    "\n",
    "client.indices.create(index=madmap_index)\n",
    "\n",
    "json_data_dir = \"data/jsons\"\n",
    "json_files = [f for f in os.listdir(json_data_dir) if \".json\" in f and f != 'places.json']\n",
    "\n",
    "for json_file in json_files:\n",
    "    with open(f'data/jsons/{json_file}', 'r') as f:\n",
    "        data = json.load(f)\n",
    "        key = list(data.keys())[0]\n",
    "        documents = data[key]\n",
    "        if isinstance(documents, list):\n",
    "            actions = [{\"_index\": madmap_index, \"_source\": doc} for doc in documents]\n",
    "        helpers.bulk(client, actions)\n",
    "         \n",
    "q2 = client.indices.get_mapping(index=madmap_index)\n",
    "\n",
    "with open('answers/q2.json', 'w') as f:\n",
    "    json.dump(dict(q2), f, indent=4)"
   ]
  },
  {
   "cell_type": "code",
   "execution_count": 7,
   "id": "51a0548f-8a73-4a78-b8b5-1eef6596ac4f",
   "metadata": {},
   "outputs": [],
   "source": [
    "#### Q3: Add a new, index-able field named wiki (type: text) to the mapping from Q2. Bulk upload all the text files. Save this new dynamic mapping result in q3.json."
   ]
  },
  {
   "cell_type": "code",
   "execution_count": 5,
   "id": "63571664-a496-4fc4-84e0-36a1b56efb9c",
   "metadata": {},
   "outputs": [],
   "source": [
    "#q3\n",
    "mapping_update = {\n",
    "    \"properties\": {\n",
    "        \"wiki\": {\"type\": \"text\"}\n",
    "    }\n",
    "}\n",
    "\n",
    "client.indices.put_mapping(index=madmap_index, body=mapping_update)\n",
    "\n",
    "text_data_dir = \"data/text\"\n",
    "text_files = [f for f in os.listdir(text_data_dir) if \".txt\" in f]\n",
    "\n",
    "actions = []\n",
    "\n",
    "for text_file in text_files:\n",
    "    with open(f'data/text/{text_file}', 'r') as f:\n",
    "        data = f.read()\n",
    "        actions.append({\"_index\": madmap_index, \"_source\": {\"wiki\": data}})\n",
    "\n",
    "if actions:\n",
    "    helpers.bulk(client, actions)\n",
    "\n",
    "q3 = client.indices.get_mapping(index=madmap_index)\n",
    "\n",
    "with open('answers/q3.json', 'w') as f:\n",
    "    json.dump(dict(q3), f, indent=4)"
   ]
  },
  {
   "cell_type": "code",
   "execution_count": 9,
   "id": "e0283fea-5fa5-4f10-88e3-f47162d0edcd",
   "metadata": {},
   "outputs": [],
   "source": [
    "#### Q4: Find all locations that contain \"University\"."
   ]
  },
  {
   "cell_type": "code",
   "execution_count": 6,
   "id": "449e1bde-4865-45b3-b960-b7e334c1af90",
   "metadata": {},
   "outputs": [],
   "source": [
    "#q4\n",
    "query = {\n",
    "    \"query\": {\n",
    "        \"match\": {\n",
    "            \"formattedAddress\": \"University\"\n",
    "        }\n",
    "    },\n",
    "    \"size\": 1000 \n",
    "}\n",
    "\n",
    "q4 = client.search(index=madmap_index, body=query)\n",
    "\n",
    "with open('answers/q4.json', 'w') as f:\n",
    "    json.dump(dict(q4), f, indent=4)"
   ]
  },
  {
   "cell_type": "code",
   "execution_count": 11,
   "id": "1f88c391-1e0e-4db9-bb2b-1e05bf767e33",
   "metadata": {},
   "outputs": [],
   "source": [
    "#### Q5: Find all titles of news articles that containe something similar to \"Madson\" (Fuzzy search)."
   ]
  },
  {
   "cell_type": "code",
   "execution_count": 7,
   "id": "7365b070-8533-4ffd-9365-41945a5579e8",
   "metadata": {},
   "outputs": [],
   "source": [
    "#q5\n",
    "query = {\n",
    "  \"size\": 1000,\n",
    "  \"query\": {\n",
    "    \"match\": {\n",
    "      \"title\": {\n",
    "        \"query\": \"Madson\",\n",
    "        \"fuzziness\": \"AUTO\"\n",
    "      }\n",
    "    }\n",
    "  },\n",
    "  \"_source\": [\"title\"]\n",
    "}\n",
    "\n",
    "q5 = client.search(index=madmap_index, body=query)\n",
    "\n",
    "with open('answers/q5.json', 'w') as f:\n",
    "    json.dump(dict(q5), f, indent=4)"
   ]
  },
  {
   "cell_type": "code",
   "execution_count": 13,
   "id": "8ec25e5f-8e0a-41c8-b5ce-50f34e797f2d",
   "metadata": {},
   "outputs": [],
   "source": [
    "#### Q6: Find all news articles whose title or description or content contains the phrase \"Wisconsin Badgers\"."
   ]
  },
  {
   "cell_type": "code",
   "execution_count": 8,
   "id": "c6677f73-3736-4859-8d30-1c247a8a19f4",
   "metadata": {},
   "outputs": [],
   "source": [
    "#q6\n",
    "query = {\n",
    "  \"size\": 1000,\n",
    "  \"query\": {\n",
    "    \"bool\": {\n",
    "      \"should\": [\n",
    "        { \"match_phrase\": { \"title\": \"Wisconsin Badgers\" } },\n",
    "        { \"match_phrase\": { \"description\": \"Wisconsin Badgers\" } },\n",
    "        { \"match_phrase\": { \"content\": \"Wisconsin Badgers\" } }\n",
    "      ]\n",
    "    }\n",
    "  }\n",
    "}\n",
    "\n",
    "q6 = client.search(index=madmap_index, body=query)\n",
    "\n",
    "with open('answers/q6.json', 'w') as f:\n",
    "    json.dump(dict(q6), f, indent=4)"
   ]
  },
  {
   "cell_type": "code",
   "execution_count": 15,
   "id": "59981364-ea50-4d37-a2d8-db873e38d4a8",
   "metadata": {},
   "outputs": [],
   "source": [
    "#### Q7: Find all locations that do not have \"Madison\" in their address."
   ]
  },
  {
   "cell_type": "code",
   "execution_count": 9,
   "id": "9132f5c4-fbca-4d15-824c-c8df501c6573",
   "metadata": {},
   "outputs": [],
   "source": [
    "#q7\n",
    "query = {\n",
    "  \"size\": 1000,\n",
    "  \"query\": {\n",
    "    \"bool\": {\n",
    "      \"must\": [\n",
    "        { \"exists\": { \"field\": \"formattedAddress\" } }  \n",
    "      ],\n",
    "      \"must_not\": [\n",
    "        { \"match\": { \"formattedAddress\": \"Madison\" } }  \n",
    "      ]\n",
    "    }\n",
    "  },\n",
    "  \"_source\": [\"name\", \"formattedAddress\"]\n",
    "}\n",
    "\n",
    "q7 = client.search(index=madmap_index, body=query)\n",
    "\n",
    "with open('answers/q7.json', 'w') as f:\n",
    "    json.dump(dict(q7), f, indent=4)"
   ]
  },
  {
   "cell_type": "code",
   "execution_count": 17,
   "id": "72427f7a-73ee-4597-ab8a-864146bce71e",
   "metadata": {},
   "outputs": [],
   "source": [
    "#### Q8: What are the biggest football rivalries of Wisconsin Badgers (Boosting)?"
   ]
  },
  {
   "cell_type": "code",
   "execution_count": 10,
   "id": "bbd2f7f6-519f-4960-93f4-64c082bc40af",
   "metadata": {},
   "outputs": [],
   "source": [
    "#q8\n",
    "query = {\n",
    "  \"size\": 1000,\n",
    "  \"query\": {\n",
    "    \"simple_query_string\": {\n",
    "      \"query\": \"rivalry^5 football^3 badgers\",\n",
    "      \"fields\": [\"wiki\"]\n",
    "    }\n",
    "  },\n",
    "  \"_source\": [\"wiki\"]\n",
    "}\n",
    "\n",
    "q8 = client.search(index=madmap_index, body=query)\n",
    "\n",
    "with open('answers/q8.json', 'w') as f:\n",
    "    json.dump(dict(q8), f, indent=4)"
   ]
  },
  {
   "cell_type": "code",
   "execution_count": 19,
   "id": "b4c6378b-f242-4f14-b067-d043da5af587",
   "metadata": {},
   "outputs": [],
   "source": [
    "#### Q9: Highlight rivalries. "
   ]
  },
  {
   "cell_type": "code",
   "execution_count": 11,
   "id": "0b882438-e85e-4ac7-8f91-989687d90f49",
   "metadata": {},
   "outputs": [],
   "source": [
    "#q9\n",
    "query = {\n",
    "  \"size\": 1,\n",
    "  \"query\": {\n",
    "    \"match_phrase\": {\n",
    "      \"wiki\": \"rivalry\"\n",
    "    }\n",
    "  },\n",
    "  \"_source\": [\"wiki\"],\n",
    "  \"highlight\": {\n",
    "    \"fields\": {\n",
    "      \"wiki\": {}\n",
    "    }\n",
    "  }\n",
    "}\n",
    "\n",
    "q9 = client.search(index=madmap_index, body=query)[\"hits\"][\"hits\"][0][\"highlight\"]\n",
    "\n",
    "with open('answers/q9.json', 'w') as f:\n",
    "    json.dump(dict(q9), f, indent=4)"
   ]
  },
  {
   "cell_type": "code",
   "execution_count": null,
   "id": "3722bfd7-cafe-46ce-aa31-06b758f162d1",
   "metadata": {},
   "outputs": [],
   "source": [
    "#### Q10: Write an Elasticsearch query that retrives all articles in news_madison.json where the source's \"name\" field exactly matches \"Nasa\". Save the output in q10.json. "
   ]
  },
  {
   "cell_type": "code",
   "execution_count": 12,
   "id": "1e9e9c48-37bf-454a-a2f0-523cda3587f5",
   "metadata": {},
   "outputs": [],
   "source": [
    "#q10\n",
    "query = {\n",
    "  \"size\": 1000,\n",
    "  \"query\": {\n",
    "    \"match_phrase\": {\n",
    "      \"source.name\": \"Nasa\"\n",
    "    }\n",
    "  },\n",
    "  \"_source\": [\"title\", \"source.name\", \"publishedAt\"]\n",
    "}\n",
    "\n",
    "q10 = client.search(index=madmap_index, body=query)\n",
    "\n",
    "with open('answers/q10.json', 'w') as f:\n",
    "    json.dump(dict(q10), f, indent=4)"
   ]
  },
  {
   "cell_type": "code",
   "execution_count": null,
   "id": "07dda942-1b10-40ca-a694-0f8cb14eafbb",
   "metadata": {},
   "outputs": [],
   "source": [
    "#### Q11: How many people were arrested in the State Street Halloween Party from from 2001 to 2019? Save the output in q11.json."
   ]
  },
  {
   "cell_type": "code",
   "execution_count": 13,
   "id": "56974b56-36bc-47bd-9c29-a0bba3999ee2",
   "metadata": {},
   "outputs": [],
   "source": [
    "#q11\n",
    "query = {\n",
    "    \"query\": {\n",
    "        \"bool\": {\n",
    "            \"must\": [\n",
    "                {\n",
    "                   \"range\": {\n",
    "                        \"year\": {\n",
    "                            \"gte\": \"2001\",\n",
    "                            \"lte\": \"2019\"\n",
    "                        }\n",
    "                    }\n",
    "                }\n",
    "            ]\n",
    "        }\n",
    "    },\n",
    "    \"aggs\": {\n",
    "        \"total_arrests\": {\n",
    "            \"sum\": {\n",
    "                \"field\": \"arrests\"\n",
    "            }\n",
    "        }\n",
    "    }\n",
    "}\n",
    "\n",
    "q11 = client.search(index=madmap_index, body=query)[\"aggregations\"][\"total_arrests\"][\"value\"]\n",
    "\n",
    "with open('answers/q11.json', 'w') as f:\n",
    "    json.dump(q11, f, indent=4)"
   ]
  },
  {
   "cell_type": "code",
   "execution_count": null,
   "id": "641c3648-57c4-418b-8970-8120429d7966",
   "metadata": {},
   "outputs": [],
   "source": [
    "#### Q12: What are the top 10 sources that published the most news articles?"
   ]
  },
  {
   "cell_type": "code",
   "execution_count": 14,
   "id": "dae67103-65bd-47a8-b2d9-f1aeadc5c1bc",
   "metadata": {},
   "outputs": [],
   "source": [
    "#q12\n",
    "query = {\n",
    "    \"aggs\": {\n",
    "        \"top_sources\": {\n",
    "            \"terms\": {\n",
    "                \"field\": \"source.name.keyword\",\n",
    "                \"size\": 10\n",
    "            }\n",
    "        }\n",
    "    }\n",
    "}\n",
    "\n",
    "q12 = client.search(index=madmap_index, body=query)[\"aggregations\"][\"top_sources\"][\"buckets\"]\n",
    "\n",
    "with open('answers/q12.json', 'w') as f:\n",
    "    json.dump(q12, f, indent=4)"
   ]
  },
  {
   "cell_type": "code",
   "execution_count": null,
   "id": "5ba4ceb7-fa24-4f26-87c9-85afcedc576e",
   "metadata": {},
   "outputs": [],
   "source": [
    "#### Q13: How many names are listed in the location dataset?"
   ]
  },
  {
   "cell_type": "code",
   "execution_count": 15,
   "id": "af0af406-356d-4613-b491-2fe20f743570",
   "metadata": {},
   "outputs": [],
   "source": [
    "#q13\n",
    "query = {\n",
    "  \"query\": {\n",
    "    \"exists\": {\n",
    "      \"field\": \"name\"\n",
    "    }\n",
    "  },\n",
    "  \"aggs\": {\n",
    "    \"location_name_count\": {\n",
    "      \"value_count\": {\n",
    "        \"field\": \"name.keyword\"\n",
    "      }\n",
    "    }\n",
    "  }\n",
    "}\n",
    "\n",
    "q13 = client.search(index=madmap_index, body=query)[\"aggregations\"][\"location_name_count\"][\"value\"]\n",
    "with open('answers/q13.json', 'w') as f:\n",
    "    json.dump(q13, f, indent=4)"
   ]
  },
  {
   "cell_type": "code",
   "execution_count": null,
   "id": "b5036698-cf2e-49d6-a8cc-e4cc62d148bf",
   "metadata": {},
   "outputs": [],
   "source": [
    "#### Q14: How many distinct authors contributed to the news articles?"
   ]
  },
  {
   "cell_type": "code",
   "execution_count": 16,
   "id": "8b5dc5a0-881a-4370-82be-bdc5a3ad5f1d",
   "metadata": {},
   "outputs": [],
   "source": [
    "#q14\n",
    "query = {\n",
    "  \"query\": {\n",
    "    \"exists\": {\n",
    "      \"field\": \"author\"\n",
    "    }\n",
    "  },\n",
    "  \"aggs\": {\n",
    "    \"unique_authors\": {\n",
    "      \"cardinality\": {\n",
    "        \"field\": \"author.keyword\"\n",
    "      }\n",
    "    }\n",
    "  }\n",
    "}\n",
    "\n",
    "q14 = client.search(index=madmap_index, body=query)[\"aggregations\"][\"unique_authors\"][\"value\"]\n",
    "with open('answers/q14.json', 'w') as f:\n",
    "    json.dump(q14, f, indent=4)"
   ]
  },
  {
   "cell_type": "code",
   "execution_count": null,
   "id": "0bf3185e-2f1f-4f52-a0a8-c8220bf51a6d",
   "metadata": {},
   "outputs": [],
   "source": [
    "#### Q15: How many people on an average attended the State Street Halloween Party from from 2001 to 2019?"
   ]
  },
  {
   "cell_type": "code",
   "execution_count": 17,
   "id": "20690077-a74c-48ab-94e2-05a64dd89f60",
   "metadata": {},
   "outputs": [],
   "source": [
    "#q15\n",
    "query = {\n",
    "  \"query\": {\n",
    "    \"exists\": {\n",
    "      \"field\": \"attended\"\n",
    "    }\n",
    "  },\n",
    "  \"aggs\": {\n",
    "    \"avg_attended\": {\n",
    "      \"avg\": {\n",
    "        \"field\": \"attended\"\n",
    "      }\n",
    "    }\n",
    "  }\n",
    "}\n",
    "\n",
    "q15 = client.search(index=madmap_index, body=query)[\"aggregations\"][\"avg_attended\"][\"value\"]\n",
    "with open('answers/q15.json', 'w') as f:\n",
    "    json.dump(q15, f, indent=4)"
   ]
  },
  {
   "cell_type": "code",
   "execution_count": null,
   "id": "8337885d-f964-48ca-b45d-d9ed3dac80b1",
   "metadata": {},
   "outputs": [],
   "source": [
    "#### Q16: Load places.json into Kibana Maps"
   ]
  },
  {
   "cell_type": "code",
   "execution_count": null,
   "id": "2f033013-cf2c-4431-9c26-ddcdf4cff8f6",
   "metadata": {},
   "outputs": [],
   "source": [
    "#q16"
   ]
  },
  {
   "cell_type": "code",
   "execution_count": null,
   "id": "ff480ff8-ba39-4d5b-9072-3fde871aca06",
   "metadata": {},
   "outputs": [],
   "source": [
    "#### Q17: Identify Areas in Madison with the Highest Business Density"
   ]
  },
  {
   "cell_type": "code",
   "execution_count": null,
   "id": "93a3cdee-cd1c-4c04-bbbf-8c14a89b3deb",
   "metadata": {},
   "outputs": [],
   "source": [
    "#q17"
   ]
  },
  {
   "cell_type": "code",
   "execution_count": null,
   "id": "6c02a896-26a2-4164-b3b0-8ea5c38f5b60",
   "metadata": {},
   "outputs": [],
   "source": [
    "#### Q18: Distribution of Price Levels Across Madison"
   ]
  },
  {
   "cell_type": "code",
   "execution_count": null,
   "id": "a650516b-e5d8-4526-8e46-96809f3a9c06",
   "metadata": {},
   "outputs": [],
   "source": [
    "#q18"
   ]
  },
  {
   "cell_type": "code",
   "execution_count": null,
   "id": "5b8df464-e8fe-477b-9ce5-7e4e177b8d71",
   "metadata": {},
   "outputs": [],
   "source": [
    "#### Q19: Find the Most Expensive Place in Madison"
   ]
  },
  {
   "cell_type": "code",
   "execution_count": 18,
   "id": "6dc95512-cb40-455b-812b-4d0954bda35c",
   "metadata": {},
   "outputs": [],
   "source": [
    "#q19\n",
    "\n",
    "q19 = {\n",
    "  \"coordinates\": [\n",
    "    {\n",
    "      \"coordinates\": [\n",
    "        -89.38210219999999,\n",
    "        43.0754933\n",
    "      ],\n",
    "      \"type\": \"Point\"\n",
    "    }\n",
    "  ],\n",
    "  \"formattedAddress\": [\n",
    "    \"1 S Pinckney St, Madison, WI 53703, USA\"\n",
    "  ],\n",
    "  \"name\": [\n",
    "    \"L'Etoile Restaurant\"\n",
    "  ],\n",
    "  \"place_id\": [\n",
    "    \"ChIJvw6XEsNTBogRN99XXAXk-pI\"\n",
    "  ],\n",
    "  \"place_type\": [\n",
    "    \"restaurants\"\n",
    "  ],\n",
    "  \"priceLevel\": [\n",
    "    \"PRICE_LEVEL_VERY_EXPENSIVE\"\n",
    "  ],\n",
    "  \"_id\": \"2wh7lpUBrIXkCu8zrtVP\",\n",
    "  \"_index\": \"places_madison\",\n",
    "  \"_score\": 0\n",
    "}\n",
    "\n",
    "with open('answers/q19.json', 'w') as f:\n",
    "    json.dump(q19, f, indent=4)"
   ]
  },
  {
   "cell_type": "code",
   "execution_count": null,
   "id": "b517a735-528a-4ba4-a81c-0147a80927a2",
   "metadata": {},
   "outputs": [],
   "source": [
    "#### Q20: Find the Nearest Cafe from the Computer Sciences Department"
   ]
  },
  {
   "cell_type": "code",
   "execution_count": null,
   "id": "2c9d656a-ed10-4aac-971b-fead1b1673f9",
   "metadata": {},
   "outputs": [],
   "source": [
    "#q20"
   ]
  }
 ],
 "metadata": {
  "kernelspec": {
   "display_name": "Python 3 (ipykernel)",
   "language": "python",
   "name": "python3"
  },
  "language_info": {
   "codemirror_mode": {
    "name": "ipython",
    "version": 3
   },
   "file_extension": ".py",
   "mimetype": "text/x-python",
   "name": "python",
   "nbconvert_exporter": "python",
   "pygments_lexer": "ipython3",
   "version": "3.10.12"
  }
 },
 "nbformat": 4,
 "nbformat_minor": 5
}
