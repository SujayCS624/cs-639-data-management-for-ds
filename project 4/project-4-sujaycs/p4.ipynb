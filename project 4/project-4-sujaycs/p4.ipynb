{
 "cells": [
  {
   "cell_type": "code",
   "execution_count": 1,
   "id": "3bd3ed9d-70da-422c-90ef-ed9519d48a4b",
   "metadata": {},
   "outputs": [],
   "source": [
    "import snowflake.connector\n",
    "import pandas as pd\n",
    "import matplotlib.pyplot as plt\n",
    "from sqlalchemy import create_engine"
   ]
  },
  {
   "cell_type": "code",
   "execution_count": 2,
   "id": "9e60373a-25cf-4274-a0fe-d696ebacaf9e",
   "metadata": {},
   "outputs": [],
   "source": [
    "with open(\"snowflake_password\", \"r\") as file:\n",
    "    snowflake_password = file.read()\n",
    "    snowflake_password = snowflake_password.strip()"
   ]
  },
  {
   "cell_type": "code",
   "execution_count": 3,
   "id": "5f4f500d-d404-4de0-b856-ff9f07b129ca",
   "metadata": {},
   "outputs": [
    {
     "data": {
      "text/plain": [
       "<snowflake.connector.cursor.SnowflakeCursor at 0x78a6a16aba30>"
      ]
     },
     "execution_count": 3,
     "metadata": {},
     "output_type": "execute_result"
    }
   ],
   "source": [
    "conn = snowflake.connector.connect(\n",
    "    user='SUJAYCS',\n",
    "    password=snowflake_password,\n",
    "    account='UB31291.us-central1.gcp'\n",
    ")\n",
    "\n",
    "cursor = conn.cursor()\n",
    "cursor.execute(\"USE DATABASE SURVEY_DATABASE;\")\n",
    "cursor.execute(\"USE SCHEMA SURVEY_SCHEMA;\")"
   ]
  },
  {
   "cell_type": "code",
   "execution_count": 1,
   "id": "950bcace-1ecb-442a-a470-da02d0d2dad3",
   "metadata": {},
   "outputs": [],
   "source": [
    "#### Q3: Install DBT using Miniconda"
   ]
  },
  {
   "cell_type": "code",
   "execution_count": 4,
   "id": "148baa49-7bd8-4f15-9fda-a610252b0c8d",
   "metadata": {},
   "outputs": [
    {
     "name": "stdout",
     "output_type": "stream",
     "text": [
      "/home/SujayCS/.local/bin/dbt\n"
     ]
    }
   ],
   "source": [
    "#q3\n",
    "!which dbt"
   ]
  },
  {
   "cell_type": "code",
   "execution_count": null,
   "id": "c7578db9-2435-45ed-9a6f-bd9e417477d3",
   "metadata": {},
   "outputs": [],
   "source": [
    "#### Q9: Create survey_transformed view using DBT"
   ]
  },
  {
   "cell_type": "code",
   "execution_count": 5,
   "id": "2d056324-0f58-4eba-8ff4-34e5f703e1c3",
   "metadata": {},
   "outputs": [
    {
     "name": "stdout",
     "output_type": "stream",
     "text": [
      "p4_data_pipeline:\n",
      "  target: dev # default target; can be switched using --target option of dbt run\n",
      "  outputs:\n",
      "    dev:\n",
      "      type: snowflake\n",
      "      account: UB31291.us-central1.gcp \n",
      "      user: SUJAYCS\n",
      "      role: P4_ROLE\n",
      "      database: SURVEY_DATABASE \n",
      "      warehouse: P4_WAREHOUSE\n",
      "      schema: SURVEY_SCHEMA\n",
      "      threads: 10\n",
      "\n",
      "    stock_db:\n",
      "      type: snowflake\n",
      "      account: UB31291.us-central1.gcp\n",
      "      user: SUJAYCS\n",
      "      role: P4_ROLE\n",
      "      database: STOCK_DB\n",
      "      warehouse: P4_WAREHOUSE\n",
      "      schema: STOCK_SCHEMA\n",
      "      threads: 10\n"
     ]
    }
   ],
   "source": [
    "#q9 Part 1\n",
    "!grep -v \"password\" ~/.dbt/profiles.yml"
   ]
  },
  {
   "cell_type": "code",
   "execution_count": 6,
   "id": "15396052-e708-4b0a-988f-f5038f54b030",
   "metadata": {},
   "outputs": [
    {
     "name": "stdout",
     "output_type": "stream",
     "text": [
      "version: 2\n",
      "\n",
      "sources:\n",
      "  - name: survey_data\n",
      "    database: SURVEY_DATABASE\n",
      "    schema: SURVEY_SCHEMA\n",
      "    tables:\n",
      "      - name: survey  # original table from Google Sheets\n",
      "  - name: stock_by_day\n",
      "    database: STOCK_TRACKING_US_STOCK_PRICES_BY_DAY\n",
      "    schema: STOCK\n",
      "    tables:\n",
      "      - name: US_STOCK_METRICS\n",
      "  - name: fx_by_day\n",
      "    database: FOREX_TRACKING_CURRENCY_EXCHANGE_RATES_BY_DAY\n",
      "    schema: STOCK\n",
      "    tables:\n",
      "      - name: FOREX_METRICS\n",
      "  - name: airbyte_csv_data\n",
      "    database: STOCK_DB\n",
      "    schema: STOCK_SCHEMA\n",
      "    tables:\n",
      "      - name: TRADING_BOOKS\n",
      "      - name: WEIGHTS_TABLE\n",
      "\n"
     ]
    }
   ],
   "source": [
    "#q9 Part 2\n",
    "!cat ~/p4_data_pipeline/models/schema.yml"
   ]
  },
  {
   "cell_type": "code",
   "execution_count": 7,
   "id": "ed7622f4-08e5-4c94-a34b-22044f8983b9",
   "metadata": {},
   "outputs": [
    {
     "name": "stdout",
     "output_type": "stream",
     "text": [
      "{{ config(alias='survey_transformed') }}\n",
      "\n",
      "with raw_survey as (\n",
      "    select * from {{ source('survey_data', 'survey') }}\n",
      "),\n",
      "\n",
      "survey_transformed as (\n",
      "    select\n",
      "        {{ adapter.quote('ARE_YOU_A_RUNNER_CONSIDER_BOTH_RUNNING_ON_TREADMILL_AND_OUTDOORS_') }} as is_runner,\n",
      "        {{ adapter.quote('DO_YOU_CONSIDER_YOURSELF_A_PROCRASTINATOR_') }} as is_procrastinator,\n",
      "        {{ adapter.quote('EMAIL_ADDRESS') }} as email,\n",
      "        {{ adapter.quote('HAVE_YOU_EVER_IN_YOUR_LIFE_HAD_A_PET_') }} as has_pet,\n",
      "        {{ adapter.quote('IF_YOU_HAD_AN_EXTRA_HOUR_IN_YOUR_DAY_HOW_WOULD_YOU_SPEND_IT_') }} as extra_time,\n",
      "        {{ adapter.quote('IF_YOU_HAVE_SECONDARY_MAJORS_PLEASE_LIST_THEM_HERE_SEPARATED_BY_A_COMMA_') }} as secondary_major,\n",
      "        {{ adapter.quote('WHAT_FACTOR_INFLUENCES_YOUR_COURSE_SELECTION_THE_MOST_') }} as course_motivation,\n",
      "        {{ adapter.quote('WHAT_IS_THE_5_DIGIT_ZIP_CODE_OF_YOUR_RESIDENCE_WHILE_ATTENDING_CLASSES_IF_YOU_ARE_NOT_SURE_CHECK_HERE_HTTPS_TOOLS_USPS_COM_ZIP_CODE_LOOKUP_HTM_BYADDRESS_') }} as zip_code,\n",
      "        {{ adapter.quote('WHAT_IS_YOUR_AGE_') }} as age,\n",
      "        {{ adapter.quote('WHAT_IS_YOUR_CURRENT_STANDING') }} as current_standing,\n",
      "        {{ adapter.quote('WHAT_IS_YOUR_FAVORITE_HOBBY_') }} as favourite_hobby,\n",
      "        {{ adapter.quote('WHAT_IS_YOUR_FAVORITE_PIZZA_TOPPING_') }} as favourite_topping, \n",
      "        {{ adapter.quote('WHICH_BEST_DESCRIBES_YOUR_PRIMARY_MAJOR_OR_FIELD_OF_STUDY_IF_YOU_HAVE_MORE_THAN_ONE_MAJOR_PLEASE_SPECIFY_OTHER_MAJORS_AS_PART_OF_THE_NEXT_QUESTION_') }} as primary_major,\n",
      "        {{ adapter.quote('WOULD_YOU_DESCRIBE_YOURSELF_AS_AN_EARLY_BIRD_OR_A_NIGHT_OWL_') }} as chronotype \n",
      "    from raw_survey\n",
      ")\n",
      "\n",
      "select * from survey_transformed"
     ]
    }
   ],
   "source": [
    "#q9 Part 3\n",
    "!cat ~/p4_data_pipeline/models/staging/transform_survey.sql"
   ]
  },
  {
   "cell_type": "code",
   "execution_count": null,
   "id": "00ee7023-23b8-4600-bbdd-736d1edb8098",
   "metadata": {},
   "outputs": [],
   "source": [
    "#### Q10: Generate a Pie Chart using Matplotlib to show the distribution of students' current standing"
   ]
  },
  {
   "cell_type": "code",
   "execution_count": 8,
   "id": "463b25e4-85f2-4040-bbd3-e51d6c427189",
   "metadata": {},
   "outputs": [
    {
     "name": "stderr",
     "output_type": "stream",
     "text": [
      "/tmp/ipykernel_9290/360374684.py:8: UserWarning: pandas only supports SQLAlchemy connectable (engine/connection) or database string URI or sqlite3 DBAPI2 connection. Other DBAPI2 objects are not tested. Please consider using SQLAlchemy.\n",
      "  df = pd.read_sql(query, conn)\n"
     ]
    },
    {
     "data": {
      "image/png": "[encoded data removed]",
      "text/plain": [
       "<Figure size 500x500 with 1 Axes>"
      ]
     },
     "metadata": {},
     "output_type": "display_data"
    }
   ],
   "source": [
    "#q10\n",
    "query = \"\"\"\n",
    "SELECT current_standing, COUNT(*) AS count\n",
    "FROM SURVEY_SCHEMA.SURVEY_TRANSFORMED\n",
    "GROUP BY current_standing;\n",
    "\"\"\"\n",
    "\n",
    "df = pd.read_sql(query, conn)\n",
    "plt.figure(figsize=(5, 5))\n",
    "plt.pie(df['COUNT'], labels=df['CURRENT_STANDING'], autopct='%1.1f%%')\n",
    "plt.title(\"Pie Chart of Students' Current Standing\")\n",
    "plt.show()"
   ]
  },
  {
   "cell_type": "code",
   "execution_count": null,
   "id": "b266cfee-213e-438f-8681-184f58cf58b5",
   "metadata": {},
   "outputs": [],
   "source": [
    "#### Q11: Generate a Histogram using Matplotlib to identify students' motivation for taking the course"
   ]
  },
  {
   "cell_type": "code",
   "execution_count": 9,
   "id": "2086b0af-3976-4b2e-aece-ecf8ccbf65e7",
   "metadata": {},
   "outputs": [
    {
     "name": "stderr",
     "output_type": "stream",
     "text": [
      "/tmp/ipykernel_9290/3525393560.py:8: UserWarning: pandas only supports SQLAlchemy connectable (engine/connection) or database string URI or sqlite3 DBAPI2 connection. Other DBAPI2 objects are not tested. Please consider using SQLAlchemy.\n",
      "  df = pd.read_sql(query, conn)\n"
     ]
    },
    {
     "data": {
      "image/png": "[encoded data removed]",
      "text/plain": [
       "<Figure size 500x500 with 1 Axes>"
      ]
     },
     "metadata": {},
     "output_type": "display_data"
    }
   ],
   "source": [
    "#q11\n",
    "query = \"\"\"\n",
    "SELECT course_motivation, COUNT(*) AS count\n",
    "FROM SURVEY_SCHEMA.SURVEY_TRANSFORMED\n",
    "GROUP BY course_motivation;\n",
    "\"\"\"\n",
    "\n",
    "df = pd.read_sql(query, conn)\n",
    "df\n",
    "plt.figure(figsize=(5, 5))\n",
    "plt.bar(df['COURSE_MOTIVATION'], df['COUNT'], edgecolor='black')\n",
    "plt.title(\"Histogram of Students' Motivation for Taking the Course\")\n",
    "plt.xlabel(\"Motivation\")\n",
    "plt.ylabel(\"Number of Students\")\n",
    "plt.xticks(rotation=45)\n",
    "plt.show()"
   ]
  },
  {
   "cell_type": "code",
   "execution_count": null,
   "id": "a29d2fa3-9ae5-41f0-9fbc-ce078c3584eb",
   "metadata": {},
   "outputs": [],
   "source": [
    "#### Q12: How many students have had pets before?"
   ]
  },
  {
   "cell_type": "code",
   "execution_count": 10,
   "id": "74b74843-9fbf-4eb0-ab05-38546c3bec5a",
   "metadata": {},
   "outputs": [
    {
     "name": "stderr",
     "output_type": "stream",
     "text": [
      "/tmp/ipykernel_9290/2800343809.py:9: UserWarning: pandas only supports SQLAlchemy connectable (engine/connection) or database string URI or sqlite3 DBAPI2 connection. Other DBAPI2 objects are not tested. Please consider using SQLAlchemy.\n",
      "  df = pd.read_sql(query, conn)\n"
     ]
    },
    {
     "data": {
      "text/plain": [
       "0    106\n",
       "Name: COUNT, dtype: int64"
      ]
     },
     "execution_count": 10,
     "metadata": {},
     "output_type": "execute_result"
    }
   ],
   "source": [
    "#q12\n",
    "query = \"\"\"\n",
    "SELECT has_pet, COUNT(*) AS count\n",
    "FROM SURVEY_SCHEMA.SURVEY_TRANSFORMED\n",
    "GROUP BY has_pet \n",
    "HAVING has_pet = 'Yes';\n",
    "\"\"\"\n",
    "\n",
    "df = pd.read_sql(query, conn)\n",
    "df['COUNT']"
   ]
  },
  {
   "cell_type": "code",
   "execution_count": null,
   "id": "58785604-f3a8-46c7-90b9-b4e179253d3d",
   "metadata": {},
   "outputs": [],
   "source": [
    "#### Q13: What are the top 5 hobbies among students?"
   ]
  },
  {
   "cell_type": "code",
   "execution_count": 11,
   "id": "2a1e3cec-a782-4d53-983e-bcac70becaa7",
   "metadata": {},
   "outputs": [
    {
     "name": "stderr",
     "output_type": "stream",
     "text": [
      "/tmp/ipykernel_9290/757217326.py:10: UserWarning: pandas only supports SQLAlchemy connectable (engine/connection) or database string URI or sqlite3 DBAPI2 connection. Other DBAPI2 objects are not tested. Please consider using SQLAlchemy.\n",
      "  df = pd.read_sql(query, conn)\n"
     ]
    },
    {
     "data": {
      "text/plain": [
       "0       Reading\n",
       "1    basketball\n",
       "2        Guitar\n",
       "3    Basketball\n",
       "4       Drawing\n",
       "Name: FAVOURITE_HOBBY, dtype: object"
      ]
     },
     "execution_count": 11,
     "metadata": {},
     "output_type": "execute_result"
    }
   ],
   "source": [
    "#q13\n",
    "query = \"\"\"\n",
    "SELECT favourite_hobby, COUNT(*) AS count\n",
    "FROM SURVEY_SCHEMA.SURVEY_TRANSFORMED\n",
    "GROUP BY favourite_hobby\n",
    "ORDER BY count DESC\n",
    "LIMIT 5;\n",
    "\"\"\"\n",
    "\n",
    "df = pd.read_sql(query, conn)\n",
    "df['FAVOURITE_HOBBY']"
   ]
  },
  {
   "cell_type": "code",
   "execution_count": null,
   "id": "b3d80731-e568-427f-a06a-ccb9200139b6",
   "metadata": {},
   "outputs": [],
   "source": [
    "#### Q14: Find the most popular pizza topping"
   ]
  },
  {
   "cell_type": "code",
   "execution_count": 12,
   "id": "9f530bf9-120f-435b-9c2b-7da289226af3",
   "metadata": {},
   "outputs": [
    {
     "name": "stderr",
     "output_type": "stream",
     "text": [
      "/tmp/ipykernel_9290/2266629979.py:10: UserWarning: pandas only supports SQLAlchemy connectable (engine/connection) or database string URI or sqlite3 DBAPI2 connection. Other DBAPI2 objects are not tested. Please consider using SQLAlchemy.\n",
      "  df = pd.read_sql(query, conn)\n"
     ]
    },
    {
     "data": {
      "text/plain": [
       "0    pepperoni\n",
       "Name: FAVOURITE_TOPPING, dtype: object"
      ]
     },
     "execution_count": 12,
     "metadata": {},
     "output_type": "execute_result"
    }
   ],
   "source": [
    "#q14\n",
    "query = \"\"\"\n",
    "SELECT favourite_topping, COUNT(*) AS count\n",
    "FROM SURVEY_SCHEMA.SURVEY_TRANSFORMED\n",
    "GROUP BY favourite_topping\n",
    "ORDER BY count DESC\n",
    "LIMIT 1;\n",
    "\"\"\"\n",
    "\n",
    "df = pd.read_sql(query, conn)\n",
    "df['FAVOURITE_TOPPING']"
   ]
  },
  {
   "cell_type": "code",
   "execution_count": null,
   "id": "ca17da25-3243-4bef-947e-243f321963af",
   "metadata": {},
   "outputs": [],
   "source": [
    "#### Q15: Find the percentage of students falling into each chronotype category (early bird/ night owl/ no pref)"
   ]
  },
  {
   "cell_type": "code",
   "execution_count": 13,
   "id": "307c12a6-381c-4747-8c20-64d399134612",
   "metadata": {},
   "outputs": [
    {
     "name": "stderr",
     "output_type": "stream",
     "text": [
      "/tmp/ipykernel_9290/4003078061.py:10: UserWarning: pandas only supports SQLAlchemy connectable (engine/connection) or database string URI or sqlite3 DBAPI2 connection. Other DBAPI2 objects are not tested. Please consider using SQLAlchemy.\n",
      "  df = pd.read_sql(query, conn)\n"
     ]
    },
    {
     "data": {
      "text/html": [
       "<div>\n",
       "<style scoped>\n",
       "    .dataframe tbody tr th:only-of-type {\n",
       "        vertical-align: middle;\n",
       "    }\n",
       "\n",
       "    .dataframe tbody tr th {\n",
       "        vertical-align: top;\n",
       "    }\n",
       "\n",
       "    .dataframe thead th {\n",
       "        text-align: right;\n",
       "    }\n",
       "</style>\n",
       "<table border=\"1\" class=\"dataframe\">\n",
       "  <thead>\n",
       "    <tr style=\"text-align: right;\">\n",
       "      <th></th>\n",
       "      <th>CHRONOTYPE</th>\n",
       "      <th>PERCENTAGE</th>\n",
       "    </tr>\n",
       "  </thead>\n",
       "  <tbody>\n",
       "    <tr>\n",
       "      <th>0</th>\n",
       "      <td>night owl</td>\n",
       "      <td>61.805556</td>\n",
       "    </tr>\n",
       "    <tr>\n",
       "      <th>1</th>\n",
       "      <td>early bird</td>\n",
       "      <td>22.916667</td>\n",
       "    </tr>\n",
       "    <tr>\n",
       "      <th>2</th>\n",
       "      <td>no preference</td>\n",
       "      <td>15.277778</td>\n",
       "    </tr>\n",
       "  </tbody>\n",
       "</table>\n",
       "</div>"
      ],
      "text/plain": [
       "      CHRONOTYPE  PERCENTAGE\n",
       "0      night owl   61.805556\n",
       "1     early bird   22.916667\n",
       "2  no preference   15.277778"
      ]
     },
     "execution_count": 13,
     "metadata": {},
     "output_type": "execute_result"
    }
   ],
   "source": [
    "#q15\n",
    "query = \"\"\"\n",
    "SELECT chronotype,\n",
    "    COUNT(*) * 100.0 / SUM(COUNT(*)) OVER () AS percentage\n",
    "FROM SURVEY_SCHEMA.SURVEY_TRANSFORMED\n",
    "GROUP BY chronotype\n",
    "ORDER BY percentage DESC;\n",
    "\"\"\"\n",
    "\n",
    "df = pd.read_sql(query, conn)\n",
    "df"
   ]
  },
  {
   "cell_type": "code",
   "execution_count": null,
   "id": "ca6df04b-cb42-43ab-ada4-f1ed0bb28ca3",
   "metadata": {},
   "outputs": [],
   "source": [
    "#### Q16: What is the average age of students who consider themselves procrastinators versus non-procrastinators?"
   ]
  },
  {
   "cell_type": "code",
   "execution_count": 14,
   "id": "37c36975-06f8-46c8-8069-26a27acb4b1d",
   "metadata": {},
   "outputs": [
    {
     "name": "stderr",
     "output_type": "stream",
     "text": [
      "/tmp/ipykernel_9290/1595564160.py:9: UserWarning: pandas only supports SQLAlchemy connectable (engine/connection) or database string URI or sqlite3 DBAPI2 connection. Other DBAPI2 objects are not tested. Please consider using SQLAlchemy.\n",
      "  df = pd.read_sql(query, conn)\n"
     ]
    },
    {
     "data": {
      "text/html": [
       "<div>\n",
       "<style scoped>\n",
       "    .dataframe tbody tr th:only-of-type {\n",
       "        vertical-align: middle;\n",
       "    }\n",
       "\n",
       "    .dataframe tbody tr th {\n",
       "        vertical-align: top;\n",
       "    }\n",
       "\n",
       "    .dataframe thead th {\n",
       "        text-align: right;\n",
       "    }\n",
       "</style>\n",
       "<table border=\"1\" class=\"dataframe\">\n",
       "  <thead>\n",
       "    <tr style=\"text-align: right;\">\n",
       "      <th></th>\n",
       "      <th>IS_PROCRASTINATOR</th>\n",
       "      <th>AVERAGE_AGE</th>\n",
       "    </tr>\n",
       "  </thead>\n",
       "  <tbody>\n",
       "    <tr>\n",
       "      <th>0</th>\n",
       "      <td>No</td>\n",
       "      <td>21.805556</td>\n",
       "    </tr>\n",
       "    <tr>\n",
       "      <th>1</th>\n",
       "      <td>Yes</td>\n",
       "      <td>21.064935</td>\n",
       "    </tr>\n",
       "  </tbody>\n",
       "</table>\n",
       "</div>"
      ],
      "text/plain": [
       "  IS_PROCRASTINATOR  AVERAGE_AGE\n",
       "0                No    21.805556\n",
       "1               Yes    21.064935"
      ]
     },
     "execution_count": 14,
     "metadata": {},
     "output_type": "execute_result"
    }
   ],
   "source": [
    "#q16\n",
    "query = \"\"\"\n",
    "SELECT is_procrastinator, AVG(age) AS average_age\n",
    "FROM SURVEY_SCHEMA.SURVEY_TRANSFORMED\n",
    "WHERE is_procrastinator NOT LIKE 'Maybe'\n",
    "GROUP BY is_procrastinator;\n",
    "\"\"\"\n",
    "\n",
    "df = pd.read_sql(query, conn)\n",
    "df"
   ]
  },
  {
   "cell_type": "code",
   "execution_count": null,
   "id": "cc101bfb-8cce-48ca-a74a-a7a61ce8cdc3",
   "metadata": {},
   "outputs": [],
   "source": [
    "#### Q18: Configure DBT profile for stock_db"
   ]
  },
  {
   "cell_type": "code",
   "execution_count": 15,
   "id": "0a95c03c-183e-41f5-a36c-64cdf734d116",
   "metadata": {},
   "outputs": [
    {
     "name": "stdout",
     "output_type": "stream",
     "text": [
      "p4_data_pipeline:\n",
      "  target: dev # default target; can be switched using --target option of dbt run\n",
      "  outputs:\n",
      "    dev:\n",
      "      type: snowflake\n",
      "      account: UB31291.us-central1.gcp \n",
      "      user: SUJAYCS\n",
      "      role: P4_ROLE\n",
      "      database: SURVEY_DATABASE \n",
      "      warehouse: P4_WAREHOUSE\n",
      "      schema: SURVEY_SCHEMA\n",
      "      threads: 10\n",
      "\n",
      "    stock_db:\n",
      "      type: snowflake\n",
      "      account: UB31291.us-central1.gcp\n",
      "      user: SUJAYCS\n",
      "      role: P4_ROLE\n",
      "      database: STOCK_DB\n",
      "      warehouse: P4_WAREHOUSE\n",
      "      schema: STOCK_SCHEMA\n",
      "      threads: 10\n"
     ]
    }
   ],
   "source": [
    "#q18\n",
    "!grep -v \"password\" ~/.dbt/profiles.yml"
   ]
  },
  {
   "cell_type": "code",
   "execution_count": null,
   "id": "0fc896bf-9e99-44ed-870b-7391fdb30b0e",
   "metadata": {},
   "outputs": [],
   "source": [
    "#### Q19: Update models/schema.yml file to include second source"
   ]
  },
  {
   "cell_type": "code",
   "execution_count": 16,
   "id": "ad2b7bad-bf09-482c-80f7-66d2df6f35d0",
   "metadata": {},
   "outputs": [
    {
     "name": "stdout",
     "output_type": "stream",
     "text": [
      "version: 2\n",
      "\n",
      "sources:\n",
      "  - name: survey_data\n",
      "    database: SURVEY_DATABASE\n",
      "    schema: SURVEY_SCHEMA\n",
      "    tables:\n",
      "      - name: survey  # original table from Google Sheets\n",
      "  - name: stock_by_day\n",
      "    database: STOCK_TRACKING_US_STOCK_PRICES_BY_DAY\n",
      "    schema: STOCK\n",
      "    tables:\n",
      "      - name: US_STOCK_METRICS\n",
      "  - name: fx_by_day\n",
      "    database: FOREX_TRACKING_CURRENCY_EXCHANGE_RATES_BY_DAY\n",
      "    schema: STOCK\n",
      "    tables:\n",
      "      - name: FOREX_METRICS\n",
      "  - name: airbyte_csv_data\n",
      "    database: STOCK_DB\n",
      "    schema: STOCK_SCHEMA\n",
      "    tables:\n",
      "      - name: TRADING_BOOKS\n",
      "      - name: WEIGHTS_TABLE\n",
      "\n"
     ]
    }
   ],
   "source": [
    "#q19\n",
    "!cat ~/p4_data_pipeline/models/schema.yml"
   ]
  },
  {
   "cell_type": "code",
   "execution_count": null,
   "id": "485d032f-41ef-457f-90a6-0e5b5db2b979",
   "metadata": {},
   "outputs": [],
   "source": [
    "#### Q20: Create dbt_project.yml file in your dbt project directory"
   ]
  },
  {
   "cell_type": "code",
   "execution_count": 17,
   "id": "ae8bef9a-de39-47b5-a491-9412a0b93908",
   "metadata": {},
   "outputs": [
    {
     "name": "stdout",
     "output_type": "stream",
     "text": [
      "\n",
      "# Name your project! Project names should contain only lowercase characters\n",
      "# and underscores. A good package name should reflect your organization's\n",
      "# name or the intended use of these models\n",
      "name: 'p4_data_pipeline'\n",
      "version: '1.0.0'\n",
      "\n",
      "# This setting configures which \"profile\" dbt uses for this project.\n",
      "profile: 'p4_data_pipeline'\n",
      "\n",
      "# These configurations specify where dbt should look for different types of files.\n",
      "# The `model-paths` config, for example, states that models in this project can be\n",
      "# found in the \"models/\" directory. You probably won't need to change these!\n",
      "model-paths: [\"models\"]\n",
      "analysis-paths: [\"analyses\"]\n",
      "test-paths: [\"tests\"]\n",
      "seed-paths: [\"seeds\"]\n",
      "macro-paths: [\"macros\"]\n",
      "snapshot-paths: [\"snapshots\"]\n",
      "\n",
      "clean-targets:         # directories to be removed by `dbt clean`\n",
      "  - \"target\"\n",
      "  - \"dbt_packages\"\n",
      "\n",
      "\n",
      "# Configuring models\n",
      "# Full documentation: https://docs.getdbt.com/docs/configuring-models\n",
      "\n",
      "# In this example config, we tell dbt to build all models in the example/\n",
      "# directory as views. These settings can be overridden in the individual model\n",
      "# files using the `{{ config(...) }}` macro.\n",
      "models:\n",
      "  p4_data_pipeline:\n",
      "    # Config indicated by + and applies to all files under models/example/\n",
      "    example:\n",
      "      +materialized: view\n",
      "    staging:\n",
      "      +materialized: view\n",
      "      +snowflake_warehouse: P4_WAREHOUSE\n",
      "    marts:\n",
      "      +materialized: table\n",
      "      +snowflake_warehouse: P4_WAREHOUSE\n"
     ]
    }
   ],
   "source": [
    "#q20\n",
    "!cat ~/p4_data_pipeline/dbt_project.yml"
   ]
  },
  {
   "cell_type": "code",
   "execution_count": null,
   "id": "3f8e2410-5280-48b1-9fe9-f35f519d0dc2",
   "metadata": {},
   "outputs": [],
   "source": [
    "#### Q21: Creating staging tables for FX and Stock"
   ]
  },
  {
   "cell_type": "code",
   "execution_count": 18,
   "id": "702f0bf8-be17-4138-9021-8dcd14acfd07",
   "metadata": {},
   "outputs": [
    {
     "name": "stdout",
     "output_type": "stream",
     "text": [
      "with raw_fx_data as (\n",
      "    select * from {{ source('fx_by_day', 'FOREX_METRICS') }}\n",
      "),\n",
      "\n",
      "valid_tickers as (\n",
      "    select * from {{ source('airbyte_csv_data', 'TRADING_BOOKS') }}\n",
      "),\n",
      "\n",
      "staging_valid_fx_tickers as (\n",
      "    select rf.*\n",
      "    from raw_fx_data rf\n",
      "    inner join valid_tickers vt\n",
      "        on rf.CURRENCY_PAIR_NAME = vt.TICKER and \n",
      "        rf.RUN_DATE = vt.TRADE_DATE\n",
      ")\n",
      "\n",
      "select DISTINCT RUN_DATE, CURRENCY_PAIR_NAME from staging_valid_fx_tickers\n"
     ]
    }
   ],
   "source": [
    "#q21 Part 1\n",
    "!cat ~/p4_data_pipeline/models/staging/staging_valid_fx_tickers.sql"
   ]
  },
  {
   "cell_type": "code",
   "execution_count": 19,
   "id": "2805da87-b3bb-41e1-bc41-a33c4693395c",
   "metadata": {},
   "outputs": [
    {
     "name": "stdout",
     "output_type": "stream",
     "text": [
      "with raw_stock_data as (\n",
      "    select * from {{ source('stock_by_day', 'US_STOCK_METRICS') }}\n",
      "),\n",
      "\n",
      "valid_tickers as (\n",
      "    select * from {{ source('airbyte_csv_data', 'TRADING_BOOKS') }}\n",
      "),\n",
      "\n",
      "staging_valid_stock_tickers as (\n",
      "    select rs.*\n",
      "    from raw_stock_data rs\n",
      "    inner join valid_tickers vt\n",
      "        on rs.TICKER = vt.TICKER and\n",
      "        rs.RUN_DATE = vt.TRADE_DATE\n",
      ")\n",
      "\n",
      "select DISTINCT RUN_DATE, TICKER from staging_valid_stock_tickers\n"
     ]
    }
   ],
   "source": [
    "#q21 Part 2\n",
    "!cat ~/p4_data_pipeline/models/staging/staging_valid_stock_tickers.sql"
   ]
  },
  {
   "cell_type": "code",
   "execution_count": 20,
   "id": "a9e69273-94ad-4644-887f-37d2aa50b2e6",
   "metadata": {},
   "outputs": [
    {
     "name": "stdout",
     "output_type": "stream",
     "text": [
      "with selected_tickers as (\n",
      "    select DISTINCT RUN_DATE, CURRENCY_PAIR_NAME\n",
      "    from {{ ref('staging_valid_fx_tickers') }}\n",
      "),\n",
      "\n",
      "fx_info as (\n",
      "    select\n",
      "        st.RUN_DATE,\n",
      "        st.CURRENCY_PAIR_NAME,\n",
      "        rf.OPEN,\n",
      "        rf.CLOSE,\n",
      "        rf.HIGH,\n",
      "        rf.LOW\n",
      "    from selected_tickers st\n",
      "    inner join {{ source('fx_by_day', 'FOREX_METRICS') }} rf\n",
      "        on st.RUN_DATE = rf.RUN_DATE\n",
      "        and st.CURRENCY_PAIR_NAME = rf.CURRENCY_PAIR_NAME\n",
      ")\n",
      "\n",
      "select * from fx_info\n"
     ]
    }
   ],
   "source": [
    "#q21 Part 3\n",
    "!cat ~/p4_data_pipeline/models/staging/staging_valid_fx_info.sql"
   ]
  },
  {
   "cell_type": "code",
   "execution_count": 21,
   "id": "c9596810-21ce-4570-9d8f-a1e5f2fd89d8",
   "metadata": {},
   "outputs": [
    {
     "name": "stdout",
     "output_type": "stream",
     "text": [
      "with selected_tickers as (\n",
      "    select DISTINCT RUN_DATE, TICKER\n",
      "    from {{ ref('staging_valid_stock_tickers') }}\n",
      "),\n",
      "\n",
      "stock_info as (\n",
      "    select\n",
      "        st.RUN_DATE,\n",
      "        st.TICKER,\n",
      "        rs.OPEN,\n",
      "        rs.CLOSE,\n",
      "        rs.HIGH,\n",
      "        rs.LOW\n",
      "    from selected_tickers st\n",
      "    inner join {{ source('stock_by_day', 'US_STOCK_METRICS') }} rs\n",
      "        on st.RUN_DATE = rs.RUN_DATE\n",
      "        and st.TICKER = rs.TICKER\n",
      ")\n",
      "\n",
      "select * from stock_info\n"
     ]
    }
   ],
   "source": [
    "#q21 Part 4\n",
    "!cat ~/p4_data_pipeline/models/staging/staging_valid_stock_info.sql"
   ]
  },
  {
   "cell_type": "code",
   "execution_count": 22,
   "id": "29e4b859-554b-4f48-a05a-da155716f9b1",
   "metadata": {},
   "outputs": [
    {
     "name": "stderr",
     "output_type": "stream",
     "text": [
      "/tmp/ipykernel_9290/754386856.py:11: UserWarning: pandas only supports SQLAlchemy connectable (engine/connection) or database string URI or sqlite3 DBAPI2 connection. Other DBAPI2 objects are not tested. Please consider using SQLAlchemy.\n",
      "  df = pd.read_sql(query, conn)\n"
     ]
    }
   ],
   "source": [
    "#q21 Part 5\n",
    "views = [\n",
    "    \"staging_valid_fx_tickers\",\n",
    "    \"staging_valid_stock_tickers\",\n",
    "    \"staging_valid_fx_info\",\n",
    "    \"staging_valid_stock_info\"\n",
    "]\n",
    "\n",
    "for view in views:\n",
    "    query = f\"SELECT * FROM {view}\"\n",
    "    df = pd.read_sql(query, conn)\n",
    "    csv_path = f\"files/{view}.csv\"\n",
    "    df.to_csv(csv_path, index=False)"
   ]
  },
  {
   "cell_type": "code",
   "execution_count": null,
   "id": "5aa91622-1bc7-4cf5-a507-5573edeafd64",
   "metadata": {},
   "outputs": [],
   "source": [
    "#### Q22: Creating staging table for trading pairs"
   ]
  },
  {
   "cell_type": "code",
   "execution_count": 23,
   "id": "12239430-abb5-4993-8195-9a4c5cd3c160",
   "metadata": {},
   "outputs": [
    {
     "name": "stdout",
     "output_type": "stream",
     "text": [
      "with raw_trading_books as (\n",
      "    select * from {{ source('airbyte_csv_data', 'TRADING_BOOKS') }}\n",
      "),\n",
      "\n",
      "buy_trades as (\n",
      "    select\n",
      "        TRADE_ID as buy_trade_id,\n",
      "        TRADE_DATE,\n",
      "        TRADER_NAME,\n",
      "        DESK,\n",
      "        TICKER,\n",
      "        QUANTITY as quantity_buy,\n",
      "        PRICE as price_buy\n",
      "    from raw_trading_books\n",
      "    where TRADE_TYPE = 'BUY'\n",
      "),\n",
      "\n",
      "sell_trades as (\n",
      "    select\n",
      "        TRADE_ID as sell_trade_id,\n",
      "        TRADE_DATE,\n",
      "        TRADER_NAME,\n",
      "        DESK,\n",
      "        TICKER,\n",
      "        QUANTITY as quantity_sell,\n",
      "        PRICE as price_sell\n",
      "    from raw_trading_books\n",
      "    where TRADE_TYPE = 'SELL'\n",
      "),\n",
      "\n",
      "staging_buy_sell_joint as (\n",
      "    select\n",
      "        bt.buy_trade_id as trade_id,\n",
      "        bt.TRADE_DATE,\n",
      "        bt.TRADER_NAME,\n",
      "        bt.DESK,\n",
      "        bt.TICKER,\n",
      "        bt.quantity_buy,\n",
      "        bt.price_buy,\n",
      "        st.quantity_sell,\n",
      "        st.price_sell\n",
      "    from buy_trades bt\n",
      "    inner join sell_trades st\n",
      "        on bt.TRADER_NAME = st.TRADER_NAME\n",
      "        and bt.TICKER = st.TICKER\n",
      "        and bt.TRADE_DATE = st.TRADE_DATE\n",
      ")\n",
      "\n",
      "select * from staging_buy_sell_joint order by trade_id\n"
     ]
    }
   ],
   "source": [
    "#q22 Part 1\n",
    "!cat ~/p4_data_pipeline/models/staging/staging_buy_sell_joint.sql"
   ]
  },
  {
   "cell_type": "code",
   "execution_count": 24,
   "id": "abb95bd6-0e8f-4fe3-afd3-668531695542",
   "metadata": {},
   "outputs": [
    {
     "name": "stderr",
     "output_type": "stream",
     "text": [
      "/tmp/ipykernel_9290/4003872278.py:8: UserWarning: pandas only supports SQLAlchemy connectable (engine/connection) or database string URI or sqlite3 DBAPI2 connection. Other DBAPI2 objects are not tested. Please consider using SQLAlchemy.\n",
      "  df = pd.read_sql(query, conn)\n"
     ]
    }
   ],
   "source": [
    "#q22 Part 2\n",
    "views = [\n",
    "    \"staging_buy_sell_joint\"\n",
    "]\n",
    "\n",
    "for view in views:\n",
    "    query = f\"SELECT * FROM {view}\"\n",
    "    df = pd.read_sql(query, conn)\n",
    "    csv_path = f\"files/{view}.csv\"\n",
    "    df.to_csv(csv_path, index=False)"
   ]
  },
  {
   "cell_type": "code",
   "execution_count": null,
   "id": "2220116c-4438-46f5-8a29-b02322f6acf5",
   "metadata": {},
   "outputs": [],
   "source": [
    "#### Q23: Create a fact table for trading data"
   ]
  },
  {
   "cell_type": "code",
   "execution_count": 25,
   "id": "8abe6709-bf52-4651-8be9-89ac06e94efe",
   "metadata": {},
   "outputs": [
    {
     "name": "stdout",
     "output_type": "stream",
     "text": [
      "with staging_buy_sell_joint as (\n",
      "    select *\n",
      "    from {{ ref('staging_buy_sell_joint') }}\n",
      "),\n",
      "\n",
      "fact_trading_data as (\n",
      "    select\n",
      "        trade_id,\n",
      "        ROUND(quantity_buy * price_buy, 2) as buy_money,\n",
      "        ROUND(quantity_sell * price_sell, 2) as sell_money,\n",
      "        ROUND(ROUND(quantity_sell * price_sell, 2) - ROUND(quantity_buy * price_buy,2), 2) as profit\n",
      "    from staging_buy_sell_joint\n",
      ")\n",
      "\n",
      "select * from fact_trading_data order by trade_id"
     ]
    }
   ],
   "source": [
    "#q23 Part 1\n",
    "!cat ~/p4_data_pipeline/models/marts/fact_tab_trading.sql"
   ]
  },
  {
   "cell_type": "code",
   "execution_count": 26,
   "id": "7e82cdd0-f68d-4a0a-a32c-c01de5a05271",
   "metadata": {},
   "outputs": [
    {
     "name": "stderr",
     "output_type": "stream",
     "text": [
      "/tmp/ipykernel_9290/2326838150.py:8: UserWarning: pandas only supports SQLAlchemy connectable (engine/connection) or database string URI or sqlite3 DBAPI2 connection. Other DBAPI2 objects are not tested. Please consider using SQLAlchemy.\n",
      "  df = pd.read_sql(query, conn)\n"
     ]
    }
   ],
   "source": [
    "#q23 Part 2\n",
    "tables = [\n",
    "    \"fact_tab_trading\"\n",
    "]\n",
    "\n",
    "for table in tables:\n",
    "    query = f\"SELECT * FROM {table}\"\n",
    "    df = pd.read_sql(query, conn)\n",
    "    csv_path = f\"files/{table}.csv\"\n",
    "    df.to_csv(csv_path, index=False)"
   ]
  },
  {
   "cell_type": "code",
   "execution_count": null,
   "id": "c60969eb-2cdd-4a37-b349-e3b5a3244418",
   "metadata": {},
   "outputs": [],
   "source": [
    "#### Q24: Compute total profit by desk"
   ]
  },
  {
   "cell_type": "code",
   "execution_count": 27,
   "id": "d2bed171-e418-4cc9-adbf-c99394858d60",
   "metadata": {},
   "outputs": [
    {
     "name": "stderr",
     "output_type": "stream",
     "text": [
      "/tmp/ipykernel_9290/674559044.py:10: UserWarning: pandas only supports SQLAlchemy connectable (engine/connection) or database string URI or sqlite3 DBAPI2 connection. Other DBAPI2 objects are not tested. Please consider using SQLAlchemy.\n",
      "  df = pd.read_sql(query, conn)\n"
     ]
    },
    {
     "data": {
      "text/html": [
       "<div>\n",
       "<style scoped>\n",
       "    .dataframe tbody tr th:only-of-type {\n",
       "        vertical-align: middle;\n",
       "    }\n",
       "\n",
       "    .dataframe tbody tr th {\n",
       "        vertical-align: top;\n",
       "    }\n",
       "\n",
       "    .dataframe thead th {\n",
       "        text-align: right;\n",
       "    }\n",
       "</style>\n",
       "<table border=\"1\" class=\"dataframe\">\n",
       "  <thead>\n",
       "    <tr style=\"text-align: right;\">\n",
       "      <th></th>\n",
       "      <th>DESK</th>\n",
       "      <th>TOTAL_PROFIT</th>\n",
       "    </tr>\n",
       "  </thead>\n",
       "  <tbody>\n",
       "    <tr>\n",
       "      <th>0</th>\n",
       "      <td>Equity Desk</td>\n",
       "      <td>2718.75</td>\n",
       "    </tr>\n",
       "    <tr>\n",
       "      <th>1</th>\n",
       "      <td>FX Desk</td>\n",
       "      <td>5000.00</td>\n",
       "    </tr>\n",
       "  </tbody>\n",
       "</table>\n",
       "</div>"
      ],
      "text/plain": [
       "          DESK  TOTAL_PROFIT\n",
       "0  Equity Desk       2718.75\n",
       "1      FX Desk       5000.00"
      ]
     },
     "execution_count": 27,
     "metadata": {},
     "output_type": "execute_result"
    }
   ],
   "source": [
    "#q24\n",
    "query = \"\"\"\n",
    "SELECT tb.DESK, ROUND(sum(td.PROFIT), 2) as TOTAL_PROFIT\n",
    "FROM STOCK_DB.STOCK_SCHEMA.TRADING_BOOKS tb\n",
    "JOIN FACT_TAB_TRADING td\n",
    "ON tb.TRADE_ID = td.TRADE_ID\n",
    "GROUP BY tb.DESK;\n",
    "\"\"\"\n",
    "\n",
    "df = pd.read_sql(query, conn)\n",
    "df"
   ]
  },
  {
   "cell_type": "code",
   "execution_count": null,
   "id": "c3a0730b-0725-417c-a776-2eddf038799f",
   "metadata": {},
   "outputs": [],
   "source": [
    "#### Q25: Compute profit rate by desk"
   ]
  },
  {
   "cell_type": "code",
   "execution_count": 28,
   "id": "fe25a7b8-cd3e-4961-8da6-a20205df5417",
   "metadata": {},
   "outputs": [
    {
     "name": "stderr",
     "output_type": "stream",
     "text": [
      "/tmp/ipykernel_9290/711105883.py:10: UserWarning: pandas only supports SQLAlchemy connectable (engine/connection) or database string URI or sqlite3 DBAPI2 connection. Other DBAPI2 objects are not tested. Please consider using SQLAlchemy.\n",
      "  df = pd.read_sql(query, conn)\n"
     ]
    },
    {
     "data": {
      "text/html": [
       "<div>\n",
       "<style scoped>\n",
       "    .dataframe tbody tr th:only-of-type {\n",
       "        vertical-align: middle;\n",
       "    }\n",
       "\n",
       "    .dataframe tbody tr th {\n",
       "        vertical-align: top;\n",
       "    }\n",
       "\n",
       "    .dataframe thead th {\n",
       "        text-align: right;\n",
       "    }\n",
       "</style>\n",
       "<table border=\"1\" class=\"dataframe\">\n",
       "  <thead>\n",
       "    <tr style=\"text-align: right;\">\n",
       "      <th></th>\n",
       "      <th>DESK</th>\n",
       "      <th>TOTAL_PROFIT_RATE</th>\n",
       "    </tr>\n",
       "  </thead>\n",
       "  <tbody>\n",
       "    <tr>\n",
       "      <th>0</th>\n",
       "      <td>Equity Desk</td>\n",
       "      <td>0.0127</td>\n",
       "    </tr>\n",
       "    <tr>\n",
       "      <th>1</th>\n",
       "      <td>FX Desk</td>\n",
       "      <td>0.0063</td>\n",
       "    </tr>\n",
       "  </tbody>\n",
       "</table>\n",
       "</div>"
      ],
      "text/plain": [
       "          DESK  TOTAL_PROFIT_RATE\n",
       "0  Equity Desk             0.0127\n",
       "1      FX Desk             0.0063"
      ]
     },
     "execution_count": 28,
     "metadata": {},
     "output_type": "execute_result"
    }
   ],
   "source": [
    "#q25\n",
    "query = \"\"\"\n",
    "SELECT tb.DESK, ROUND((sum(td.sell_money) - sum(td.buy_money)) / NULLIF(sum(td.buy_money), 0), 4) as total_profit_rate\n",
    "FROM STOCK_DB.STOCK_SCHEMA.TRADING_BOOKS tb\n",
    "JOIN FACT_TAB_TRADING td\n",
    "ON tb.TRADE_ID = TD.TRADE_ID\n",
    "GROUP BY TB.DESK;\n",
    "\"\"\"\n",
    "\n",
    "df = pd.read_sql(query, conn)\n",
    "df"
   ]
  },
  {
   "cell_type": "code",
   "execution_count": null,
   "id": "0a6af785-6d65-4186-a029-f6404abd4c5e",
   "metadata": {},
   "outputs": [],
   "source": []
  }
 ],
 "metadata": {
  "kernelspec": {
   "display_name": "Python 3 (ipykernel)",
   "language": "python",
   "name": "python3"
  },
  "language_info": {
   "codemirror_mode": {
    "name": "ipython",
    "version": 3
   },
   "file_extension": ".py",
   "mimetype": "text/x-python",
   "name": "python",
   "nbconvert_exporter": "python",
   "pygments_lexer": "ipython3",
   "version": "3.10.12"
  }
 },
 "nbformat": 4,
 "nbformat_minor": 5
}
