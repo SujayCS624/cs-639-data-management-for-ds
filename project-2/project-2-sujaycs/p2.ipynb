{
 "cells": [
  {
   "cell_type": "code",
   "execution_count": 1,
   "id": "15093a32-d51b-4f03-ab48-2c5d36f3cf2e",
   "metadata": {},
   "outputs": [
    {
     "name": "stdout",
     "output_type": "stream",
     "text": [
      "Archive:  sample_mflix.zip\n",
      "  inflating: __MACOSX/._sample_mflix  \n",
      "  inflating: sample_mflix/sessions.json  \n",
      "  inflating: __MACOSX/sample_mflix/._sessions.json  \n",
      "  inflating: sample_mflix/movies.json  \n",
      "  inflating: __MACOSX/sample_mflix/._movies.json  \n",
      "  inflating: sample_mflix/comments.json  \n",
      "  inflating: __MACOSX/sample_mflix/._comments.json  \n",
      "  inflating: sample_mflix/theaters.json  \n",
      "  inflating: __MACOSX/sample_mflix/._theaters.json  \n",
      "  inflating: sample_mflix/users.json  \n",
      "  inflating: __MACOSX/sample_mflix/._users.json  \n"
     ]
    }
   ],
   "source": [
    "!unzip -o sample_mflix.zip"
   ]
  },
  {
   "cell_type": "code",
   "execution_count": 2,
   "id": "f9afac33-0f45-4f1c-bc98-d811c5ab1904",
   "metadata": {},
   "outputs": [],
   "source": [
    "import os\n",
    "from pymongo import MongoClient, ASCENDING, DESCENDING\n",
    "import bson\n",
    "import pickle\n",
    "import pandas as pd\n",
    "import datetime"
   ]
  },
  {
   "cell_type": "code",
   "execution_count": 3,
   "id": "a022628c-a912-4c4c-9f2d-c05fd80b1421",
   "metadata": {},
   "outputs": [],
   "source": [
    "import geopandas as gpd\n",
    "import matplotlib.pyplot as plt\n",
    "from shapely.geometry import Point\n",
    "\n",
    "# Function to plot theaters on a map\n",
    "def plot_theaters(theaters, map_type, filename):\n",
    "    assert map_type in ['wi', 'madison']\n",
    "    assert filename in ['q32', 'q33', 'q34']\n",
    "    \n",
    "    # Convert theater coordinates to a GeoDataFrame\n",
    "    gdf = gpd.GeoDataFrame(theaters, geometry=gpd.points_from_xy(\n",
    "        [theater['location']['geo']['coordinates'][0] for theater in theaters],\n",
    "        [theater['location']['geo']['coordinates'][1] for theater in theaters]\n",
    "    ))\n",
    "\n",
    "    world = gpd.read_file(\"wi_limits.geojson\")\n",
    "    if map_type == 'madison':\n",
    "        world = gpd.read_file(\"madison_limits.geojson\")\n",
    "    gdf = gdf.set_crs(world.crs)\n",
    "    \n",
    "    # Plot\n",
    "    ax = world.plot(figsize=(10, 6), color='lightgray', edgecolor='black')\n",
    "    gdf.plot(ax=ax, marker='o', color='red', markersize=5)\n",
    "    plt.title(\"Theater Locations\")\n",
    "\n",
    "    plt.grid(True)\n",
    "    plt.savefig(f'{filename}.png')\n",
    "    plt.show()"
   ]
  },
  {
   "cell_type": "code",
   "execution_count": 4,
   "id": "4d6bbd17-1a87-489a-851c-b724479698ba",
   "metadata": {},
   "outputs": [],
   "source": [
    "client = MongoClient('mongodb://localhost:27017/')"
   ]
  },
  {
   "cell_type": "code",
   "execution_count": 5,
   "id": "feef3923-5b6d-4ec7-9eb6-3526cb07bba4",
   "metadata": {},
   "outputs": [],
   "source": [
    "db = client.sample_mflix"
   ]
  },
  {
   "cell_type": "code",
   "execution_count": 6,
   "id": "f1237a72-5638-4d90-8138-da99c73d3ba5",
   "metadata": {},
   "outputs": [
    {
     "data": {
      "text/plain": [
       "['comments', 'theaters', 'sessions', 'movies', 'users']"
      ]
     },
     "execution_count": 6,
     "metadata": {},
     "output_type": "execute_result"
    }
   ],
   "source": [
    "json_dir = 'sample_mflix'\n",
    "json_files = [f for f in os.listdir(json_dir) if f.endswith(\".json\")]\n",
    "collections = [f.replace(\".json\", \"\") for f in json_files]\n",
    "collections"
   ]
  },
  {
   "cell_type": "code",
   "execution_count": 6,
   "id": "535b06a6-641d-404c-bd90-aaed9a360be7",
   "metadata": {},
   "outputs": [
    {
     "ename": "DuplicateKeyError",
     "evalue": "E11000 duplicate key error collection: sample_mflix.comments index: _id_ dup key: { _id: ObjectId('5a9427648b0beebeb69579cc') }, full error: {'index': 0, 'code': 11000, 'errmsg': \"E11000 duplicate key error collection: sample_mflix.comments index: _id_ dup key: { _id: ObjectId('5a9427648b0beebeb69579cc') }\", 'keyPattern': {'_id': 1}, 'keyValue': {'_id': ObjectId('5a9427648b0beebeb69579cc')}}",
     "output_type": "error",
     "traceback": [
      "\u001b[0;31m---------------------------------------------------------------------------\u001b[0m",
      "\u001b[0;31mDuplicateKeyError\u001b[0m                         Traceback (most recent call last)",
      "Cell \u001b[0;32mIn[6], line 5\u001b[0m\n\u001b[1;32m      3\u001b[0m \u001b[38;5;28;01mfor\u001b[39;00m line \u001b[38;5;129;01min\u001b[39;00m f:\n\u001b[1;32m      4\u001b[0m     data \u001b[38;5;241m=\u001b[39m bson\u001b[38;5;241m.\u001b[39mjson_util\u001b[38;5;241m.\u001b[39mloads(line\u001b[38;5;241m.\u001b[39mstrip())\n\u001b[0;32m----> 5\u001b[0m     \u001b[43mdb\u001b[49m\u001b[43m[\u001b[49m\u001b[43mcollections\u001b[49m\u001b[43m[\u001b[49m\u001b[43midx\u001b[49m\u001b[43m]\u001b[49m\u001b[43m]\u001b[49m\u001b[38;5;241;43m.\u001b[39;49m\u001b[43minsert_one\u001b[49m\u001b[43m(\u001b[49m\u001b[43mdata\u001b[49m\u001b[43m)\u001b[49m\n\u001b[1;32m      7\u001b[0m \u001b[38;5;28mprint\u001b[39m(\u001b[38;5;124mf\u001b[39m\u001b[38;5;124m\"\u001b[39m\u001b[38;5;124mLoaded \u001b[39m\u001b[38;5;132;01m{\u001b[39;00mjson_file\u001b[38;5;132;01m}\u001b[39;00m\u001b[38;5;124m into the \u001b[39m\u001b[38;5;124m'\u001b[39m\u001b[38;5;132;01m{\u001b[39;00mcollections[idx]\u001b[38;5;132;01m}\u001b[39;00m\u001b[38;5;124m'\u001b[39m\u001b[38;5;124m collection.\u001b[39m\u001b[38;5;124m\"\u001b[39m)\n",
      "File \u001b[0;32m~/.local/lib/python3.10/site-packages/pymongo/synchronous/collection.py:891\u001b[0m, in \u001b[0;36mCollection.insert_one\u001b[0;34m(self, document, bypass_document_validation, session, comment)\u001b[0m\n\u001b[1;32m    887\u001b[0m     document[\u001b[38;5;124m\"\u001b[39m\u001b[38;5;124m_id\u001b[39m\u001b[38;5;124m\"\u001b[39m] \u001b[38;5;241m=\u001b[39m ObjectId()  \u001b[38;5;66;03m# type: ignore[index]\u001b[39;00m\n\u001b[1;32m    889\u001b[0m write_concern \u001b[38;5;241m=\u001b[39m \u001b[38;5;28mself\u001b[39m\u001b[38;5;241m.\u001b[39m_write_concern_for(session)\n\u001b[1;32m    890\u001b[0m \u001b[38;5;28;01mreturn\u001b[39;00m InsertOneResult(\n\u001b[0;32m--> 891\u001b[0m     \u001b[38;5;28;43mself\u001b[39;49m\u001b[38;5;241;43m.\u001b[39;49m\u001b[43m_insert_one\u001b[49m\u001b[43m(\u001b[49m\n\u001b[1;32m    892\u001b[0m \u001b[43m        \u001b[49m\u001b[43mdocument\u001b[49m\u001b[43m,\u001b[49m\n\u001b[1;32m    893\u001b[0m \u001b[43m        \u001b[49m\u001b[43mordered\u001b[49m\u001b[38;5;241;43m=\u001b[39;49m\u001b[38;5;28;43;01mTrue\u001b[39;49;00m\u001b[43m,\u001b[49m\n\u001b[1;32m    894\u001b[0m \u001b[43m        \u001b[49m\u001b[43mwrite_concern\u001b[49m\u001b[38;5;241;43m=\u001b[39;49m\u001b[43mwrite_concern\u001b[49m\u001b[43m,\u001b[49m\n\u001b[1;32m    895\u001b[0m \u001b[43m        \u001b[49m\u001b[43mop_id\u001b[49m\u001b[38;5;241;43m=\u001b[39;49m\u001b[38;5;28;43;01mNone\u001b[39;49;00m\u001b[43m,\u001b[49m\n\u001b[1;32m    896\u001b[0m \u001b[43m        \u001b[49m\u001b[43mbypass_doc_val\u001b[49m\u001b[38;5;241;43m=\u001b[39;49m\u001b[43mbypass_document_validation\u001b[49m\u001b[43m,\u001b[49m\n\u001b[1;32m    897\u001b[0m \u001b[43m        \u001b[49m\u001b[43msession\u001b[49m\u001b[38;5;241;43m=\u001b[39;49m\u001b[43msession\u001b[49m\u001b[43m,\u001b[49m\n\u001b[1;32m    898\u001b[0m \u001b[43m        \u001b[49m\u001b[43mcomment\u001b[49m\u001b[38;5;241;43m=\u001b[39;49m\u001b[43mcomment\u001b[49m\u001b[43m,\u001b[49m\n\u001b[1;32m    899\u001b[0m \u001b[43m    \u001b[49m\u001b[43m)\u001b[49m,\n\u001b[1;32m    900\u001b[0m     write_concern\u001b[38;5;241m.\u001b[39macknowledged,\n\u001b[1;32m    901\u001b[0m )\n",
      "File \u001b[0;32m~/.local/lib/python3.10/site-packages/pymongo/synchronous/collection.py:831\u001b[0m, in \u001b[0;36mCollection._insert_one\u001b[0;34m(self, doc, ordered, write_concern, op_id, bypass_doc_val, session, comment)\u001b[0m\n\u001b[1;32m    819\u001b[0m     result \u001b[38;5;241m=\u001b[39m conn\u001b[38;5;241m.\u001b[39mcommand(\n\u001b[1;32m    820\u001b[0m         \u001b[38;5;28mself\u001b[39m\u001b[38;5;241m.\u001b[39m_database\u001b[38;5;241m.\u001b[39mname,\n\u001b[1;32m    821\u001b[0m         command,\n\u001b[0;32m   (...)\u001b[0m\n\u001b[1;32m    826\u001b[0m         retryable_write\u001b[38;5;241m=\u001b[39mretryable_write,\n\u001b[1;32m    827\u001b[0m     )\n\u001b[1;32m    829\u001b[0m     _check_write_command_response(result)\n\u001b[0;32m--> 831\u001b[0m \u001b[38;5;28;43mself\u001b[39;49m\u001b[38;5;241;43m.\u001b[39;49m\u001b[43m_database\u001b[49m\u001b[38;5;241;43m.\u001b[39;49m\u001b[43mclient\u001b[49m\u001b[38;5;241;43m.\u001b[39;49m\u001b[43m_retryable_write\u001b[49m\u001b[43m(\u001b[49m\n\u001b[1;32m    832\u001b[0m \u001b[43m    \u001b[49m\u001b[43macknowledged\u001b[49m\u001b[43m,\u001b[49m\u001b[43m \u001b[49m\u001b[43m_insert_command\u001b[49m\u001b[43m,\u001b[49m\u001b[43m \u001b[49m\u001b[43msession\u001b[49m\u001b[43m,\u001b[49m\u001b[43m \u001b[49m\u001b[43moperation\u001b[49m\u001b[38;5;241;43m=\u001b[39;49m\u001b[43m_Op\u001b[49m\u001b[38;5;241;43m.\u001b[39;49m\u001b[43mINSERT\u001b[49m\n\u001b[1;32m    833\u001b[0m \u001b[43m\u001b[49m\u001b[43m)\u001b[49m\n\u001b[1;32m    835\u001b[0m \u001b[38;5;28;01mif\u001b[39;00m \u001b[38;5;129;01mnot\u001b[39;00m \u001b[38;5;28misinstance\u001b[39m(doc, RawBSONDocument):\n\u001b[1;32m    836\u001b[0m     \u001b[38;5;28;01mreturn\u001b[39;00m doc\u001b[38;5;241m.\u001b[39mget(\u001b[38;5;124m\"\u001b[39m\u001b[38;5;124m_id\u001b[39m\u001b[38;5;124m\"\u001b[39m)\n",
      "File \u001b[0;32m~/.local/lib/python3.10/site-packages/pymongo/synchronous/mongo_client.py:1896\u001b[0m, in \u001b[0;36mMongoClient._retryable_write\u001b[0;34m(self, retryable, func, session, operation, bulk, operation_id)\u001b[0m\n\u001b[1;32m   1882\u001b[0m \u001b[38;5;250m\u001b[39m\u001b[38;5;124;03m\"\"\"Execute an operation with consecutive retries if possible\u001b[39;00m\n\u001b[1;32m   1883\u001b[0m \n\u001b[1;32m   1884\u001b[0m \u001b[38;5;124;03mReturns func()'s return value on success. On error retries the same\u001b[39;00m\n\u001b[0;32m   (...)\u001b[0m\n\u001b[1;32m   1893\u001b[0m \u001b[38;5;124;03m:param bulk: bulk abstraction to execute operations in bulk, defaults to None\u001b[39;00m\n\u001b[1;32m   1894\u001b[0m \u001b[38;5;124;03m\"\"\"\u001b[39;00m\n\u001b[1;32m   1895\u001b[0m \u001b[38;5;28;01mwith\u001b[39;00m \u001b[38;5;28mself\u001b[39m\u001b[38;5;241m.\u001b[39m_tmp_session(session) \u001b[38;5;28;01mas\u001b[39;00m s:\n\u001b[0;32m-> 1896\u001b[0m     \u001b[38;5;28;01mreturn\u001b[39;00m \u001b[38;5;28;43mself\u001b[39;49m\u001b[38;5;241;43m.\u001b[39;49m\u001b[43m_retry_with_session\u001b[49m\u001b[43m(\u001b[49m\u001b[43mretryable\u001b[49m\u001b[43m,\u001b[49m\u001b[43m \u001b[49m\u001b[43mfunc\u001b[49m\u001b[43m,\u001b[49m\u001b[43m \u001b[49m\u001b[43ms\u001b[49m\u001b[43m,\u001b[49m\u001b[43m \u001b[49m\u001b[43mbulk\u001b[49m\u001b[43m,\u001b[49m\u001b[43m \u001b[49m\u001b[43moperation\u001b[49m\u001b[43m,\u001b[49m\u001b[43m \u001b[49m\u001b[43moperation_id\u001b[49m\u001b[43m)\u001b[49m\n",
      "File \u001b[0;32m~/.local/lib/python3.10/site-packages/pymongo/synchronous/mongo_client.py:1782\u001b[0m, in \u001b[0;36mMongoClient._retry_with_session\u001b[0;34m(self, retryable, func, session, bulk, operation, operation_id)\u001b[0m\n\u001b[1;32m   1777\u001b[0m \u001b[38;5;66;03m# Ensure that the options supports retry_writes and there is a valid session not in\u001b[39;00m\n\u001b[1;32m   1778\u001b[0m \u001b[38;5;66;03m# transaction, otherwise, we will not support retry behavior for this txn.\u001b[39;00m\n\u001b[1;32m   1779\u001b[0m retryable \u001b[38;5;241m=\u001b[39m \u001b[38;5;28mbool\u001b[39m(\n\u001b[1;32m   1780\u001b[0m     retryable \u001b[38;5;129;01mand\u001b[39;00m \u001b[38;5;28mself\u001b[39m\u001b[38;5;241m.\u001b[39moptions\u001b[38;5;241m.\u001b[39mretry_writes \u001b[38;5;129;01mand\u001b[39;00m session \u001b[38;5;129;01mand\u001b[39;00m \u001b[38;5;129;01mnot\u001b[39;00m session\u001b[38;5;241m.\u001b[39min_transaction\n\u001b[1;32m   1781\u001b[0m )\n\u001b[0;32m-> 1782\u001b[0m \u001b[38;5;28;01mreturn\u001b[39;00m \u001b[38;5;28;43mself\u001b[39;49m\u001b[38;5;241;43m.\u001b[39;49m\u001b[43m_retry_internal\u001b[49m\u001b[43m(\u001b[49m\n\u001b[1;32m   1783\u001b[0m \u001b[43m    \u001b[49m\u001b[43mfunc\u001b[49m\u001b[38;5;241;43m=\u001b[39;49m\u001b[43mfunc\u001b[49m\u001b[43m,\u001b[49m\n\u001b[1;32m   1784\u001b[0m \u001b[43m    \u001b[49m\u001b[43msession\u001b[49m\u001b[38;5;241;43m=\u001b[39;49m\u001b[43msession\u001b[49m\u001b[43m,\u001b[49m\n\u001b[1;32m   1785\u001b[0m \u001b[43m    \u001b[49m\u001b[43mbulk\u001b[49m\u001b[38;5;241;43m=\u001b[39;49m\u001b[43mbulk\u001b[49m\u001b[43m,\u001b[49m\n\u001b[1;32m   1786\u001b[0m \u001b[43m    \u001b[49m\u001b[43moperation\u001b[49m\u001b[38;5;241;43m=\u001b[39;49m\u001b[43moperation\u001b[49m\u001b[43m,\u001b[49m\n\u001b[1;32m   1787\u001b[0m \u001b[43m    \u001b[49m\u001b[43mretryable\u001b[49m\u001b[38;5;241;43m=\u001b[39;49m\u001b[43mretryable\u001b[49m\u001b[43m,\u001b[49m\n\u001b[1;32m   1788\u001b[0m \u001b[43m    \u001b[49m\u001b[43moperation_id\u001b[49m\u001b[38;5;241;43m=\u001b[39;49m\u001b[43moperation_id\u001b[49m\u001b[43m,\u001b[49m\n\u001b[1;32m   1789\u001b[0m \u001b[43m\u001b[49m\u001b[43m)\u001b[49m\n",
      "File \u001b[0;32m~/.local/lib/python3.10/site-packages/pymongo/_csot.py:119\u001b[0m, in \u001b[0;36mapply.<locals>.csot_wrapper\u001b[0;34m(self, *args, **kwargs)\u001b[0m\n\u001b[1;32m    117\u001b[0m         \u001b[38;5;28;01mwith\u001b[39;00m _TimeoutContext(timeout):\n\u001b[1;32m    118\u001b[0m             \u001b[38;5;28;01mreturn\u001b[39;00m func(\u001b[38;5;28mself\u001b[39m, \u001b[38;5;241m*\u001b[39margs, \u001b[38;5;241m*\u001b[39m\u001b[38;5;241m*\u001b[39mkwargs)\n\u001b[0;32m--> 119\u001b[0m \u001b[38;5;28;01mreturn\u001b[39;00m \u001b[43mfunc\u001b[49m\u001b[43m(\u001b[49m\u001b[38;5;28;43mself\u001b[39;49m\u001b[43m,\u001b[49m\u001b[43m \u001b[49m\u001b[38;5;241;43m*\u001b[39;49m\u001b[43margs\u001b[49m\u001b[43m,\u001b[49m\u001b[43m \u001b[49m\u001b[38;5;241;43m*\u001b[39;49m\u001b[38;5;241;43m*\u001b[39;49m\u001b[43mkwargs\u001b[49m\u001b[43m)\u001b[49m\n",
      "File \u001b[0;32m~/.local/lib/python3.10/site-packages/pymongo/synchronous/mongo_client.py:1828\u001b[0m, in \u001b[0;36mMongoClient._retry_internal\u001b[0;34m(self, func, session, bulk, operation, is_read, address, read_pref, retryable, operation_id)\u001b[0m\n\u001b[1;32m   1791\u001b[0m \u001b[38;5;129m@_csot\u001b[39m\u001b[38;5;241m.\u001b[39mapply\n\u001b[1;32m   1792\u001b[0m \u001b[38;5;28;01mdef\u001b[39;00m\u001b[38;5;250m \u001b[39m\u001b[38;5;21m_retry_internal\u001b[39m(\n\u001b[1;32m   1793\u001b[0m     \u001b[38;5;28mself\u001b[39m,\n\u001b[0;32m   (...)\u001b[0m\n\u001b[1;32m   1802\u001b[0m     operation_id: Optional[\u001b[38;5;28mint\u001b[39m] \u001b[38;5;241m=\u001b[39m \u001b[38;5;28;01mNone\u001b[39;00m,\n\u001b[1;32m   1803\u001b[0m ) \u001b[38;5;241m-\u001b[39m\u001b[38;5;241m>\u001b[39m T:\n\u001b[1;32m   1804\u001b[0m \u001b[38;5;250m    \u001b[39m\u001b[38;5;124;03m\"\"\"Internal retryable helper for all client transactions.\u001b[39;00m\n\u001b[1;32m   1805\u001b[0m \n\u001b[1;32m   1806\u001b[0m \u001b[38;5;124;03m    :param func: Callback function we want to retry\u001b[39;00m\n\u001b[0;32m   (...)\u001b[0m\n\u001b[1;32m   1815\u001b[0m \u001b[38;5;124;03m    :return: Output of the calling func()\u001b[39;00m\n\u001b[1;32m   1816\u001b[0m \u001b[38;5;124;03m    \"\"\"\u001b[39;00m\n\u001b[1;32m   1817\u001b[0m     \u001b[38;5;28;01mreturn\u001b[39;00m \u001b[43m_ClientConnectionRetryable\u001b[49m\u001b[43m(\u001b[49m\n\u001b[1;32m   1818\u001b[0m \u001b[43m        \u001b[49m\u001b[43mmongo_client\u001b[49m\u001b[38;5;241;43m=\u001b[39;49m\u001b[38;5;28;43mself\u001b[39;49m\u001b[43m,\u001b[49m\n\u001b[1;32m   1819\u001b[0m \u001b[43m        \u001b[49m\u001b[43mfunc\u001b[49m\u001b[38;5;241;43m=\u001b[39;49m\u001b[43mfunc\u001b[49m\u001b[43m,\u001b[49m\n\u001b[1;32m   1820\u001b[0m \u001b[43m        \u001b[49m\u001b[43mbulk\u001b[49m\u001b[38;5;241;43m=\u001b[39;49m\u001b[43mbulk\u001b[49m\u001b[43m,\u001b[49m\n\u001b[1;32m   1821\u001b[0m \u001b[43m        \u001b[49m\u001b[43moperation\u001b[49m\u001b[38;5;241;43m=\u001b[39;49m\u001b[43moperation\u001b[49m\u001b[43m,\u001b[49m\n\u001b[1;32m   1822\u001b[0m \u001b[43m        \u001b[49m\u001b[43mis_read\u001b[49m\u001b[38;5;241;43m=\u001b[39;49m\u001b[43mis_read\u001b[49m\u001b[43m,\u001b[49m\n\u001b[1;32m   1823\u001b[0m \u001b[43m        \u001b[49m\u001b[43msession\u001b[49m\u001b[38;5;241;43m=\u001b[39;49m\u001b[43msession\u001b[49m\u001b[43m,\u001b[49m\n\u001b[1;32m   1824\u001b[0m \u001b[43m        \u001b[49m\u001b[43mread_pref\u001b[49m\u001b[38;5;241;43m=\u001b[39;49m\u001b[43mread_pref\u001b[49m\u001b[43m,\u001b[49m\n\u001b[1;32m   1825\u001b[0m \u001b[43m        \u001b[49m\u001b[43maddress\u001b[49m\u001b[38;5;241;43m=\u001b[39;49m\u001b[43maddress\u001b[49m\u001b[43m,\u001b[49m\n\u001b[1;32m   1826\u001b[0m \u001b[43m        \u001b[49m\u001b[43mretryable\u001b[49m\u001b[38;5;241;43m=\u001b[39;49m\u001b[43mretryable\u001b[49m\u001b[43m,\u001b[49m\n\u001b[1;32m   1827\u001b[0m \u001b[43m        \u001b[49m\u001b[43moperation_id\u001b[49m\u001b[38;5;241;43m=\u001b[39;49m\u001b[43moperation_id\u001b[49m\u001b[43m,\u001b[49m\n\u001b[0;32m-> 1828\u001b[0m \u001b[43m    \u001b[49m\u001b[43m)\u001b[49m\u001b[38;5;241;43m.\u001b[39;49m\u001b[43mrun\u001b[49m\u001b[43m(\u001b[49m\u001b[43m)\u001b[49m\n",
      "File \u001b[0;32m~/.local/lib/python3.10/site-packages/pymongo/synchronous/mongo_client.py:2565\u001b[0m, in \u001b[0;36m_ClientConnectionRetryable.run\u001b[0;34m(self)\u001b[0m\n\u001b[1;32m   2563\u001b[0m \u001b[38;5;28mself\u001b[39m\u001b[38;5;241m.\u001b[39m_check_last_error(check_csot\u001b[38;5;241m=\u001b[39m\u001b[38;5;28;01mTrue\u001b[39;00m)\n\u001b[1;32m   2564\u001b[0m \u001b[38;5;28;01mtry\u001b[39;00m:\n\u001b[0;32m-> 2565\u001b[0m     \u001b[38;5;28;01mreturn\u001b[39;00m \u001b[38;5;28mself\u001b[39m\u001b[38;5;241m.\u001b[39m_read() \u001b[38;5;28;01mif\u001b[39;00m \u001b[38;5;28mself\u001b[39m\u001b[38;5;241m.\u001b[39m_is_read \u001b[38;5;28;01melse\u001b[39;00m \u001b[38;5;28;43mself\u001b[39;49m\u001b[38;5;241;43m.\u001b[39;49m\u001b[43m_write\u001b[49m\u001b[43m(\u001b[49m\u001b[43m)\u001b[49m\n\u001b[1;32m   2566\u001b[0m \u001b[38;5;28;01mexcept\u001b[39;00m ServerSelectionTimeoutError:\n\u001b[1;32m   2567\u001b[0m     \u001b[38;5;66;03m# The application may think the write was never attempted\u001b[39;00m\n\u001b[1;32m   2568\u001b[0m     \u001b[38;5;66;03m# if we raise ServerSelectionTimeoutError on the retry\u001b[39;00m\n\u001b[1;32m   2569\u001b[0m     \u001b[38;5;66;03m# attempt. Raise the original exception instead.\u001b[39;00m\n\u001b[1;32m   2570\u001b[0m     \u001b[38;5;28mself\u001b[39m\u001b[38;5;241m.\u001b[39m_check_last_error()\n",
      "File \u001b[0;32m~/.local/lib/python3.10/site-packages/pymongo/synchronous/mongo_client.py:2687\u001b[0m, in \u001b[0;36m_ClientConnectionRetryable._write\u001b[0;34m(self)\u001b[0m\n\u001b[1;32m   2685\u001b[0m             \u001b[38;5;28mself\u001b[39m\u001b[38;5;241m.\u001b[39m_check_last_error()\n\u001b[1;32m   2686\u001b[0m             \u001b[38;5;28mself\u001b[39m\u001b[38;5;241m.\u001b[39m_retryable \u001b[38;5;241m=\u001b[39m \u001b[38;5;28;01mFalse\u001b[39;00m\n\u001b[0;32m-> 2687\u001b[0m         \u001b[38;5;28;01mreturn\u001b[39;00m \u001b[38;5;28;43mself\u001b[39;49m\u001b[38;5;241;43m.\u001b[39;49m\u001b[43m_func\u001b[49m\u001b[43m(\u001b[49m\u001b[38;5;28;43mself\u001b[39;49m\u001b[38;5;241;43m.\u001b[39;49m\u001b[43m_session\u001b[49m\u001b[43m,\u001b[49m\u001b[43m \u001b[49m\u001b[43mconn\u001b[49m\u001b[43m,\u001b[49m\u001b[43m \u001b[49m\u001b[38;5;28;43mself\u001b[39;49m\u001b[38;5;241;43m.\u001b[39;49m\u001b[43m_retryable\u001b[49m\u001b[43m)\u001b[49m  \u001b[38;5;66;03m# type: ignore\u001b[39;00m\n\u001b[1;32m   2688\u001b[0m \u001b[38;5;28;01mexcept\u001b[39;00m PyMongoError \u001b[38;5;28;01mas\u001b[39;00m exc:\n\u001b[1;32m   2689\u001b[0m     \u001b[38;5;28;01mif\u001b[39;00m \u001b[38;5;129;01mnot\u001b[39;00m \u001b[38;5;28mself\u001b[39m\u001b[38;5;241m.\u001b[39m_retryable:\n",
      "File \u001b[0;32m~/.local/lib/python3.10/site-packages/pymongo/synchronous/collection.py:829\u001b[0m, in \u001b[0;36mCollection._insert_one.<locals>._insert_command\u001b[0;34m(session, conn, retryable_write)\u001b[0m\n\u001b[1;32m    817\u001b[0m     command[\u001b[38;5;124m\"\u001b[39m\u001b[38;5;124mbypassDocumentValidation\u001b[39m\u001b[38;5;124m\"\u001b[39m] \u001b[38;5;241m=\u001b[39m \u001b[38;5;28;01mTrue\u001b[39;00m\n\u001b[1;32m    819\u001b[0m result \u001b[38;5;241m=\u001b[39m conn\u001b[38;5;241m.\u001b[39mcommand(\n\u001b[1;32m    820\u001b[0m     \u001b[38;5;28mself\u001b[39m\u001b[38;5;241m.\u001b[39m_database\u001b[38;5;241m.\u001b[39mname,\n\u001b[1;32m    821\u001b[0m     command,\n\u001b[0;32m   (...)\u001b[0m\n\u001b[1;32m    826\u001b[0m     retryable_write\u001b[38;5;241m=\u001b[39mretryable_write,\n\u001b[1;32m    827\u001b[0m )\n\u001b[0;32m--> 829\u001b[0m \u001b[43m_check_write_command_response\u001b[49m\u001b[43m(\u001b[49m\u001b[43mresult\u001b[49m\u001b[43m)\u001b[49m\n",
      "File \u001b[0;32m~/.local/lib/python3.10/site-packages/pymongo/helpers_shared.py:285\u001b[0m, in \u001b[0;36m_check_write_command_response\u001b[0;34m(result)\u001b[0m\n\u001b[1;32m    283\u001b[0m write_errors \u001b[38;5;241m=\u001b[39m result\u001b[38;5;241m.\u001b[39mget(\u001b[38;5;124m\"\u001b[39m\u001b[38;5;124mwriteErrors\u001b[39m\u001b[38;5;124m\"\u001b[39m)\n\u001b[1;32m    284\u001b[0m \u001b[38;5;28;01mif\u001b[39;00m write_errors:\n\u001b[0;32m--> 285\u001b[0m     \u001b[43m_raise_last_write_error\u001b[49m\u001b[43m(\u001b[49m\u001b[43mwrite_errors\u001b[49m\u001b[43m)\u001b[49m\n\u001b[1;32m    287\u001b[0m wce \u001b[38;5;241m=\u001b[39m _get_wce_doc(result)\n\u001b[1;32m    288\u001b[0m \u001b[38;5;28;01mif\u001b[39;00m wce:\n",
      "File \u001b[0;32m~/.local/lib/python3.10/site-packages/pymongo/helpers_shared.py:255\u001b[0m, in \u001b[0;36m_raise_last_write_error\u001b[0;34m(write_errors)\u001b[0m\n\u001b[1;32m    253\u001b[0m error \u001b[38;5;241m=\u001b[39m write_errors[\u001b[38;5;241m-\u001b[39m\u001b[38;5;241m1\u001b[39m]\n\u001b[1;32m    254\u001b[0m \u001b[38;5;28;01mif\u001b[39;00m error\u001b[38;5;241m.\u001b[39mget(\u001b[38;5;124m\"\u001b[39m\u001b[38;5;124mcode\u001b[39m\u001b[38;5;124m\"\u001b[39m) \u001b[38;5;241m==\u001b[39m \u001b[38;5;241m11000\u001b[39m:\n\u001b[0;32m--> 255\u001b[0m     \u001b[38;5;28;01mraise\u001b[39;00m DuplicateKeyError(error\u001b[38;5;241m.\u001b[39mget(\u001b[38;5;124m\"\u001b[39m\u001b[38;5;124merrmsg\u001b[39m\u001b[38;5;124m\"\u001b[39m), \u001b[38;5;241m11000\u001b[39m, error)\n\u001b[1;32m    256\u001b[0m \u001b[38;5;28;01mraise\u001b[39;00m WriteError(error\u001b[38;5;241m.\u001b[39mget(\u001b[38;5;124m\"\u001b[39m\u001b[38;5;124merrmsg\u001b[39m\u001b[38;5;124m\"\u001b[39m), error\u001b[38;5;241m.\u001b[39mget(\u001b[38;5;124m\"\u001b[39m\u001b[38;5;124mcode\u001b[39m\u001b[38;5;124m\"\u001b[39m), error)\n",
      "\u001b[0;31mDuplicateKeyError\u001b[0m: E11000 duplicate key error collection: sample_mflix.comments index: _id_ dup key: { _id: ObjectId('5a9427648b0beebeb69579cc') }, full error: {'index': 0, 'code': 11000, 'errmsg': \"E11000 duplicate key error collection: sample_mflix.comments index: _id_ dup key: { _id: ObjectId('5a9427648b0beebeb69579cc') }\", 'keyPattern': {'_id': 1}, 'keyValue': {'_id': ObjectId('5a9427648b0beebeb69579cc')}}"
     ]
    }
   ],
   "source": [
    "for idx, json_file in enumerate(json_files):\n",
    "    with open(os.path.join(json_dir, json_file), 'r') as f:\n",
    "        for line in f:\n",
    "            data = bson.json_util.loads(line.strip())\n",
    "            db[collections[idx]].insert_one(data)\n",
    "        \n",
    "        print(f\"Loaded {json_file} into the '{collections[idx]}' collection.\")"
   ]
  },
  {
   "cell_type": "code",
   "execution_count": 7,
   "id": "5b016d00-e3ee-442b-8888-6c02e48fbc95",
   "metadata": {},
   "outputs": [
    {
     "data": {
      "text/plain": [
       "['sessions', 'comments', 'movies', 'theaters', 'users']"
      ]
     },
     "execution_count": 7,
     "metadata": {},
     "output_type": "execute_result"
    }
   ],
   "source": [
    "db.list_collection_names()"
   ]
  },
  {
   "cell_type": "code",
   "execution_count": null,
   "id": "d6ee48f3-5ad9-4920-96b9-fd79fa86af36",
   "metadata": {},
   "outputs": [],
   "source": [
    "#### Q1: Find the first movie in the movies collection."
   ]
  },
  {
   "cell_type": "code",
   "execution_count": 8,
   "id": "9af310d9-6c7c-4de9-95f2-76c554961101",
   "metadata": {},
   "outputs": [],
   "source": [
    "#q1\n",
    "\n",
    "q1 = list(db.movies.find({}).limit(1))\n",
    "with open('answers/q1.pkl', 'wb') as f:\n",
    "   pickle.dump(q1[0], f)"
   ]
  },
  {
   "cell_type": "code",
   "execution_count": null,
   "id": "26ec6013-4de7-46da-8909-d1233d13f795",
   "metadata": {},
   "outputs": [],
   "source": [
    "#### Q2: Find all movies directed by \"Christopher Nolan\"."
   ]
  },
  {
   "cell_type": "code",
   "execution_count": 9,
   "id": "31fb242d-10c0-452f-95b7-623beec1a721",
   "metadata": {},
   "outputs": [],
   "source": [
    "#q2\n",
    "\n",
    "q2 = list(db.movies.find({\"directors\" : \"Christopher Nolan\"}))\n",
    "with open('answers/q2.pkl', 'wb') as f:\n",
    "   pickle.dump(q2, f)"
   ]
  },
  {
   "cell_type": "code",
   "execution_count": null,
   "id": "d5328807-b7cf-46cc-be7f-6a7636af12f2",
   "metadata": {},
   "outputs": [],
   "source": [
    "#### Q3: Find the first 5 users in the users collection."
   ]
  },
  {
   "cell_type": "code",
   "execution_count": 10,
   "id": "7ebaf8b5-10e3-46db-ba33-b69016937755",
   "metadata": {},
   "outputs": [],
   "source": [
    "#q3\n",
    "\n",
    "q3 = list(db.users.find({}).limit(5))\n",
    "with open('answers/q3.pkl', 'wb') as f:\n",
    "   pickle.dump(q3, f)"
   ]
  },
  {
   "cell_type": "code",
   "execution_count": null,
   "id": "0a01a5e4-8d91-491f-88e8-86d147ba56c7",
   "metadata": {},
   "outputs": [],
   "source": [
    "#### Q4: Find the first movie with an IMDb rating greater than 9."
   ]
  },
  {
   "cell_type": "code",
   "execution_count": 11,
   "id": "7a243f5b-74f1-44aa-add0-d559fec7efff",
   "metadata": {},
   "outputs": [],
   "source": [
    "#q4\n",
    "\n",
    "q4 = list(db.movies.find({\"imdb.rating\": {\"$gt\" : 9}}))\n",
    "with open('answers/q4.pkl', 'wb') as f:\n",
    "   pickle.dump(q4[0], f)"
   ]
  },
  {
   "cell_type": "code",
   "execution_count": null,
   "id": "58da99cb-7dab-48ed-8ccd-b2b4c6c2111d",
   "metadata": {},
   "outputs": [],
   "source": [
    "#### Q5: Count the number of movies in the movies collection."
   ]
  },
  {
   "cell_type": "code",
   "execution_count": 12,
   "id": "ccd5d11b-71b1-4379-86e5-0ffef6fea4f7",
   "metadata": {},
   "outputs": [],
   "source": [
    "#q5\n",
    "\n",
    "q5 = db.movies.count_documents({})\n",
    "with open('answers/q5.pkl', 'wb') as f:\n",
    "   pickle.dump(q5, f)"
   ]
  },
  {
   "cell_type": "code",
   "execution_count": null,
   "id": "5b5201fd-5501-4c78-9eff-4f4466a50f14",
   "metadata": {},
   "outputs": [],
   "source": [
    "#### Q6: Count the number of movies released after the year 2000."
   ]
  },
  {
   "cell_type": "code",
   "execution_count": 13,
   "id": "d308fff5-3437-4185-9db0-6aa83df9f525",
   "metadata": {},
   "outputs": [],
   "source": [
    "#q6\n",
    "\n",
    "q6 = db.movies.count_documents({\"year\": {\"$gt\" : 2000}})\n",
    "with open('answers/q6.pkl', 'wb') as f:\n",
    "   pickle.dump(q6, f)"
   ]
  },
  {
   "cell_type": "code",
   "execution_count": null,
   "id": "0433cd3a-b056-4a84-860e-229545ce0072",
   "metadata": {},
   "outputs": [],
   "source": [
    "#### Q7: Count the number of movies in the \"Comedy\" genre."
   ]
  },
  {
   "cell_type": "code",
   "execution_count": 14,
   "id": "d0d23a3f-2849-4338-90b7-8398d3a923ed",
   "metadata": {},
   "outputs": [],
   "source": [
    "#q7\n",
    "\n",
    "q7 = db.movies.count_documents({\"genres\": {\"$in\" : [\"Comedy\"]}})\n",
    "with open('answers/q7.pkl', 'wb') as f:\n",
    "   pickle.dump(q7, f)"
   ]
  },
  {
   "cell_type": "code",
   "execution_count": null,
   "id": "f7ff0bf8-2605-47d6-8857-3248cf89fff7",
   "metadata": {},
   "outputs": [],
   "source": [
    "#### Q8: Count the number of comments made by the user \"Taylor Hill\"."
   ]
  },
  {
   "cell_type": "code",
   "execution_count": 15,
   "id": "3aa7844b-80ef-4a46-b374-9c54cb3a3d33",
   "metadata": {},
   "outputs": [],
   "source": [
    "#q8\n",
    "\n",
    "q8 = db.comments.count_documents({\"name\": \"Taylor Hill\"})\n",
    "with open('answers/q8.pkl', 'wb') as f:\n",
    "   pickle.dump(q8, f)"
   ]
  },
  {
   "cell_type": "code",
   "execution_count": null,
   "id": "923675b8-d7b3-4550-9f96-f39d4432c3f7",
   "metadata": {},
   "outputs": [],
   "source": [
    "#### Q9: Count the number of movies with a runtime greater than 120 minutes."
   ]
  },
  {
   "cell_type": "code",
   "execution_count": 16,
   "id": "49bb771d-53db-4cac-974b-10c01d6e8302",
   "metadata": {},
   "outputs": [],
   "source": [
    "#q9\n",
    "\n",
    "q9 = db.movies.count_documents({\"runtime\": {\"$gt\" : 120}})\n",
    "with open('answers/q9.pkl', 'wb') as f:\n",
    "   pickle.dump(q9, f)"
   ]
  },
  {
   "cell_type": "code",
   "execution_count": null,
   "id": "77bbef80-ff40-4083-ac29-677fff1226a1",
   "metadata": {},
   "outputs": [],
   "source": [
    "#### Q10: Find all movies released in year 2015."
   ]
  },
  {
   "cell_type": "code",
   "execution_count": 17,
   "id": "650616a4-b2ab-429d-8c74-b9e621ad6891",
   "metadata": {},
   "outputs": [],
   "source": [
    "#q10\n",
    "\n",
    "q10 = list(db.movies.find({\"year\": 2015}, {\"title\": 1, \"_id\": 0}).sort(\"title\", ASCENDING))\n",
    "with open('answers/q10.pkl', 'wb') as f:\n",
    "   pickle.dump(q10, f)"
   ]
  },
  {
   "cell_type": "code",
   "execution_count": null,
   "id": "6bb4a6a9-8b86-41a3-996e-88f60d86c57f",
   "metadata": {},
   "outputs": [],
   "source": [
    "#### Q11: Find the top 5 most recent comments."
   ]
  },
  {
   "cell_type": "code",
   "execution_count": 18,
   "id": "d0e2984a-277f-47d5-b1f2-51322e08d80a",
   "metadata": {},
   "outputs": [],
   "source": [
    "#q11\n",
    "\n",
    "q11 = list(db.comments.find({}).sort(\"date\", DESCENDING).limit(5))\n",
    "with open('answers/q11.pkl', 'wb') as f:\n",
    "   pickle.dump(q11, f)"
   ]
  },
  {
   "cell_type": "code",
   "execution_count": null,
   "id": "7b52e943-a757-4b03-b1ce-4f1face96913",
   "metadata": {},
   "outputs": [],
   "source": [
    "#### Q12: Count the number of movies with both \"Action\" and \"Adventure\" as genres."
   ]
  },
  {
   "cell_type": "code",
   "execution_count": 19,
   "id": "e0394799-891e-4ac1-b1e7-6b2c534acf23",
   "metadata": {},
   "outputs": [],
   "source": [
    "#q12\n",
    "\n",
    "q12 = db.movies.count_documents({\n",
    "    \"$and\" : [\n",
    "        {\"genres\" : {\"$in\" : [\"Adventure\"]}},\n",
    "        {\"genres\" : {\"$in\" : [\"Action\"]}}\n",
    "    ]})\n",
    "with open('answers/q12.pkl', 'wb') as f:\n",
    "   pickle.dump(q12, f)"
   ]
  },
  {
   "cell_type": "code",
   "execution_count": null,
   "id": "e111890d-f547-4855-b5fe-86c88d67f45f",
   "metadata": {},
   "outputs": [],
   "source": [
    "#### Q13: Find all movies with an IMDb rating between 9 and 10."
   ]
  },
  {
   "cell_type": "code",
   "execution_count": 20,
   "id": "5e190e42-000e-4629-93b7-834072dffed8",
   "metadata": {},
   "outputs": [],
   "source": [
    "#q13\n",
    "\n",
    "q13 = list(db.movies.find({\n",
    "    \"imdb.rating\" : {\"$gte\" : 9, \"$lte\" : 10}\n",
    "    },\n",
    "    {\"title\": 1, \"imdb.rating\": 1, \"genres\": 1, \"year\": 1, \"_id\": 0}))\n",
    "with open('answers/q13.pkl', 'wb') as f:\n",
    "   pickle.dump(q13, f)"
   ]
  },
  {
   "cell_type": "code",
   "execution_count": null,
   "id": "5ce2325a-07f1-4be8-bbe8-1c614604b78c",
   "metadata": {},
   "outputs": [],
   "source": [
    "#### Q14: Count the number of movies with exactly 3 directors."
   ]
  },
  {
   "cell_type": "code",
   "execution_count": 21,
   "id": "fed8f43f-220b-4b2f-8550-4c5f2d920ac5",
   "metadata": {},
   "outputs": [],
   "source": [
    "#q14\n",
    "\n",
    "q14 = db.movies.count_documents({\n",
    "    \"directors\" : {\"$size\" : 3}\n",
    "    })\n",
    "with open('answers/q14.pkl', 'wb') as f:\n",
    "   pickle.dump(q14, f)"
   ]
  },
  {
   "cell_type": "code",
   "execution_count": null,
   "id": "50c5b53b-333d-4ee3-bd9c-aa555af9744d",
   "metadata": {},
   "outputs": [],
   "source": [
    "#### Q15: Count the number of movies with at least 3 directors."
   ]
  },
  {
   "cell_type": "code",
   "execution_count": 22,
   "id": "0745d395-5f7a-4d63-8707-dc5148177802",
   "metadata": {},
   "outputs": [],
   "source": [
    "#q15\n",
    "\n",
    "q15 = db.movies.count_documents({\n",
    "    \"$expr\": {\n",
    "        \"$gte\": [{\"$size\": {\"$ifNull\": [\"$directors\", []]}}, 3]\n",
    "    }\n",
    "})\n",
    "with open('answers/q15.pkl', 'wb') as f:\n",
    "   pickle.dump(q15, f)"
   ]
  },
  {
   "cell_type": "code",
   "execution_count": null,
   "id": "f7b781d8-4bd2-4746-ba57-39eb4ef1f719",
   "metadata": {},
   "outputs": [],
   "source": [
    "#### Q16: Find the total number of comments made on movies released in 2010."
   ]
  },
  {
   "cell_type": "code",
   "execution_count": 23,
   "id": "4a1d47d2-9e04-4be3-b00f-4465199160f8",
   "metadata": {},
   "outputs": [],
   "source": [
    "#q16\n",
    "\n",
    "q16 = db.comments.count_documents({\n",
    "    \"movie_id\": {\n",
    "        \"$in\": [\n",
    "            movie[\"_id\"] for movie in db.movies.find({\"year\": 2010})\n",
    "        ]\n",
    "    }\n",
    "})\n",
    "\n",
    "with open('answers/q16.pkl', 'wb') as f:\n",
    "   pickle.dump(q16, f)"
   ]
  },
  {
   "cell_type": "code",
   "execution_count": null,
   "id": "46adf819-0fae-408e-bc8d-1fd7dca97222",
   "metadata": {},
   "outputs": [],
   "source": [
    "#### Q17: Find all unique users who have commented on \"Action\" movies."
   ]
  },
  {
   "cell_type": "code",
   "execution_count": 24,
   "id": "21f40d94-027c-434f-91b6-77dddd3d196b",
   "metadata": {},
   "outputs": [],
   "source": [
    "#q17\n",
    "\n",
    "q17 = db.comments.distinct(\"name\",{\n",
    "    \"movie_id\": {\n",
    "        \"$in\": [\n",
    "            movie[\"_id\"] for movie in db.movies.find({\n",
    "                \"genres\": {\n",
    "                    \"$in\": [\"Action\"]\n",
    "                } \n",
    "            })\n",
    "        ]\n",
    "    }\n",
    "})\n",
    "\n",
    "with open('answers/q17.pkl', 'wb') as f:\n",
    "   pickle.dump(q17, f)"
   ]
  },
  {
   "cell_type": "code",
   "execution_count": null,
   "id": "0357182d-5a23-45cb-b2ef-2cccd2c12842",
   "metadata": {},
   "outputs": [],
   "source": [
    "#### Q18: Find all comments made on or after August 13th, 2018."
   ]
  },
  {
   "cell_type": "code",
   "execution_count": 25,
   "id": "24f304f0-fbf8-4ca2-bc01-9b1305c03c5c",
   "metadata": {},
   "outputs": [],
   "source": [
    "#q18\n",
    "\n",
    "q18 = list(db.comments.find({\n",
    "    \"date\" : {\n",
    "        \"$gte\" : datetime.datetime(2018, 8, 13)\n",
    "    }\n",
    "}))\n",
    "\n",
    "with open('answers/q18.pkl', 'wb') as f:\n",
    "   pickle.dump(q18, f)"
   ]
  },
  {
   "cell_type": "code",
   "execution_count": null,
   "id": "68e42589-4471-4578-8a2d-1a50ef4c4190",
   "metadata": {},
   "outputs": [],
   "source": [
    "#### Q19: Count the total number of comments made on movies directed by \"Steven Spielberg\"."
   ]
  },
  {
   "cell_type": "code",
   "execution_count": 26,
   "id": "f21854b1-ae01-4807-9e04-4d441b6718aa",
   "metadata": {},
   "outputs": [],
   "source": [
    "#q19\n",
    "\n",
    "q19 = db.comments.count_documents({\n",
    "    \"movie_id\": {\n",
    "        \"$in\": [\n",
    "            movie[\"_id\"] for movie in db.movies.find({\n",
    "                \"directors\" : {\n",
    "                    \"$in\" : [\"Steven Spielberg\"]\n",
    "                }\n",
    "            })\n",
    "        ]\n",
    "    }\n",
    "})\n",
    "\n",
    "with open('answers/q19.pkl', 'wb') as f:\n",
    "   pickle.dump(q19, f)"
   ]
  },
  {
   "cell_type": "code",
   "execution_count": null,
   "id": "c4e0ac62-5cd6-4315-839c-37423c7bd3d1",
   "metadata": {},
   "outputs": [],
   "source": [
    "#### Q20: Find the 10 most recent movies with an IMDb rating greater than 9.0."
   ]
  },
  {
   "cell_type": "code",
   "execution_count": 27,
   "id": "00f3fd6c-6d60-467b-b83d-ab9cf38d9627",
   "metadata": {},
   "outputs": [],
   "source": [
    "#q20\n",
    "\n",
    "q20 = list(db.movies.find({\n",
    "    \"imdb.rating\" : {\n",
    "        \"$gt\" : 9.0\n",
    "    }\n",
    "}, {\"_id\": 0, \"title\": 1, \"imdb.rating\": 1, \"released\": 1}).sort(\"released\", DESCENDING).limit(10))\n",
    "\n",
    "with open('answers/q20.pkl', 'wb') as f:\n",
    "   pickle.dump(q20, f)"
   ]
  },
  {
   "cell_type": "code",
   "execution_count": null,
   "id": "1ed9988f-a2da-4d11-8df6-531d1eb93500",
   "metadata": {},
   "outputs": [],
   "source": [
    "#### Q21: Find the total number of movies that have no comments."
   ]
  },
  {
   "cell_type": "code",
   "execution_count": 28,
   "id": "2993fd8f-49ba-4224-818e-b66ad6bd682a",
   "metadata": {},
   "outputs": [],
   "source": [
    "#q21\n",
    "\n",
    "q21 = db.movies.count_documents({\n",
    "    \"_id\": {\n",
    "        \"$nin\": [\n",
    "            comment[\"movie_id\"] for comment in db.comments.find({}, {\"movie_id\": 1, \"_id\": 0})\n",
    "        ]\n",
    "    }\n",
    "})\n",
    "\n",
    "with open('answers/q21.pkl', 'wb') as f:\n",
    "   pickle.dump(q21, f)"
   ]
  },
  {
   "cell_type": "code",
   "execution_count": null,
   "id": "a8a33039-9491-4cab-b3a7-1ca856196b2f",
   "metadata": {},
   "outputs": [],
   "source": [
    "#### Q22: Find the total number of movies where the title starts with \"The\"."
   ]
  },
  {
   "cell_type": "code",
   "execution_count": 29,
   "id": "20d9fd56-3159-4a0a-a6b7-e3c4dca1409d",
   "metadata": {},
   "outputs": [],
   "source": [
    "#q22\n",
    "\n",
    "q22 = db.movies.count_documents({\n",
    "    \"title\": {\n",
    "        \"$regex\": \"^The\"\n",
    "    }\n",
    "})\n",
    "\n",
    "with open('answers/q22.pkl', 'wb') as f:\n",
    "   pickle.dump(q22, f)"
   ]
  },
  {
   "cell_type": "code",
   "execution_count": null,
   "id": "c6e6540a-f0ff-470a-8e33-40d4274a5923",
   "metadata": {},
   "outputs": [],
   "source": [
    "#### Q23: Find the average IMDb rating of all \"Action\" movies."
   ]
  },
  {
   "cell_type": "code",
   "execution_count": 30,
   "id": "37b884c9-0673-45ae-a66d-bfdd4c627db8",
   "metadata": {},
   "outputs": [],
   "source": [
    "#q23\n",
    "\n",
    "pipeline = [\n",
    "    {\n",
    "        \"$match\": {\n",
    "            \"genres\": {\n",
    "                \"$in\": [\"Action\"]\n",
    "            }\n",
    "        }\n",
    "    },\n",
    "    {\n",
    "        \"$group\": {\n",
    "            \"_id\": None, \"average_rating\": {\n",
    "                \"$avg\": \"$imdb.rating\"\n",
    "            }\n",
    "        }\n",
    "    },\n",
    "    {\n",
    "        \"$project\": {\n",
    "            \"_id\": 0,\n",
    "            \"average_rating\": {\n",
    "                    \"$round\": [\"$average_rating\", 2]\n",
    "            }\n",
    "        }\n",
    "    }\n",
    "]\n",
    "\n",
    "q23 = list(db.movies.aggregate(pipeline))\n",
    "\n",
    "with open('answers/q23.pkl', 'wb') as f:\n",
    "   pickle.dump(q23, f)"
   ]
  },
  {
   "cell_type": "code",
   "execution_count": null,
   "id": "22c21af2-4095-44a8-b14b-81bbd394364c",
   "metadata": {},
   "outputs": [],
   "source": [
    "#### Q24: Find the top 5 users who have made the most comments."
   ]
  },
  {
   "cell_type": "code",
   "execution_count": 31,
   "id": "4a6736cc-df2f-4a1b-af75-d20e3ac3ebf2",
   "metadata": {},
   "outputs": [],
   "source": [
    "#q24\n",
    "\n",
    "pipeline = [\n",
    "    {\n",
    "        \"$group\": {\n",
    "            \"_id\": \"$name\", \n",
    "            \"total_comments\": {\n",
    "                \"$sum\": 1\n",
    "            }\n",
    "        }\n",
    "    },\n",
    "    {\n",
    "        \"$sort\": {\n",
    "            \"total_comments\": -1,\n",
    "            \"_id\": 1\n",
    "        }\n",
    "    },\n",
    "    {\n",
    "        \"$limit\": 5\n",
    "    }\n",
    "]\n",
    "\n",
    "q24 = list(db.comments.aggregate(pipeline))\n",
    "\n",
    "with open('answers/q24.pkl', 'wb') as f:\n",
    "   pickle.dump(q24, f)"
   ]
  },
  {
   "cell_type": "code",
   "execution_count": null,
   "id": "d315e48d-a3bf-4e5a-9c93-0618a5a8650c",
   "metadata": {},
   "outputs": [],
   "source": [
    "#### Q25: Find the 5 most commented movies in the database."
   ]
  },
  {
   "cell_type": "code",
   "execution_count": 32,
   "id": "adc71044-1993-4db5-8a23-2db34184589b",
   "metadata": {},
   "outputs": [],
   "source": [
    "#q25\n",
    "\n",
    "pipeline = [\n",
    "    {\n",
    "        \"$group\": {\n",
    "            \"_id\": \"$movie_id\", \n",
    "            \"total_comments\": {\n",
    "                \"$sum\": 1\n",
    "            }\n",
    "        }\n",
    "    },\n",
    "    {\n",
    "      \"$lookup\": {\n",
    "          \"from\": \"movies\",\n",
    "          \"localField\": \"_id\",\n",
    "          \"foreignField\": \"_id\",\n",
    "          \"as\": \"movie_info\"\n",
    "      }  \n",
    "    },\n",
    "    {\n",
    "        \"$sort\": {\n",
    "            \"total_comments\": -1,\n",
    "            \"movie_info.title\": 1\n",
    "        }\n",
    "    },\n",
    "    {\n",
    "        \"$project\": {\n",
    "            \"_id\": 1,\n",
    "            \"total_comments\": 1\n",
    "        }\n",
    "    },\n",
    "    {\n",
    "        \"$limit\": 5\n",
    "    }\n",
    "]\n",
    "\n",
    "q25 = list(db.comments.aggregate(pipeline))\n",
    "\n",
    "with open('answers/q25.pkl', 'wb') as f:\n",
    "   pickle.dump(q25, f)"
   ]
  },
  {
   "cell_type": "code",
   "execution_count": null,
   "id": "7f665ff1-660d-444e-b624-f0ad067dbde5",
   "metadata": {},
   "outputs": [],
   "source": [
    "#### Q26: Find the average runtime of all movies in the \"Sci-Fi\" genre."
   ]
  },
  {
   "cell_type": "code",
   "execution_count": 33,
   "id": "f4662690-ab6f-4ff9-90d7-88e85b59c605",
   "metadata": {},
   "outputs": [],
   "source": [
    "#q26\n",
    "\n",
    "pipeline = [\n",
    "    {\n",
    "        \"$match\": {\n",
    "            \"genres\": {\n",
    "                \"$in\": [\"Sci-Fi\"]\n",
    "            }\n",
    "        }\n",
    "    },\n",
    "    {\n",
    "        \"$group\": {\n",
    "            \"_id\": None, \"average_runtime\": {\n",
    "                \"$avg\": \"$runtime\"\n",
    "            }\n",
    "        }\n",
    "    },\n",
    "    {\n",
    "        \"$project\": {\n",
    "            \"_id\": 0,\n",
    "            \"average_runtime\": {\n",
    "                    \"$round\": [\"$average_runtime\", 2]\n",
    "            }\n",
    "        }\n",
    "    }\n",
    "]\n",
    "\n",
    "q26 = list(db.movies.aggregate(pipeline))\n",
    "\n",
    "with open('answers/q26.pkl', 'wb') as f:\n",
    "   pickle.dump(q26, f)"
   ]
  },
  {
   "cell_type": "code",
   "execution_count": null,
   "id": "a032ec66-a6f0-4717-8993-f2fe82312c54",
   "metadata": {},
   "outputs": [],
   "source": [
    "#### Q27: Find the top 3 directors by the number of movies they directed."
   ]
  },
  {
   "cell_type": "code",
   "execution_count": 34,
   "id": "768d55e1-37b9-4c1a-b213-8a585172fc75",
   "metadata": {},
   "outputs": [],
   "source": [
    "#q27\n",
    "\n",
    "pipeline = [\n",
    "    {\n",
    "        \"$unwind\": \"$directors\"\n",
    "    },\n",
    "    {\n",
    "        \"$group\": {\n",
    "            \"_id\": \"$directors\", \n",
    "            \"count\": {\n",
    "                \"$sum\": 1\n",
    "            }\n",
    "        }\n",
    "    },\n",
    "    {\n",
    "        \"$sort\": {\n",
    "            \"count\": -1,\n",
    "            \"_id\": 1\n",
    "        }\n",
    "    },\n",
    "    {\n",
    "        \"$limit\": 3\n",
    "    }\n",
    "]\n",
    "\n",
    "q27 = list(db.movies.aggregate(pipeline))\n",
    "\n",
    "with open('answers/q27.pkl', 'wb') as f:\n",
    "   pickle.dump(q27, f)"
   ]
  },
  {
   "cell_type": "code",
   "execution_count": null,
   "id": "db9ebdd7-82df-401b-b3f4-aea84c34515b",
   "metadata": {},
   "outputs": [],
   "source": [
    "#### Q28: Find the top 5 most active users (based on the number of comments)."
   ]
  },
  {
   "cell_type": "code",
   "execution_count": 35,
   "id": "8122b5d6-3bb2-4817-a8d1-7f343d5b39e2",
   "metadata": {},
   "outputs": [],
   "source": [
    "#q28\n",
    "\n",
    "pipeline = [\n",
    "    {\n",
    "        \"$group\": {\n",
    "            \"_id\": \"$email\",\n",
    "            \"comment_count\": {\n",
    "                \"$sum\": 1\n",
    "            }\n",
    "        }\n",
    "    },\n",
    "    {\n",
    "        \"$sort\": {\n",
    "            \"comment_count\": -1,\n",
    "        }\n",
    "    },\n",
    "    {\n",
    "        \"$project\": {\n",
    "            \"_id\": 0,\n",
    "            \"email\": \"$_id\",\n",
    "            \"comment_count\": 1   \n",
    "        }\n",
    "    },\n",
    "    {\n",
    "        \"$limit\": 5\n",
    "    }\n",
    "]\n",
    "\n",
    "q28 = list(db.comments.aggregate(pipeline))\n",
    "\n",
    "with open('answers/q28.pkl', 'wb') as f:\n",
    "   pickle.dump(q28, f)"
   ]
  },
  {
   "cell_type": "code",
   "execution_count": null,
   "id": "2031e9b3-ba9b-463c-85ca-2c0ae87ffbe4",
   "metadata": {},
   "outputs": [],
   "source": [
    "#### Q29: Find the average IMDb rating for each genre and list the top 5 genres with the highest average rating."
   ]
  },
  {
   "cell_type": "code",
   "execution_count": 36,
   "id": "6e9b714f-536b-4e40-913f-da2be39f4072",
   "metadata": {},
   "outputs": [],
   "source": [
    "#q29\n",
    "\n",
    "pipeline = [\n",
    "    {\n",
    "        \"$unwind\": \"$genres\"\n",
    "    },\n",
    "    {\n",
    "        \"$group\": {\n",
    "            \"_id\": \"$genres\", \n",
    "            \"average_rating\": {\n",
    "                \"$avg\": \"$imdb.rating\"\n",
    "            }\n",
    "        }\n",
    "    },\n",
    "    {\n",
    "        \"$sort\": {\n",
    "            \"average_rating\": -1\n",
    "        }\n",
    "    },\n",
    "    {\n",
    "        \"$project\": {\n",
    "            \"_id\": 1,\n",
    "            \"average_rating\": {\n",
    "                    \"$round\": [\"$average_rating\", 2]\n",
    "            }\n",
    "        }\n",
    "    },\n",
    "    {\n",
    "        \"$limit\": 5\n",
    "    }\n",
    "]\n",
    "\n",
    "q29 = list(db.movies.aggregate(pipeline))\n",
    "\n",
    "with open('answers/q29.pkl', 'wb') as f:\n",
    "   pickle.dump(q29, f)"
   ]
  },
  {
   "cell_type": "code",
   "execution_count": null,
   "id": "86b0b09a-44d5-4309-b12d-e863b0226688",
   "metadata": {},
   "outputs": [],
   "source": [
    "#### Q30: Find all users who have commented on both \"Action\" and \"Drama\" movies."
   ]
  },
  {
   "cell_type": "code",
   "execution_count": 37,
   "id": "6fc84ba1-6362-487f-8638-677840741676",
   "metadata": {},
   "outputs": [],
   "source": [
    "#q30\n",
    "\n",
    "pipeline = [\n",
    "    {\n",
    "        \"$lookup\": {\n",
    "            \"from\": \"movies\",\n",
    "            \"localField\": \"movie_id\",\n",
    "            \"foreignField\": \"_id\",\n",
    "            \"as\": \"movie\"\n",
    "        }\n",
    "    },\n",
    "    {\n",
    "        \"$unwind\": \"$movie\"\n",
    "    },\n",
    "    {\n",
    "        \"$unwind\": \"$movie.genres\"\n",
    "    },\n",
    "    {\n",
    "        \"$group\": {\n",
    "            \"_id\": \"$name\",\n",
    "            \"genres\": { \n",
    "                \"$addToSet\": \"$movie.genres\" \n",
    "            }\n",
    "        }\n",
    "    },\n",
    "    {\n",
    "        \"$match\": {\n",
    "            \"genres\" : {\n",
    "                \"$all\": [\"Action\", \"Drama\"]\n",
    "            }\n",
    "        }\n",
    "    },\n",
    "    {\n",
    "        \"$sort\": {\n",
    "            \"_id\": 1 \n",
    "        }\n",
    "    },\n",
    "    {\n",
    "        \"$project\": {\n",
    "            \"_id\": 1,\n",
    "        }\n",
    "    }\n",
    "]\n",
    "\n",
    "q30 = list(db.comments.aggregate(pipeline))\n",
    "\n",
    "with open('answers/q30.pkl', 'wb') as f:\n",
    "   pickle.dump(q30, f)"
   ]
  },
  {
   "cell_type": "code",
   "execution_count": null,
   "id": "b88fcb63-1f31-4994-bbb6-9bdc46113f0c",
   "metadata": {},
   "outputs": [],
   "source": [
    "#### Q31: Find the user who commented on the most distinct movies (i.e., most distinct movie_ids)."
   ]
  },
  {
   "cell_type": "code",
   "execution_count": 38,
   "id": "2f1d285c-a3a3-49eb-92dd-2f05642e18eb",
   "metadata": {},
   "outputs": [],
   "source": [
    "#q31\n",
    "\n",
    "pipeline = [\n",
    "    {\n",
    "        \"$group\": {\n",
    "            \"_id\": \"$name\",\n",
    "            \"unique_movies\": {\n",
    "                \"$addToSet\": \"$movie_id\" \n",
    "            }\n",
    "        }\n",
    "    },\n",
    "    {\n",
    "        \"$project\" : {\n",
    "            \"_id\": 1,\n",
    "            \"unique_movies\": {\n",
    "                \"$size\": \"$unique_movies\"\n",
    "            }\n",
    "        }\n",
    "    },\n",
    "    {\n",
    "        \"$sort\": {\n",
    "            \"unique_movies\": -1\n",
    "        }\n",
    "    },\n",
    "    {\n",
    "        \"$project\": {\n",
    "            \"_id\": 1,\n",
    "            \"unique_movies\": 1   \n",
    "        }\n",
    "    },\n",
    "    {\n",
    "        \"$limit\": 1\n",
    "    }\n",
    "]\n",
    "\n",
    "q31 = list(db.comments.aggregate(pipeline))\n",
    "\n",
    "with open('answers/q31.pkl', 'wb') as f:\n",
    "   pickle.dump(q31, f)"
   ]
  },
  {
   "cell_type": "code",
   "execution_count": null,
   "id": "44f60220-95ef-4ae6-9dd1-e35494ed0ad2",
   "metadata": {},
   "outputs": [],
   "source": [
    "#### Q32: Find all theaters located in Wisconsin (WI) and plot them on a map of WI."
   ]
  },
  {
   "cell_type": "code",
   "execution_count": 39,
   "id": "37dec63b-95f8-4a9c-81ac-199a8e3c8210",
   "metadata": {},
   "outputs": [
    {
     "data": {
      "image/png": "[encoded data removed]",
      "text/plain": [
       "<Figure size 1000x600 with 1 Axes>"
      ]
     },
     "metadata": {},
     "output_type": "display_data"
    }
   ],
   "source": [
    "#q32\n",
    "\n",
    "q32 = list(db.theaters.find({\"location.address.state\" : \"WI\"}))\n",
    "plot_theaters(q32, \"wi\", \"q32\")"
   ]
  },
  {
   "cell_type": "code",
   "execution_count": null,
   "id": "31b370f1-b5ae-4f24-9fac-ddee654c473b",
   "metadata": {},
   "outputs": [],
   "source": [
    "#### Q33: Find the top 2 theaters nearest to the Peninsula State Park and plot them on a map of WI."
   ]
  },
  {
   "cell_type": "code",
   "execution_count": 40,
   "id": "1bee7170-37b0-4847-8c19-1785815bf632",
   "metadata": {},
   "outputs": [
    {
     "data": {
      "image/png": "[encoded data removed]",
      "text/plain": [
       "<Figure size 1000x600 with 1 Axes>"
      ]
     },
     "metadata": {},
     "output_type": "display_data"
    }
   ],
   "source": [
    "#q33\n",
    "\n",
    "db.theaters.create_index([(\"location.geo\", \"2dsphere\")])\n",
    "peninsula_coordinates = [-87.22109, 45.15602]\n",
    "\n",
    "q33 = list(db.theaters.find(\n",
    "   {\n",
    "     \"location.geo\":\n",
    "       { \"$near\" :\n",
    "          {\n",
    "            \"$geometry\": { \"type\": \"Point\",  \"coordinates\": peninsula_coordinates },\n",
    "            \"$maxDistance\": 1000 * 1000  \n",
    "          }\n",
    "       }\n",
    "   }\n",
    ").limit(2))\n",
    "plot_theaters(q33, \"wi\", \"q33\")"
   ]
  },
  {
   "cell_type": "code",
   "execution_count": null,
   "id": "8843e635-e087-4221-83c5-d644e07ff9b9",
   "metadata": {},
   "outputs": [],
   "source": [
    "#### Q34: Find theaters within 10 miles of the UW-Madison and plot them on a map of Madison."
   ]
  },
  {
   "cell_type": "code",
   "execution_count": 41,
   "id": "abdf0654-db72-433e-a010-bcfa23164723",
   "metadata": {},
   "outputs": [
    {
     "data": {
      "image/png": "[encoded data removed]",
      "text/plain": [
       "<Figure size 1000x600 with 1 Axes>"
      ]
     },
     "metadata": {},
     "output_type": "display_data"
    }
   ],
   "source": [
    "#q34\n",
    "\n",
    "db.theaters.create_index([(\"location.geo\", \"2dsphere\")])\n",
    "uw_mad_coordinates = [-89.40816, 43.07540]\n",
    "\n",
    "q34 = list(db.theaters.find(\n",
    "   {\n",
    "     \"location.geo\":\n",
    "       { \"$near\" :\n",
    "          {\n",
    "            \"$geometry\": { \"type\": \"Point\",  \"coordinates\": uw_mad_coordinates },\n",
    "            \"$maxDistance\": 16093.4  \n",
    "          }\n",
    "       }\n",
    "   }\n",
    "))\n",
    "plot_theaters(q34, \"madison\", \"q34\")"
   ]
  },
  {
   "cell_type": "code",
   "execution_count": null,
   "id": "73ff2424-a670-4cd0-a49d-42330e4191ec",
   "metadata": {},
   "outputs": [],
   "source": []
  }
 ],
 "metadata": {
  "kernelspec": {
   "display_name": "Python 3 (ipykernel)",
   "language": "python",
   "name": "python3"
  },
  "language_info": {
   "codemirror_mode": {
    "name": "ipython",
    "version": 3
   },
   "file_extension": ".py",
   "mimetype": "text/x-python",
   "name": "python",
   "nbconvert_exporter": "python",
   "pygments_lexer": "ipython3",
   "version": "3.10.12"
  }
 },
 "nbformat": 4,
 "nbformat_minor": 5
}
